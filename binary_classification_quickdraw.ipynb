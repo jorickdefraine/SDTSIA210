{
 "cells": [
  {
   "cell_type": "markdown",
   "metadata": {},
   "source": [
    "**Imports**"
   ]
  },
  {
   "cell_type": "code",
   "execution_count": 19,
   "metadata": {},
   "outputs": [],
   "source": [
    "import numpy as np\n",
    "import pandas as pd\n",
    "import seaborn as sns\n",
    "import matplotlib.pyplot as plt\n",
    "\n",
    "from keras.models import Sequential\n",
    "from keras.layers import Dense, Dropout\n",
    "from tensorflow.keras.callbacks import EarlyStopping\n",
    "\n",
    "from sklearn.preprocessing import MinMaxScaler\n",
    "from sklearn.ensemble import RandomForestClassifier\n",
    "from sklearn.metrics import mean_squared_error, classification_report, confusion_matrix, roc_curve, auc"
   ]
  },
  {
   "cell_type": "markdown",
   "metadata": {},
   "source": [
    "**Preparing the Data**"
   ]
  },
  {
   "cell_type": "code",
   "execution_count": 20,
   "metadata": {},
   "outputs": [],
   "source": [
    "grapes = np.load('Quidraw_data/G_36_grapes.npy')\n",
    "ant = np.load('Quidraw_data/G_36_ant.npy')\n",
    "test_images = np.load('Quidraw_data/test_images.npy')\n",
    "test_labels = np.load('Quidraw_data/test_labels.npy')"
   ]
  },
  {
   "cell_type": "markdown",
   "metadata": {},
   "source": [
    "We want to be sure that we have grapes in the grapes.npy and ant in ant.npy."
   ]
  },
  {
   "cell_type": "code",
   "execution_count": 21,
   "metadata": {},
   "outputs": [
    {
     "data": {
      "image/png": "[encoded data removed]",
      "text/plain": [
       "<Figure size 432x288 with 1 Axes>"
      ]
     },
     "metadata": {
      "needs_background": "light"
     },
     "output_type": "display_data"
    },
    {
     "data": {
      "image/png": "[encoded data removed]",
      "text/plain": [
       "<Figure size 432x288 with 1 Axes>"
      ]
     },
     "metadata": {
      "needs_background": "light"
     },
     "output_type": "display_data"
    }
   ],
   "source": [
    "plt.imshow(grapes[0].reshape(28,28), cmap='gray')\n",
    "plt.show()\n",
    "plt.imshow(ant[0].reshape(28,28), cmap='gray')\n",
    "plt.show()"
   ]
  },
  {
   "cell_type": "markdown",
   "metadata": {},
   "source": [
    "Now, we need to know what contains test_images.npy. With this visualization, we see that they are ants until the 500th.\n",
    "Then, they are grapes until the last images. We show also the shapes of test images to know how much they are."
   ]
  },
  {
   "cell_type": "markdown",
   "metadata": {},
   "source": [
    "We see that they are 2000 train images and 1000 test images.\n",
    "So we have a ratio of 1/3 test images on the dataset as a whole.\n",
    "Which is a quite pretty usual ratio.\n",
    "Looking for the shape of test_labels.npy we can know if they are errors or not in the dataset.\n",
    "We can see that they are not."
   ]
  },
  {
   "cell_type": "code",
   "execution_count": 22,
   "metadata": {},
   "outputs": [
    {
     "data": {
      "image/png": "[encoded data removed]",
      "text/plain": [
       "<Figure size 432x288 with 1 Axes>"
      ]
     },
     "metadata": {
      "needs_background": "light"
     },
     "output_type": "display_data"
    },
    {
     "name": "stdout",
     "output_type": "stream",
     "text": [
      "0\n"
     ]
    }
   ],
   "source": [
    "plt.imshow(test_images[100].reshape(28,28), cmap='gray')\n",
    "plt.show()\n",
    "print(test_labels[100])"
   ]
  },
  {
   "cell_type": "code",
   "execution_count": 23,
   "metadata": {},
   "outputs": [],
   "source": [
    "train_images = np.concatenate((ant,grapes),axis=0)"
   ]
  },
  {
   "cell_type": "code",
   "execution_count": 24,
   "metadata": {},
   "outputs": [
    {
     "data": {
      "image/png": "[encoded data removed]",
      "text/plain": [
       "<Figure size 432x288 with 1 Axes>"
      ]
     },
     "metadata": {
      "needs_background": "light"
     },
     "output_type": "display_data"
    },
    {
     "data": {
      "image/png": "[encoded data removed]",
      "text/plain": [
       "<Figure size 432x288 with 1 Axes>"
      ]
     },
     "metadata": {
      "needs_background": "light"
     },
     "output_type": "display_data"
    }
   ],
   "source": [
    "plt.imshow(train_images[0].reshape(28,28), cmap='gray')\n",
    "plt.show()\n",
    "plt.imshow(train_images[1000].reshape(28,28), cmap='gray')\n",
    "plt.show()"
   ]
  },
  {
   "cell_type": "markdown",
   "metadata": {},
   "source": [
    "Here, we create a train_labels variable that contain the labels for the training images. \n",
    "We identified above that 0 are for ant and 1 for grapes."
   ]
  },
  {
   "cell_type": "code",
   "execution_count": 25,
   "metadata": {},
   "outputs": [],
   "source": [
    "train_labels = np.concatenate((np.zeros(1000),np.ones(1000)),axis=0)"
   ]
  },
  {
   "cell_type": "markdown",
   "metadata": {},
   "source": [
    "Here, we prepare the data by scaling them using the MinMaxScaler() function because we want to have normalized data. Therefore, we could easily pass data into a neural network without having bit outlayers and not having too much difference between data."
   ]
  },
  {
   "cell_type": "markdown",
   "metadata": {},
   "source": [
    "We obtain a minimum of 0 and a maximum of 1.\n",
    "We don't apply the scaler.fit() to the test images because we want the neural understand test as unseen data."
   ]
  },
  {
   "cell_type": "code",
   "execution_count": 26,
   "metadata": {},
   "outputs": [],
   "source": [
    "scaler=MinMaxScaler()\n",
    "scaler.fit(train_images)\n",
    "train_images = scaler.transform(train_images)\n",
    "test_images = scaler.transform(test_images)"
   ]
  },
  {
   "cell_type": "code",
   "execution_count": 27,
   "metadata": {},
   "outputs": [
    {
     "data": {
      "text/plain": [
       "0.0"
      ]
     },
     "execution_count": 27,
     "metadata": {},
     "output_type": "execute_result"
    }
   ],
   "source": [
    "train_images.min()"
   ]
  },
  {
   "cell_type": "code",
   "execution_count": 28,
   "metadata": {},
   "outputs": [
    {
     "data": {
      "text/plain": [
       "1.0"
      ]
     },
     "execution_count": 28,
     "metadata": {},
     "output_type": "execute_result"
    }
   ],
   "source": [
    "train_images.max()"
   ]
  },
  {
   "cell_type": "markdown",
   "metadata": {},
   "source": [
    "**Creating and Training the Baseline Model**"
   ]
  },
  {
   "cell_type": "markdown",
   "metadata": {},
   "source": [
    "Here, we create a simple baseline model with only one neural like the perceptron model. \n",
    "We chose to focus our studies on neural networks because they can easier identify patterns in images than others model.\n",
    "We will see in conclusion what could be the alternative."
   ]
  },
  {
   "cell_type": "markdown",
   "metadata": {},
   "source": [
    "About the activation function, we chose the sigmoid funciton because it is appropiate for binary classification. \n",
    "The purpose of this study is binary classification so we defined the loss as 'binary_crossentropy' also. \n",
    "We decide to choose the metrics \"accuracy\" and the optimizer \"adam\" but we will see below that we will use others\n",
    "metrics more relevant to evaluate the model."
   ]
  },
  {
   "cell_type": "code",
   "execution_count": 29,
   "metadata": {},
   "outputs": [],
   "source": [
    "model =  Sequential()\n",
    "\n",
    "model.add(Dense(1, input_dim=784, activation = \"sigmoid\"))\n",
    "\n",
    "model.compile(optimizer = 'adam',\n",
    "             loss = 'binary_crossentropy',\n",
    "             metrics = ['accuracy'])"
   ]
  },
  {
   "cell_type": "markdown",
   "metadata": {},
   "source": [
    "At the beginning, we don't know the number of epochs needed so we volontary choose a high number of epochs.\n",
    "We will see below how to optimize this parameter."
   ]
  },
  {
   "cell_type": "code",
   "execution_count": 30,
   "metadata": {
    "scrolled": true
   },
   "outputs": [
    {
     "name": "stdout",
     "output_type": "stream",
     "text": [
      "Epoch 1/200\n",
      "63/63 [==============================] - 0s 4ms/step - loss: 0.5543 - accuracy: 0.7235 - val_loss: 0.4869 - val_accuracy: 0.7800\n",
      "Epoch 2/200\n",
      "63/63 [==============================] - 0s 1ms/step - loss: 0.4510 - accuracy: 0.8125 - val_loss: 0.4681 - val_accuracy: 0.8020\n",
      "Epoch 3/200\n",
      "63/63 [==============================] - 0s 988us/step - loss: 0.4339 - accuracy: 0.8240 - val_loss: 0.4584 - val_accuracy: 0.8040\n",
      "Epoch 4/200\n",
      "63/63 [==============================] - 0s 1ms/step - loss: 0.4222 - accuracy: 0.8290 - val_loss: 0.4532 - val_accuracy: 0.8100\n",
      "Epoch 5/200\n",
      "63/63 [==============================] - 0s 1ms/step - loss: 0.4126 - accuracy: 0.8330 - val_loss: 0.4492 - val_accuracy: 0.8120\n",
      "Epoch 6/200\n",
      "63/63 [==============================] - 0s 1ms/step - loss: 0.4078 - accuracy: 0.8390 - val_loss: 0.4467 - val_accuracy: 0.8120\n",
      "Epoch 7/200\n",
      "63/63 [==============================] - 0s 1ms/step - loss: 0.3997 - accuracy: 0.8415 - val_loss: 0.4454 - val_accuracy: 0.8150\n",
      "Epoch 8/200\n",
      "63/63 [==============================] - 0s 1ms/step - loss: 0.3946 - accuracy: 0.8455 - val_loss: 0.4427 - val_accuracy: 0.8180\n",
      "Epoch 9/200\n",
      "63/63 [==============================] - 0s 997us/step - loss: 0.3899 - accuracy: 0.8450 - val_loss: 0.4429 - val_accuracy: 0.8190\n",
      "Epoch 10/200\n",
      "63/63 [==============================] - 0s 944us/step - loss: 0.3865 - accuracy: 0.8435 - val_loss: 0.4473 - val_accuracy: 0.8210\n",
      "Epoch 11/200\n",
      "63/63 [==============================] - 0s 1ms/step - loss: 0.3822 - accuracy: 0.8525 - val_loss: 0.4430 - val_accuracy: 0.8210\n",
      "Epoch 12/200\n",
      "63/63 [==============================] - 0s 1ms/step - loss: 0.3791 - accuracy: 0.8490 - val_loss: 0.4409 - val_accuracy: 0.8190\n",
      "Epoch 13/200\n",
      "63/63 [==============================] - 0s 931us/step - loss: 0.3766 - accuracy: 0.8505 - val_loss: 0.4434 - val_accuracy: 0.8200\n",
      "Epoch 14/200\n",
      "63/63 [==============================] - 0s 970us/step - loss: 0.3729 - accuracy: 0.8525 - val_loss: 0.4412 - val_accuracy: 0.8230\n",
      "Epoch 15/200\n",
      "63/63 [==============================] - 0s 1ms/step - loss: 0.3687 - accuracy: 0.8540 - val_loss: 0.4473 - val_accuracy: 0.8260\n",
      "Epoch 16/200\n",
      "63/63 [==============================] - 0s 1ms/step - loss: 0.3654 - accuracy: 0.8600 - val_loss: 0.4417 - val_accuracy: 0.8180\n",
      "Epoch 17/200\n",
      "63/63 [==============================] - 0s 1ms/step - loss: 0.3645 - accuracy: 0.8530 - val_loss: 0.4408 - val_accuracy: 0.8250\n",
      "Epoch 18/200\n",
      "63/63 [==============================] - 0s 2ms/step - loss: 0.3644 - accuracy: 0.8520 - val_loss: 0.4406 - val_accuracy: 0.8210\n",
      "Epoch 19/200\n",
      "63/63 [==============================] - 0s 2ms/step - loss: 0.3603 - accuracy: 0.8585 - val_loss: 0.4408 - val_accuracy: 0.8200\n",
      "Epoch 20/200\n",
      "63/63 [==============================] - 0s 1ms/step - loss: 0.3579 - accuracy: 0.8590 - val_loss: 0.4434 - val_accuracy: 0.8240\n",
      "Epoch 21/200\n",
      "63/63 [==============================] - 0s 1ms/step - loss: 0.3555 - accuracy: 0.8585 - val_loss: 0.4431 - val_accuracy: 0.8250\n",
      "Epoch 22/200\n",
      "63/63 [==============================] - 0s 922us/step - loss: 0.3545 - accuracy: 0.8620 - val_loss: 0.4407 - val_accuracy: 0.8180\n",
      "Epoch 23/200\n",
      "63/63 [==============================] - 0s 931us/step - loss: 0.3517 - accuracy: 0.8620 - val_loss: 0.4435 - val_accuracy: 0.8220\n",
      "Epoch 24/200\n",
      "63/63 [==============================] - 0s 1ms/step - loss: 0.3509 - accuracy: 0.8640 - val_loss: 0.4412 - val_accuracy: 0.8250\n",
      "Epoch 25/200\n",
      "63/63 [==============================] - 0s 1ms/step - loss: 0.3488 - accuracy: 0.8640 - val_loss: 0.4419 - val_accuracy: 0.8250\n",
      "Epoch 26/200\n",
      "63/63 [==============================] - 0s 1ms/step - loss: 0.3464 - accuracy: 0.8660 - val_loss: 0.4427 - val_accuracy: 0.8250\n",
      "Epoch 27/200\n",
      "63/63 [==============================] - 0s 1ms/step - loss: 0.3450 - accuracy: 0.8645 - val_loss: 0.4413 - val_accuracy: 0.8280\n",
      "Epoch 28/200\n",
      "63/63 [==============================] - 0s 997us/step - loss: 0.3440 - accuracy: 0.8655 - val_loss: 0.4418 - val_accuracy: 0.8210\n",
      "Epoch 29/200\n",
      "63/63 [==============================] - 0s 916us/step - loss: 0.3438 - accuracy: 0.8660 - val_loss: 0.4429 - val_accuracy: 0.8240\n",
      "Epoch 30/200\n",
      "63/63 [==============================] - 0s 999us/step - loss: 0.3391 - accuracy: 0.8690 - val_loss: 0.4454 - val_accuracy: 0.8190\n",
      "Epoch 31/200\n",
      "63/63 [==============================] - 0s 1ms/step - loss: 0.3386 - accuracy: 0.8665 - val_loss: 0.4429 - val_accuracy: 0.8210\n",
      "Epoch 32/200\n",
      "63/63 [==============================] - 0s 1ms/step - loss: 0.3368 - accuracy: 0.8720 - val_loss: 0.4430 - val_accuracy: 0.8210\n",
      "Epoch 33/200\n",
      "63/63 [==============================] - 0s 907us/step - loss: 0.3357 - accuracy: 0.8695 - val_loss: 0.4428 - val_accuracy: 0.8220\n",
      "Epoch 34/200\n",
      "63/63 [==============================] - 0s 899us/step - loss: 0.3363 - accuracy: 0.8695 - val_loss: 0.4445 - val_accuracy: 0.8180\n",
      "Epoch 35/200\n",
      "63/63 [==============================] - 0s 1ms/step - loss: 0.3329 - accuracy: 0.8705 - val_loss: 0.4435 - val_accuracy: 0.8220\n",
      "Epoch 36/200\n",
      "63/63 [==============================] - 0s 1ms/step - loss: 0.3317 - accuracy: 0.8715 - val_loss: 0.4433 - val_accuracy: 0.8200\n",
      "Epoch 37/200\n",
      "63/63 [==============================] - 0s 949us/step - loss: 0.3308 - accuracy: 0.8730 - val_loss: 0.4442 - val_accuracy: 0.8230\n",
      "Epoch 38/200\n",
      "63/63 [==============================] - 0s 825us/step - loss: 0.3291 - accuracy: 0.8720 - val_loss: 0.4449 - val_accuracy: 0.8160\n",
      "Epoch 39/200\n",
      "63/63 [==============================] - 0s 960us/step - loss: 0.3290 - accuracy: 0.8715 - val_loss: 0.4444 - val_accuracy: 0.8210\n",
      "Epoch 40/200\n",
      "63/63 [==============================] - 0s 2ms/step - loss: 0.3270 - accuracy: 0.8750 - val_loss: 0.4454 - val_accuracy: 0.8230\n",
      "Epoch 41/200\n",
      "63/63 [==============================] - 0s 2ms/step - loss: 0.3270 - accuracy: 0.8710 - val_loss: 0.4509 - val_accuracy: 0.8220\n",
      "Epoch 42/200\n",
      "63/63 [==============================] - 0s 1ms/step - loss: 0.3250 - accuracy: 0.8685 - val_loss: 0.4464 - val_accuracy: 0.8210\n",
      "Epoch 43/200\n",
      "63/63 [==============================] - 0s 1ms/step - loss: 0.3235 - accuracy: 0.8740 - val_loss: 0.4477 - val_accuracy: 0.8150\n",
      "Epoch 44/200\n",
      "63/63 [==============================] - 0s 1ms/step - loss: 0.3211 - accuracy: 0.8760 - val_loss: 0.4468 - val_accuracy: 0.8180\n",
      "Epoch 45/200\n",
      "63/63 [==============================] - 0s 1ms/step - loss: 0.3206 - accuracy: 0.8755 - val_loss: 0.4468 - val_accuracy: 0.8200\n",
      "Epoch 46/200\n",
      "63/63 [==============================] - 0s 871us/step - loss: 0.3207 - accuracy: 0.8795 - val_loss: 0.4461 - val_accuracy: 0.8200\n",
      "Epoch 47/200\n",
      "63/63 [==============================] - 0s 880us/step - loss: 0.3195 - accuracy: 0.8750 - val_loss: 0.4497 - val_accuracy: 0.8160\n",
      "Epoch 48/200\n",
      "63/63 [==============================] - 0s 937us/step - loss: 0.3181 - accuracy: 0.8770 - val_loss: 0.4473 - val_accuracy: 0.8210\n",
      "Epoch 49/200\n",
      "63/63 [==============================] - 0s 984us/step - loss: 0.3184 - accuracy: 0.8760 - val_loss: 0.4469 - val_accuracy: 0.8220\n",
      "Epoch 50/200\n",
      "63/63 [==============================] - 0s 911us/step - loss: 0.3150 - accuracy: 0.8780 - val_loss: 0.4539 - val_accuracy: 0.8170\n",
      "Epoch 51/200\n",
      "63/63 [==============================] - 0s 903us/step - loss: 0.3158 - accuracy: 0.8770 - val_loss: 0.4493 - val_accuracy: 0.8200\n",
      "Epoch 52/200\n",
      "63/63 [==============================] - 0s 909us/step - loss: 0.3131 - accuracy: 0.8805 - val_loss: 0.4488 - val_accuracy: 0.8210\n",
      "Epoch 53/200\n",
      "63/63 [==============================] - 0s 909us/step - loss: 0.3115 - accuracy: 0.8800 - val_loss: 0.4528 - val_accuracy: 0.8120\n",
      "Epoch 54/200\n",
      "63/63 [==============================] - 0s 1ms/step - loss: 0.3122 - accuracy: 0.8785 - val_loss: 0.4482 - val_accuracy: 0.8210\n",
      "Epoch 55/200\n",
      "63/63 [==============================] - 0s 2ms/step - loss: 0.3105 - accuracy: 0.8840 - val_loss: 0.4493 - val_accuracy: 0.8240\n",
      "Epoch 56/200\n",
      "63/63 [==============================] - 0s 1ms/step - loss: 0.3098 - accuracy: 0.8825 - val_loss: 0.4501 - val_accuracy: 0.8210\n",
      "Epoch 57/200\n",
      "63/63 [==============================] - 0s 1ms/step - loss: 0.3102 - accuracy: 0.8825 - val_loss: 0.4492 - val_accuracy: 0.8230\n",
      "Epoch 58/200\n"
     ]
    },
    {
     "name": "stdout",
     "output_type": "stream",
     "text": [
      "63/63 [==============================] - 0s 1ms/step - loss: 0.3093 - accuracy: 0.8800 - val_loss: 0.4499 - val_accuracy: 0.8240\n",
      "Epoch 59/200\n",
      "63/63 [==============================] - ETA: 0s - loss: 0.1731 - accuracy: 0.96 - 0s 961us/step - loss: 0.3072 - accuracy: 0.8875 - val_loss: 0.4495 - val_accuracy: 0.8240\n",
      "Epoch 60/200\n",
      "63/63 [==============================] - 0s 1ms/step - loss: 0.3067 - accuracy: 0.8845 - val_loss: 0.4510 - val_accuracy: 0.8210\n",
      "Epoch 61/200\n",
      "63/63 [==============================] - 0s 1ms/step - loss: 0.3054 - accuracy: 0.8820 - val_loss: 0.4507 - val_accuracy: 0.8210\n",
      "Epoch 62/200\n",
      "63/63 [==============================] - 0s 1ms/step - loss: 0.3044 - accuracy: 0.8850 - val_loss: 0.4504 - val_accuracy: 0.8220\n",
      "Epoch 63/200\n",
      "63/63 [==============================] - 0s 915us/step - loss: 0.3032 - accuracy: 0.8840 - val_loss: 0.4509 - val_accuracy: 0.8240\n",
      "Epoch 64/200\n",
      "63/63 [==============================] - 0s 903us/step - loss: 0.3027 - accuracy: 0.8850 - val_loss: 0.4520 - val_accuracy: 0.8180\n",
      "Epoch 65/200\n",
      "63/63 [==============================] - 0s 835us/step - loss: 0.3007 - accuracy: 0.8860 - val_loss: 0.4516 - val_accuracy: 0.8200\n",
      "Epoch 66/200\n",
      "63/63 [==============================] - 0s 936us/step - loss: 0.3027 - accuracy: 0.8845 - val_loss: 0.4504 - val_accuracy: 0.8250\n",
      "Epoch 67/200\n",
      "63/63 [==============================] - 0s 944us/step - loss: 0.3011 - accuracy: 0.8880 - val_loss: 0.4585 - val_accuracy: 0.8130\n",
      "Epoch 68/200\n",
      "63/63 [==============================] - 0s 1ms/step - loss: 0.3016 - accuracy: 0.8800 - val_loss: 0.4537 - val_accuracy: 0.8180\n",
      "Epoch 69/200\n",
      "63/63 [==============================] - 0s 995us/step - loss: 0.2998 - accuracy: 0.8845 - val_loss: 0.4524 - val_accuracy: 0.8240\n",
      "Epoch 70/200\n",
      "63/63 [==============================] - 0s 890us/step - loss: 0.2986 - accuracy: 0.8870 - val_loss: 0.4520 - val_accuracy: 0.8260\n",
      "Epoch 71/200\n",
      "63/63 [==============================] - 0s 935us/step - loss: 0.2977 - accuracy: 0.8890 - val_loss: 0.4520 - val_accuracy: 0.8260\n",
      "Epoch 72/200\n",
      "63/63 [==============================] - 0s 1ms/step - loss: 0.2998 - accuracy: 0.8880 - val_loss: 0.4522 - val_accuracy: 0.8260\n",
      "Epoch 73/200\n",
      "63/63 [==============================] - 0s 1ms/step - loss: 0.2974 - accuracy: 0.8885 - val_loss: 0.4531 - val_accuracy: 0.8230\n",
      "Epoch 74/200\n",
      "63/63 [==============================] - 0s 977us/step - loss: 0.2953 - accuracy: 0.8895 - val_loss: 0.4548 - val_accuracy: 0.8160\n",
      "Epoch 75/200\n",
      "63/63 [==============================] - 0s 1ms/step - loss: 0.2954 - accuracy: 0.8885 - val_loss: 0.4558 - val_accuracy: 0.8170\n",
      "Epoch 76/200\n",
      "63/63 [==============================] - 0s 941us/step - loss: 0.2937 - accuracy: 0.8915 - val_loss: 0.4561 - val_accuracy: 0.8180\n",
      "Epoch 77/200\n",
      "63/63 [==============================] - 0s 1ms/step - loss: 0.2931 - accuracy: 0.8910 - val_loss: 0.4538 - val_accuracy: 0.8260\n",
      "Epoch 78/200\n",
      "63/63 [==============================] - 0s 995us/step - loss: 0.2945 - accuracy: 0.8865 - val_loss: 0.4541 - val_accuracy: 0.8240\n",
      "Epoch 79/200\n",
      "63/63 [==============================] - 0s 873us/step - loss: 0.2914 - accuracy: 0.8890 - val_loss: 0.4554 - val_accuracy: 0.8190\n",
      "Epoch 80/200\n",
      "63/63 [==============================] - 0s 1ms/step - loss: 0.2918 - accuracy: 0.8905 - val_loss: 0.4550 - val_accuracy: 0.8240\n",
      "Epoch 81/200\n",
      "63/63 [==============================] - 0s 1ms/step - loss: 0.2921 - accuracy: 0.8890 - val_loss: 0.4553 - val_accuracy: 0.8240\n",
      "Epoch 82/200\n",
      "63/63 [==============================] - 0s 1ms/step - loss: 0.2903 - accuracy: 0.8895 - val_loss: 0.4559 - val_accuracy: 0.8190\n",
      "Epoch 83/200\n",
      "63/63 [==============================] - 0s 1ms/step - loss: 0.2890 - accuracy: 0.8925 - val_loss: 0.4554 - val_accuracy: 0.8210\n",
      "Epoch 84/200\n",
      "63/63 [==============================] - 0s 986us/step - loss: 0.2885 - accuracy: 0.8950 - val_loss: 0.4563 - val_accuracy: 0.8260\n",
      "Epoch 85/200\n",
      "63/63 [==============================] - 0s 993us/step - loss: 0.2887 - accuracy: 0.8920 - val_loss: 0.4562 - val_accuracy: 0.8180\n",
      "Epoch 86/200\n",
      "63/63 [==============================] - 0s 968us/step - loss: 0.2880 - accuracy: 0.8900 - val_loss: 0.4568 - val_accuracy: 0.8200\n",
      "Epoch 87/200\n",
      "63/63 [==============================] - 0s 853us/step - loss: 0.2874 - accuracy: 0.8930 - val_loss: 0.4563 - val_accuracy: 0.8190\n",
      "Epoch 88/200\n",
      "63/63 [==============================] - 0s 928us/step - loss: 0.2856 - accuracy: 0.8935 - val_loss: 0.4628 - val_accuracy: 0.8080\n",
      "Epoch 89/200\n",
      "63/63 [==============================] - 0s 1ms/step - loss: 0.2862 - accuracy: 0.8930 - val_loss: 0.4573 - val_accuracy: 0.8200\n",
      "Epoch 90/200\n",
      "63/63 [==============================] - 0s 1ms/step - loss: 0.2854 - accuracy: 0.8930 - val_loss: 0.4591 - val_accuracy: 0.8150\n",
      "Epoch 91/200\n",
      "63/63 [==============================] - 0s 980us/step - loss: 0.2842 - accuracy: 0.8925 - val_loss: 0.4578 - val_accuracy: 0.8230\n",
      "Epoch 92/200\n",
      "63/63 [==============================] - 0s 937us/step - loss: 0.2837 - accuracy: 0.8930 - val_loss: 0.4583 - val_accuracy: 0.8190\n",
      "Epoch 93/200\n",
      "63/63 [==============================] - 0s 1ms/step - loss: 0.2841 - accuracy: 0.8915 - val_loss: 0.4578 - val_accuracy: 0.8190\n",
      "Epoch 94/200\n",
      "63/63 [==============================] - 0s 1ms/step - loss: 0.2818 - accuracy: 0.8915 - val_loss: 0.4587 - val_accuracy: 0.8170\n",
      "Epoch 95/200\n",
      "63/63 [==============================] - 0s 1ms/step - loss: 0.2826 - accuracy: 0.8970 - val_loss: 0.4648 - val_accuracy: 0.8170\n",
      "Epoch 96/200\n",
      "63/63 [==============================] - 0s 1ms/step - loss: 0.2817 - accuracy: 0.8955 - val_loss: 0.4608 - val_accuracy: 0.8140\n",
      "Epoch 97/200\n",
      "63/63 [==============================] - 0s 935us/step - loss: 0.2814 - accuracy: 0.8985 - val_loss: 0.4592 - val_accuracy: 0.8170\n",
      "Epoch 98/200\n",
      "63/63 [==============================] - 0s 951us/step - loss: 0.2806 - accuracy: 0.8945 - val_loss: 0.4599 - val_accuracy: 0.8170\n",
      "Epoch 99/200\n",
      "63/63 [==============================] - 0s 889us/step - loss: 0.2801 - accuracy: 0.8950 - val_loss: 0.4613 - val_accuracy: 0.8150\n",
      "Epoch 100/200\n",
      "63/63 [==============================] - 0s 886us/step - loss: 0.2799 - accuracy: 0.8935 - val_loss: 0.4599 - val_accuracy: 0.8160\n",
      "Epoch 101/200\n",
      "63/63 [==============================] - 0s 968us/step - loss: 0.2793 - accuracy: 0.8970 - val_loss: 0.4604 - val_accuracy: 0.8150\n",
      "Epoch 102/200\n",
      "63/63 [==============================] - 0s 1ms/step - loss: 0.2781 - accuracy: 0.8940 - val_loss: 0.4606 - val_accuracy: 0.8160\n",
      "Epoch 103/200\n",
      "63/63 [==============================] - 0s 1ms/step - loss: 0.2787 - accuracy: 0.8990 - val_loss: 0.4611 - val_accuracy: 0.8160\n",
      "Epoch 104/200\n",
      "63/63 [==============================] - 0s 955us/step - loss: 0.2771 - accuracy: 0.8955 - val_loss: 0.4618 - val_accuracy: 0.8140\n",
      "Epoch 105/200\n",
      "63/63 [==============================] - 0s 963us/step - loss: 0.2768 - accuracy: 0.8995 - val_loss: 0.4638 - val_accuracy: 0.8170\n",
      "Epoch 106/200\n",
      "63/63 [==============================] - 0s 959us/step - loss: 0.2764 - accuracy: 0.8980 - val_loss: 0.4627 - val_accuracy: 0.8150\n",
      "Epoch 107/200\n",
      "63/63 [==============================] - 0s 978us/step - loss: 0.2752 - accuracy: 0.8965 - val_loss: 0.4626 - val_accuracy: 0.8170\n",
      "Epoch 108/200\n",
      "63/63 [==============================] - 0s 939us/step - loss: 0.2753 - accuracy: 0.8965 - val_loss: 0.4621 - val_accuracy: 0.8120\n",
      "Epoch 109/200\n",
      "63/63 [==============================] - 0s 961us/step - loss: 0.2745 - accuracy: 0.8980 - val_loss: 0.4627 - val_accuracy: 0.8130\n",
      "Epoch 110/200\n",
      "63/63 [==============================] - 0s 1ms/step - loss: 0.2742 - accuracy: 0.8995 - val_loss: 0.4678 - val_accuracy: 0.8110\n",
      "Epoch 111/200\n",
      "63/63 [==============================] - 0s 990us/step - loss: 0.2746 - accuracy: 0.8980 - val_loss: 0.4652 - val_accuracy: 0.8130\n",
      "Epoch 112/200\n",
      "63/63 [==============================] - 0s 1ms/step - loss: 0.2736 - accuracy: 0.9000 - val_loss: 0.4637 - val_accuracy: 0.8140\n",
      "Epoch 113/200\n",
      "63/63 [==============================] - 0s 1ms/step - loss: 0.2729 - accuracy: 0.9000 - val_loss: 0.4653 - val_accuracy: 0.8120\n",
      "Epoch 114/200\n",
      "63/63 [==============================] - 0s 1ms/step - loss: 0.2720 - accuracy: 0.9015 - val_loss: 0.4646 - val_accuracy: 0.8150\n"
     ]
    },
    {
     "name": "stdout",
     "output_type": "stream",
     "text": [
      "Epoch 115/200\n",
      "63/63 [==============================] - 0s 1ms/step - loss: 0.2723 - accuracy: 0.9025 - val_loss: 0.4649 - val_accuracy: 0.8140\n",
      "Epoch 116/200\n",
      "63/63 [==============================] - 0s 1ms/step - loss: 0.2710 - accuracy: 0.9010 - val_loss: 0.4645 - val_accuracy: 0.8130\n",
      "Epoch 117/200\n",
      "63/63 [==============================] - 0s 966us/step - loss: 0.2705 - accuracy: 0.9015 - val_loss: 0.4659 - val_accuracy: 0.8140\n",
      "Epoch 118/200\n",
      "63/63 [==============================] - 0s 948us/step - loss: 0.2715 - accuracy: 0.9025 - val_loss: 0.4654 - val_accuracy: 0.8110\n",
      "Epoch 119/200\n",
      "63/63 [==============================] - 0s 1ms/step - loss: 0.2690 - accuracy: 0.9010 - val_loss: 0.4662 - val_accuracy: 0.8110\n",
      "Epoch 120/200\n",
      "63/63 [==============================] - 0s 994us/step - loss: 0.2697 - accuracy: 0.9035 - val_loss: 0.4667 - val_accuracy: 0.8120\n",
      "Epoch 121/200\n",
      "63/63 [==============================] - 0s 1ms/step - loss: 0.2689 - accuracy: 0.9045 - val_loss: 0.4685 - val_accuracy: 0.8130\n",
      "Epoch 122/200\n",
      "63/63 [==============================] - 0s 1ms/step - loss: 0.2680 - accuracy: 0.9015 - val_loss: 0.4672 - val_accuracy: 0.8140\n",
      "Epoch 123/200\n",
      "63/63 [==============================] - 0s 1ms/step - loss: 0.2691 - accuracy: 0.9000 - val_loss: 0.4719 - val_accuracy: 0.8160\n",
      "Epoch 124/200\n",
      "63/63 [==============================] - 0s 1ms/step - loss: 0.2674 - accuracy: 0.9025 - val_loss: 0.4705 - val_accuracy: 0.8140\n",
      "Epoch 125/200\n",
      "63/63 [==============================] - 0s 1ms/step - loss: 0.2675 - accuracy: 0.9010 - val_loss: 0.4682 - val_accuracy: 0.8100\n",
      "Epoch 126/200\n",
      "63/63 [==============================] - 0s 1ms/step - loss: 0.2668 - accuracy: 0.8995 - val_loss: 0.4671 - val_accuracy: 0.8130\n",
      "Epoch 127/200\n",
      "63/63 [==============================] - 0s 1ms/step - loss: 0.2670 - accuracy: 0.9035 - val_loss: 0.4683 - val_accuracy: 0.8120\n",
      "Epoch 128/200\n",
      "63/63 [==============================] - 0s 990us/step - loss: 0.2646 - accuracy: 0.9035 - val_loss: 0.4715 - val_accuracy: 0.8140\n",
      "Epoch 129/200\n",
      "63/63 [==============================] - 0s 971us/step - loss: 0.2663 - accuracy: 0.9035 - val_loss: 0.4694 - val_accuracy: 0.8160\n",
      "Epoch 130/200\n",
      "63/63 [==============================] - 0s 931us/step - loss: 0.2649 - accuracy: 0.9040 - val_loss: 0.4700 - val_accuracy: 0.8110\n",
      "Epoch 131/200\n",
      "63/63 [==============================] - 0s 1ms/step - loss: 0.2649 - accuracy: 0.9010 - val_loss: 0.4697 - val_accuracy: 0.8080\n",
      "Epoch 132/200\n",
      "63/63 [==============================] - 0s 1ms/step - loss: 0.2631 - accuracy: 0.9055 - val_loss: 0.4698 - val_accuracy: 0.8110\n",
      "Epoch 133/200\n",
      "63/63 [==============================] - 0s 1ms/step - loss: 0.2626 - accuracy: 0.9075 - val_loss: 0.4755 - val_accuracy: 0.8170\n",
      "Epoch 134/200\n",
      "63/63 [==============================] - 0s 920us/step - loss: 0.2642 - accuracy: 0.9020 - val_loss: 0.4705 - val_accuracy: 0.8120\n",
      "Epoch 135/200\n",
      "63/63 [==============================] - 0s 937us/step - loss: 0.2634 - accuracy: 0.9055 - val_loss: 0.4701 - val_accuracy: 0.8110\n",
      "Epoch 136/200\n",
      "63/63 [==============================] - 0s 1ms/step - loss: 0.2620 - accuracy: 0.9045 - val_loss: 0.4727 - val_accuracy: 0.8130\n",
      "Epoch 137/200\n",
      "63/63 [==============================] - 0s 982us/step - loss: 0.2619 - accuracy: 0.9065 - val_loss: 0.4729 - val_accuracy: 0.8140\n",
      "Epoch 138/200\n",
      "63/63 [==============================] - 0s 966us/step - loss: 0.2611 - accuracy: 0.9055 - val_loss: 0.4727 - val_accuracy: 0.8160\n",
      "Epoch 139/200\n",
      "63/63 [==============================] - 0s 1ms/step - loss: 0.2613 - accuracy: 0.9030 - val_loss: 0.4722 - val_accuracy: 0.8100\n",
      "Epoch 140/200\n",
      "63/63 [==============================] - 0s 1ms/step - loss: 0.2619 - accuracy: 0.9040 - val_loss: 0.4762 - val_accuracy: 0.8160\n",
      "Epoch 141/200\n",
      "63/63 [==============================] - 0s 1ms/step - loss: 0.2613 - accuracy: 0.9040 - val_loss: 0.4726 - val_accuracy: 0.8110\n",
      "Epoch 142/200\n",
      "63/63 [==============================] - 0s 1ms/step - loss: 0.2600 - accuracy: 0.9035 - val_loss: 0.4731 - val_accuracy: 0.8100\n",
      "Epoch 143/200\n",
      "63/63 [==============================] - 0s 1ms/step - loss: 0.2589 - accuracy: 0.9075 - val_loss: 0.4732 - val_accuracy: 0.8140\n",
      "Epoch 144/200\n",
      "63/63 [==============================] - 0s 1ms/step - loss: 0.2593 - accuracy: 0.9050 - val_loss: 0.4781 - val_accuracy: 0.8160\n",
      "Epoch 145/200\n",
      "63/63 [==============================] - 0s 1ms/step - loss: 0.2588 - accuracy: 0.9060 - val_loss: 0.4746 - val_accuracy: 0.8070\n",
      "Epoch 146/200\n",
      "63/63 [==============================] - 0s 1ms/step - loss: 0.2592 - accuracy: 0.9060 - val_loss: 0.4737 - val_accuracy: 0.8090\n",
      "Epoch 147/200\n",
      "63/63 [==============================] - 0s 994us/step - loss: 0.2577 - accuracy: 0.9095 - val_loss: 0.4748 - val_accuracy: 0.8120\n",
      "Epoch 148/200\n",
      "63/63 [==============================] - 0s 1ms/step - loss: 0.2574 - accuracy: 0.9055 - val_loss: 0.4747 - val_accuracy: 0.8130\n",
      "Epoch 149/200\n",
      "63/63 [==============================] - 0s 1ms/step - loss: 0.2579 - accuracy: 0.9075 - val_loss: 0.4750 - val_accuracy: 0.8110\n",
      "Epoch 150/200\n",
      "63/63 [==============================] - 0s 961us/step - loss: 0.2564 - accuracy: 0.9095 - val_loss: 0.4773 - val_accuracy: 0.8150\n",
      "Epoch 151/200\n",
      "63/63 [==============================] - 0s 915us/step - loss: 0.2564 - accuracy: 0.9065 - val_loss: 0.4756 - val_accuracy: 0.8120\n",
      "Epoch 152/200\n",
      "63/63 [==============================] - 0s 908us/step - loss: 0.2555 - accuracy: 0.9055 - val_loss: 0.4780 - val_accuracy: 0.8160\n",
      "Epoch 153/200\n",
      "63/63 [==============================] - 0s 888us/step - loss: 0.2555 - accuracy: 0.9060 - val_loss: 0.4764 - val_accuracy: 0.8110\n",
      "Epoch 154/200\n",
      "63/63 [==============================] - 0s 1ms/step - loss: 0.2569 - accuracy: 0.9085 - val_loss: 0.4770 - val_accuracy: 0.8100\n",
      "Epoch 155/200\n",
      "63/63 [==============================] - 0s 931us/step - loss: 0.2545 - accuracy: 0.9070 - val_loss: 0.4801 - val_accuracy: 0.8170\n",
      "Epoch 156/200\n",
      "63/63 [==============================] - 0s 974us/step - loss: 0.2558 - accuracy: 0.9050 - val_loss: 0.4780 - val_accuracy: 0.8120\n",
      "Epoch 157/200\n",
      "63/63 [==============================] - 0s 995us/step - loss: 0.2540 - accuracy: 0.9085 - val_loss: 0.4827 - val_accuracy: 0.8150\n",
      "Epoch 158/200\n",
      "63/63 [==============================] - 0s 1ms/step - loss: 0.2544 - accuracy: 0.9060 - val_loss: 0.4792 - val_accuracy: 0.8130\n",
      "Epoch 159/200\n",
      "63/63 [==============================] - 0s 970us/step - loss: 0.2530 - accuracy: 0.9095 - val_loss: 0.4798 - val_accuracy: 0.8110\n",
      "Epoch 160/200\n",
      "63/63 [==============================] - 0s 1ms/step - loss: 0.2538 - accuracy: 0.9075 - val_loss: 0.4790 - val_accuracy: 0.8120\n",
      "Epoch 161/200\n",
      "63/63 [==============================] - 0s 970us/step - loss: 0.2530 - accuracy: 0.9045 - val_loss: 0.4789 - val_accuracy: 0.8130\n",
      "Epoch 162/200\n",
      "63/63 [==============================] - 0s 1ms/step - loss: 0.2532 - accuracy: 0.9120 - val_loss: 0.4788 - val_accuracy: 0.8100\n",
      "Epoch 163/200\n",
      "63/63 [==============================] - 0s 985us/step - loss: 0.2525 - accuracy: 0.9080 - val_loss: 0.4798 - val_accuracy: 0.8120\n",
      "Epoch 164/200\n",
      "63/63 [==============================] - 0s 961us/step - loss: 0.2522 - accuracy: 0.9080 - val_loss: 0.4809 - val_accuracy: 0.8120\n",
      "Epoch 165/200\n",
      "63/63 [==============================] - 0s 1ms/step - loss: 0.2516 - accuracy: 0.9105 - val_loss: 0.4800 - val_accuracy: 0.8110\n",
      "Epoch 166/200\n",
      "63/63 [==============================] - 0s 983us/step - loss: 0.2512 - accuracy: 0.9110 - val_loss: 0.4799 - val_accuracy: 0.8070\n",
      "Epoch 167/200\n",
      "63/63 [==============================] - 0s 1ms/step - loss: 0.2507 - accuracy: 0.9110 - val_loss: 0.4842 - val_accuracy: 0.8110\n",
      "Epoch 168/200\n",
      "63/63 [==============================] - 0s 953us/step - loss: 0.2528 - accuracy: 0.9100 - val_loss: 0.4802 - val_accuracy: 0.8090\n",
      "Epoch 169/200\n",
      "63/63 [==============================] - 0s 887us/step - loss: 0.2507 - accuracy: 0.9100 - val_loss: 0.4822 - val_accuracy: 0.8080\n",
      "Epoch 170/200\n",
      "63/63 [==============================] - 0s 1ms/step - loss: 0.2502 - accuracy: 0.9110 - val_loss: 0.4822 - val_accuracy: 0.8120\n",
      "Epoch 171/200\n",
      "63/63 [==============================] - 0s 1ms/step - loss: 0.2495 - accuracy: 0.9095 - val_loss: 0.4848 - val_accuracy: 0.8090\n"
     ]
    },
    {
     "name": "stdout",
     "output_type": "stream",
     "text": [
      "Epoch 172/200\n",
      "63/63 [==============================] - 0s 960us/step - loss: 0.2493 - accuracy: 0.9100 - val_loss: 0.4830 - val_accuracy: 0.8140\n",
      "Epoch 173/200\n",
      "63/63 [==============================] - 0s 908us/step - loss: 0.2493 - accuracy: 0.9090 - val_loss: 0.4826 - val_accuracy: 0.8130\n",
      "Epoch 174/200\n",
      "63/63 [==============================] - 0s 898us/step - loss: 0.2501 - accuracy: 0.9120 - val_loss: 0.4824 - val_accuracy: 0.8090\n",
      "Epoch 175/200\n",
      "63/63 [==============================] - 0s 949us/step - loss: 0.2486 - accuracy: 0.9105 - val_loss: 0.4828 - val_accuracy: 0.8090\n",
      "Epoch 176/200\n",
      "63/63 [==============================] - 0s 1ms/step - loss: 0.2476 - accuracy: 0.9115 - val_loss: 0.4836 - val_accuracy: 0.8130\n",
      "Epoch 177/200\n",
      "63/63 [==============================] - 0s 1ms/step - loss: 0.2481 - accuracy: 0.9130 - val_loss: 0.4848 - val_accuracy: 0.8140\n",
      "Epoch 178/200\n",
      "63/63 [==============================] - 0s 979us/step - loss: 0.2483 - accuracy: 0.9100 - val_loss: 0.4846 - val_accuracy: 0.8110\n",
      "Epoch 179/200\n",
      "63/63 [==============================] - 0s 905us/step - loss: 0.2474 - accuracy: 0.9100 - val_loss: 0.4952 - val_accuracy: 0.8070\n",
      "Epoch 180/200\n",
      "63/63 [==============================] - 0s 1ms/step - loss: 0.2484 - accuracy: 0.9075 - val_loss: 0.4891 - val_accuracy: 0.8140\n",
      "Epoch 181/200\n",
      "63/63 [==============================] - 0s 895us/step - loss: 0.2469 - accuracy: 0.9105 - val_loss: 0.4858 - val_accuracy: 0.8080\n",
      "Epoch 182/200\n",
      "63/63 [==============================] - 0s 930us/step - loss: 0.2477 - accuracy: 0.9095 - val_loss: 0.4873 - val_accuracy: 0.8110\n",
      "Epoch 183/200\n",
      "63/63 [==============================] - 0s 1ms/step - loss: 0.2464 - accuracy: 0.9095 - val_loss: 0.4858 - val_accuracy: 0.8110\n",
      "Epoch 184/200\n",
      "63/63 [==============================] - 0s 919us/step - loss: 0.2458 - accuracy: 0.9115 - val_loss: 0.4861 - val_accuracy: 0.8120\n",
      "Epoch 185/200\n",
      "63/63 [==============================] - 0s 913us/step - loss: 0.2459 - accuracy: 0.9120 - val_loss: 0.4871 - val_accuracy: 0.8120\n",
      "Epoch 186/200\n",
      "63/63 [==============================] - 0s 1ms/step - loss: 0.2449 - accuracy: 0.9125 - val_loss: 0.4922 - val_accuracy: 0.8100\n",
      "Epoch 187/200\n",
      "63/63 [==============================] - 0s 1ms/step - loss: 0.2452 - accuracy: 0.9095 - val_loss: 0.4873 - val_accuracy: 0.8130\n",
      "Epoch 188/200\n",
      "63/63 [==============================] - 0s 932us/step - loss: 0.2458 - accuracy: 0.9105 - val_loss: 0.4868 - val_accuracy: 0.8100\n",
      "Epoch 189/200\n",
      "63/63 [==============================] - 0s 1ms/step - loss: 0.2446 - accuracy: 0.9120 - val_loss: 0.4880 - val_accuracy: 0.8100\n",
      "Epoch 190/200\n",
      "63/63 [==============================] - 0s 1ms/step - loss: 0.2443 - accuracy: 0.9125 - val_loss: 0.4881 - val_accuracy: 0.8110\n",
      "Epoch 191/200\n",
      "63/63 [==============================] - 0s 1000us/step - loss: 0.2437 - accuracy: 0.9095 - val_loss: 0.4878 - val_accuracy: 0.8100\n",
      "Epoch 192/200\n",
      "63/63 [==============================] - 0s 1ms/step - loss: 0.2439 - accuracy: 0.9110 - val_loss: 0.4890 - val_accuracy: 0.8130\n",
      "Epoch 193/200\n",
      "63/63 [==============================] - ETA: 0s - loss: 0.1150 - accuracy: 1.00 - 0s 1ms/step - loss: 0.2431 - accuracy: 0.9120 - val_loss: 0.4905 - val_accuracy: 0.8140\n",
      "Epoch 194/200\n",
      "63/63 [==============================] - 0s 1ms/step - loss: 0.2442 - accuracy: 0.9115 - val_loss: 0.4891 - val_accuracy: 0.8110\n",
      "Epoch 195/200\n",
      "63/63 [==============================] - 0s 1ms/step - loss: 0.2429 - accuracy: 0.9120 - val_loss: 0.4921 - val_accuracy: 0.8140\n",
      "Epoch 196/200\n",
      "63/63 [==============================] - 0s 959us/step - loss: 0.2449 - accuracy: 0.9120 - val_loss: 0.4900 - val_accuracy: 0.8100\n",
      "Epoch 197/200\n",
      "63/63 [==============================] - 0s 1ms/step - loss: 0.2420 - accuracy: 0.9125 - val_loss: 0.4913 - val_accuracy: 0.8130\n",
      "Epoch 198/200\n",
      "63/63 [==============================] - 0s 995us/step - loss: 0.2421 - accuracy: 0.9130 - val_loss: 0.4915 - val_accuracy: 0.8130\n",
      "Epoch 199/200\n",
      "63/63 [==============================] - 0s 1ms/step - loss: 0.2422 - accuracy: 0.9120 - val_loss: 0.4948 - val_accuracy: 0.8100\n",
      "Epoch 200/200\n",
      "63/63 [==============================] - 0s 1ms/step - loss: 0.2436 - accuracy: 0.9070 - val_loss: 0.4921 - val_accuracy: 0.8090\n"
     ]
    },
    {
     "data": {
      "text/plain": [
       "<tensorflow.python.keras.callbacks.History at 0x7f4918799cd0>"
      ]
     },
     "execution_count": 30,
     "metadata": {},
     "output_type": "execute_result"
    }
   ],
   "source": [
    "model.fit(x = train_images, \n",
    "                    y = train_labels, \n",
    "                    epochs=200, \n",
    "                    validation_data=(test_images,test_labels))"
   ]
  },
  {
   "cell_type": "markdown",
   "metadata": {},
   "source": [
    "As we only use one perceptron for the baseline. The training should be pretty fast whatever the computer you have."
   ]
  },
  {
   "cell_type": "markdown",
   "metadata": {},
   "source": [
    "Here, we define a variable loss_df (for dataframe) that contain the results of the different epochs."
   ]
  },
  {
   "cell_type": "code",
   "execution_count": 32,
   "metadata": {},
   "outputs": [],
   "source": [
    "loss_df = pd.DataFrame(model.history.history)"
   ]
  },
  {
   "cell_type": "markdown",
   "metadata": {},
   "source": [
    "We plot this results here."
   ]
  },
  {
   "cell_type": "code",
   "execution_count": 33,
   "metadata": {},
   "outputs": [
    {
     "data": {
      "text/plain": [
       "<matplotlib.axes._subplots.AxesSubplot at 0x7f492010f340>"
      ]
     },
     "execution_count": 33,
     "metadata": {},
     "output_type": "execute_result"
    },
    {
     "data": {
      "image/png": "[encoded data removed]",
      "text/plain": [
       "<Figure size 432x288 with 1 Axes>"
      ]
     },
     "metadata": {
      "needs_background": "light"
     },
     "output_type": "display_data"
    }
   ],
   "source": [
    "loss_df.plot()"
   ]
  },
  {
   "cell_type": "markdown",
   "metadata": {},
   "source": [
    "We see that over 20 epochs, the loss is not improving a lot so we keep epochs = 20.\n",
    "We could also see that the validation loss (val_loss) is increasing while the loss (for training sample) is decreasing with the number of epochs. This is a pathology called overfitting that we will try to deal with below.\n",
    "Before, we want to confirm this result so let print the evaluation for test and train images"
   ]
  },
  {
   "cell_type": "code",
   "execution_count": 35,
   "metadata": {},
   "outputs": [
    {
     "name": "stdout",
     "output_type": "stream",
     "text": [
      "0.8090000152587891\n",
      "0.9144999980926514\n"
     ]
    }
   ],
   "source": [
    "print(model.evaluate(test_images, test_labels, verbose=0)[1])\n",
    "print(model.evaluate(train_images, train_labels, verbose=0)[1])"
   ]
  },
  {
   "cell_type": "markdown",
   "metadata": {},
   "source": [
    "We see just above that the train accuaracy is much more better than the test images. Our hypothesis about overfitting is not rejected."
   ]
  },
  {
   "cell_type": "code",
   "execution_count": 36,
   "metadata": {},
   "outputs": [],
   "source": [
    "test_predictions = model.predict(test_images)\n",
    "test_predictions = pd.Series(test_predictions.reshape(1000,))\n",
    "test_predictions = test_predictions.apply(lambda x: 1 if x >= 0.5 else 0)\n",
    "eval_df = pd.concat([pd.Series(test_labels), test_predictions], axis=1)\n",
    "eval_df.columns = ['Test True Y', 'Model Predictions']"
   ]
  },
  {
   "cell_type": "markdown",
   "metadata": {},
   "source": [
    "We store the predictions for test into a variable test_predictions that will be transform to have a binary results.\n",
    "Then we evaluate the Root Mean Squared Error."
   ]
  },
  {
   "cell_type": "markdown",
   "metadata": {},
   "source": [
    "**Model Evaluation with RMSE**"
   ]
  },
  {
   "cell_type": "code",
   "execution_count": 37,
   "metadata": {},
   "outputs": [
    {
     "data": {
      "text/plain": [
       "0.43703546766824314"
      ]
     },
     "execution_count": 37,
     "metadata": {},
     "output_type": "execute_result"
    }
   ],
   "source": [
    "mean_squared_error(eval_df['Test True Y'], eval_df['Model Predictions'])**0.5"
   ]
  },
  {
   "cell_type": "markdown",
   "metadata": {},
   "source": [
    "Let's see if we can improve this RMSE."
   ]
  },
  {
   "cell_type": "markdown",
   "metadata": {},
   "source": [
    "**Creating and Training a Better Model**"
   ]
  },
  {
   "cell_type": "markdown",
   "metadata": {},
   "source": [
    "**Dealing with Overfitting and Evaluation**"
   ]
  },
  {
   "cell_type": "markdown",
   "metadata": {},
   "source": [
    "What we do here, is that we define a variable early_stop that will trigger the stop of the training if the loss on the test dataset is not decreasing anymore."
   ]
  },
  {
   "cell_type": "code",
   "execution_count": 38,
   "metadata": {},
   "outputs": [],
   "source": [
    "early_stop = EarlyStopping(monitor = 'val_loss', \n",
    "                           mode = 'min', \n",
    "                           verbose = 1, \n",
    "                           patience = 25)"
   ]
  },
  {
   "cell_type": "markdown",
   "metadata": {},
   "source": [
    "To compare with the first model with this technique, we us the same."
   ]
  },
  {
   "cell_type": "code",
   "execution_count": 39,
   "metadata": {},
   "outputs": [],
   "source": [
    "model2 = Sequential()\n",
    "\n",
    "model2.add(Dense(1, input_dim=784, activation = 'sigmoid'))\n",
    "\n",
    "model2.compile(loss='binary_crossentropy', \n",
    "               optimizer='adam', \n",
    "               metrics = ['accuracy'])"
   ]
  },
  {
   "cell_type": "code",
   "execution_count": 40,
   "metadata": {
    "scrolled": true
   },
   "outputs": [
    {
     "name": "stdout",
     "output_type": "stream",
     "text": [
      "Epoch 1/200\n",
      "63/63 [==============================] - 0s 2ms/step - loss: 0.5621 - accuracy: 0.7165 - val_loss: 0.4877 - val_accuracy: 0.7850\n",
      "Epoch 2/200\n",
      "63/63 [==============================] - 0s 1ms/step - loss: 0.4468 - accuracy: 0.8165 - val_loss: 0.4677 - val_accuracy: 0.7980\n",
      "Epoch 3/200\n",
      "63/63 [==============================] - 0s 1ms/step - loss: 0.4285 - accuracy: 0.8220 - val_loss: 0.4595 - val_accuracy: 0.7970\n",
      "Epoch 4/200\n",
      "63/63 [==============================] - 0s 1ms/step - loss: 0.4198 - accuracy: 0.8305 - val_loss: 0.4561 - val_accuracy: 0.8020\n",
      "Epoch 5/200\n",
      "63/63 [==============================] - 0s 1ms/step - loss: 0.4123 - accuracy: 0.8290 - val_loss: 0.4524 - val_accuracy: 0.8100\n",
      "Epoch 6/200\n",
      "63/63 [==============================] - 0s 1ms/step - loss: 0.4057 - accuracy: 0.8360 - val_loss: 0.4497 - val_accuracy: 0.8160\n",
      "Epoch 7/200\n",
      "63/63 [==============================] - 0s 969us/step - loss: 0.4001 - accuracy: 0.8435 - val_loss: 0.4480 - val_accuracy: 0.8150\n",
      "Epoch 8/200\n",
      "63/63 [==============================] - 0s 1ms/step - loss: 0.3951 - accuracy: 0.8415 - val_loss: 0.4469 - val_accuracy: 0.8140\n",
      "Epoch 9/200\n",
      "63/63 [==============================] - 0s 960us/step - loss: 0.3922 - accuracy: 0.8440 - val_loss: 0.4487 - val_accuracy: 0.8090\n",
      "Epoch 10/200\n",
      "63/63 [==============================] - 0s 961us/step - loss: 0.3857 - accuracy: 0.8455 - val_loss: 0.4455 - val_accuracy: 0.8120\n",
      "Epoch 11/200\n",
      "63/63 [==============================] - 0s 1ms/step - loss: 0.3817 - accuracy: 0.8510 - val_loss: 0.4451 - val_accuracy: 0.8140\n",
      "Epoch 12/200\n",
      "63/63 [==============================] - 0s 1ms/step - loss: 0.3786 - accuracy: 0.8495 - val_loss: 0.4446 - val_accuracy: 0.8160\n",
      "Epoch 13/200\n",
      "63/63 [==============================] - 0s 999us/step - loss: 0.3754 - accuracy: 0.8540 - val_loss: 0.4442 - val_accuracy: 0.8140\n",
      "Epoch 14/200\n",
      "63/63 [==============================] - 0s 1ms/step - loss: 0.3722 - accuracy: 0.8535 - val_loss: 0.4447 - val_accuracy: 0.8180\n",
      "Epoch 15/200\n",
      "63/63 [==============================] - 0s 1ms/step - loss: 0.3716 - accuracy: 0.8565 - val_loss: 0.4437 - val_accuracy: 0.8230\n",
      "Epoch 16/200\n",
      "63/63 [==============================] - 0s 991us/step - loss: 0.3670 - accuracy: 0.8540 - val_loss: 0.4453 - val_accuracy: 0.8180\n",
      "Epoch 17/200\n",
      "63/63 [==============================] - 0s 946us/step - loss: 0.3643 - accuracy: 0.8520 - val_loss: 0.4439 - val_accuracy: 0.8180\n",
      "Epoch 18/200\n",
      "63/63 [==============================] - 0s 1ms/step - loss: 0.3627 - accuracy: 0.8560 - val_loss: 0.4464 - val_accuracy: 0.8230\n",
      "Epoch 19/200\n",
      "63/63 [==============================] - 0s 1ms/step - loss: 0.3609 - accuracy: 0.8595 - val_loss: 0.4443 - val_accuracy: 0.8150\n",
      "Epoch 20/200\n",
      "63/63 [==============================] - 0s 1ms/step - loss: 0.3574 - accuracy: 0.8570 - val_loss: 0.4442 - val_accuracy: 0.8150\n",
      "Epoch 21/200\n",
      "63/63 [==============================] - 0s 1ms/step - loss: 0.3552 - accuracy: 0.8580 - val_loss: 0.4438 - val_accuracy: 0.8160\n",
      "Epoch 22/200\n",
      "63/63 [==============================] - 0s 1ms/step - loss: 0.3539 - accuracy: 0.8580 - val_loss: 0.4451 - val_accuracy: 0.8170\n",
      "Epoch 23/200\n",
      "63/63 [==============================] - 0s 929us/step - loss: 0.3514 - accuracy: 0.8610 - val_loss: 0.4464 - val_accuracy: 0.8150\n",
      "Epoch 24/200\n",
      "63/63 [==============================] - 0s 1ms/step - loss: 0.3502 - accuracy: 0.8605 - val_loss: 0.4447 - val_accuracy: 0.8180\n",
      "Epoch 25/200\n",
      "63/63 [==============================] - 0s 1ms/step - loss: 0.3492 - accuracy: 0.8625 - val_loss: 0.4446 - val_accuracy: 0.8150\n",
      "Epoch 26/200\n",
      "63/63 [==============================] - 0s 1ms/step - loss: 0.3468 - accuracy: 0.8605 - val_loss: 0.4451 - val_accuracy: 0.8140\n",
      "Epoch 27/200\n",
      "63/63 [==============================] - 0s 954us/step - loss: 0.3453 - accuracy: 0.8630 - val_loss: 0.4453 - val_accuracy: 0.8180\n",
      "Epoch 28/200\n",
      "63/63 [==============================] - 0s 955us/step - loss: 0.3433 - accuracy: 0.8670 - val_loss: 0.4454 - val_accuracy: 0.8180\n",
      "Epoch 29/200\n",
      "63/63 [==============================] - 0s 1ms/step - loss: 0.3405 - accuracy: 0.8645 - val_loss: 0.4530 - val_accuracy: 0.8210\n",
      "Epoch 30/200\n",
      "63/63 [==============================] - 0s 981us/step - loss: 0.3406 - accuracy: 0.8695 - val_loss: 0.4457 - val_accuracy: 0.8180\n",
      "Epoch 31/200\n",
      "63/63 [==============================] - 0s 978us/step - loss: 0.3374 - accuracy: 0.8740 - val_loss: 0.4504 - val_accuracy: 0.8220\n",
      "Epoch 32/200\n",
      "63/63 [==============================] - 0s 1ms/step - loss: 0.3372 - accuracy: 0.8695 - val_loss: 0.4461 - val_accuracy: 0.8160\n",
      "Epoch 33/200\n",
      "63/63 [==============================] - 0s 991us/step - loss: 0.3351 - accuracy: 0.8730 - val_loss: 0.4461 - val_accuracy: 0.8190\n",
      "Epoch 34/200\n",
      "63/63 [==============================] - 0s 1ms/step - loss: 0.3342 - accuracy: 0.8655 - val_loss: 0.4513 - val_accuracy: 0.8220\n",
      "Epoch 35/200\n",
      "63/63 [==============================] - 0s 1ms/step - loss: 0.3335 - accuracy: 0.8660 - val_loss: 0.4474 - val_accuracy: 0.8180\n",
      "Epoch 36/200\n",
      "63/63 [==============================] - 0s 1ms/step - loss: 0.3317 - accuracy: 0.8710 - val_loss: 0.4468 - val_accuracy: 0.8150\n",
      "Epoch 37/200\n",
      "63/63 [==============================] - 0s 2ms/step - loss: 0.3297 - accuracy: 0.8680 - val_loss: 0.4473 - val_accuracy: 0.8190\n",
      "Epoch 38/200\n",
      "63/63 [==============================] - 0s 1ms/step - loss: 0.3284 - accuracy: 0.8760 - val_loss: 0.4523 - val_accuracy: 0.8200\n",
      "Epoch 39/200\n",
      "63/63 [==============================] - 0s 1ms/step - loss: 0.3277 - accuracy: 0.8715 - val_loss: 0.4493 - val_accuracy: 0.8170\n",
      "Epoch 40/200\n",
      "63/63 [==============================] - 0s 955us/step - loss: 0.3285 - accuracy: 0.8715 - val_loss: 0.4513 - val_accuracy: 0.8160\n",
      "Epoch 00040: early stopping\n"
     ]
    },
    {
     "data": {
      "text/plain": [
       "<tensorflow.python.keras.callbacks.History at 0x7f492017ae20>"
      ]
     },
     "execution_count": 40,
     "metadata": {},
     "output_type": "execute_result"
    }
   ],
   "source": [
    "model2.fit(x = train_images, \n",
    "           y = train_labels, \n",
    "           epochs = 200, \n",
    "           validation_data=(test_images, test_labels),\n",
    "           callbacks = [early_stop])"
   ]
  },
  {
   "cell_type": "markdown",
   "metadata": {},
   "source": [
    "We see that early stop was triggered at the epoch 40 over 200. Let's see the results."
   ]
  },
  {
   "cell_type": "code",
   "execution_count": 42,
   "metadata": {},
   "outputs": [
    {
     "data": {
      "text/plain": [
       "<matplotlib.axes._subplots.AxesSubplot at 0x7f49201629a0>"
      ]
     },
     "execution_count": 42,
     "metadata": {},
     "output_type": "execute_result"
    },
    {
     "data": {
      "image/png": "[encoded data removed]",
      "text/plain": [
       "<Figure size 432x288 with 1 Axes>"
      ]
     },
     "metadata": {
      "needs_background": "light"
     },
     "output_type": "display_data"
    }
   ],
   "source": [
    "loss_df2 = pd.DataFrame(model2.history.history)\n",
    "loss_df2.plot()"
   ]
  },
  {
   "cell_type": "markdown",
   "metadata": {},
   "source": [
    "This is much better than above because we can't see that the validation loss is not increasing. Moreover, the difference between the test loss and the train loss is not a very high comparing to the first training."
   ]
  },
  {
   "cell_type": "code",
   "execution_count": 44,
   "metadata": {},
   "outputs": [
    {
     "name": "stdout",
     "output_type": "stream",
     "text": [
      "0.8159999847412109\n",
      "0.8679999709129333\n"
     ]
    }
   ],
   "source": [
    "print(model2.evaluate(test_images, test_labels, verbose=0)[1])\n",
    "print(model2.evaluate(train_images, train_labels, verbose=0)[1])"
   ]
  },
  {
   "cell_type": "markdown",
   "metadata": {},
   "source": [
    "The print of the evaluation confirm our hypothesis."
   ]
  },
  {
   "cell_type": "code",
   "execution_count": 46,
   "metadata": {},
   "outputs": [],
   "source": [
    "test_predictions = model2.predict(test_images)\n",
    "test_predictions = pd.Series(test_predictions.reshape(1000,))\n",
    "test_predictions = test_predictions.apply(lambda x: 1 if x >= 0.5 else 0)\n",
    "eval_df = pd.concat([pd.Series(test_labels), test_predictions], axis=1)\n",
    "eval_df.columns = ['Test True Y', 'Model Predictions']"
   ]
  },
  {
   "cell_type": "markdown",
   "metadata": {},
   "source": [
    "**Model Evaluation with RMSE**"
   ]
  },
  {
   "cell_type": "code",
   "execution_count": 47,
   "metadata": {},
   "outputs": [
    {
     "data": {
      "text/plain": [
       "0.4289522117905443"
      ]
     },
     "execution_count": 47,
     "metadata": {},
     "output_type": "execute_result"
    }
   ],
   "source": [
    "mean_squared_error(eval_df['Test True Y'], eval_df['Model Predictions'])**0.5"
   ]
  },
  {
   "cell_type": "markdown",
   "metadata": {},
   "source": [
    "Now that we know our accuray, it will be interesting to have the ROC so we can conclude if our model is relevant or not."
   ]
  },
  {
   "cell_type": "code",
   "execution_count": 151,
   "metadata": {},
   "outputs": [
    {
     "data": {
      "image/png": "[encoded data removed]",
      "text/plain": [
       "<Figure size 432x288 with 1 Axes>"
      ]
     },
     "metadata": {
      "needs_background": "light"
     },
     "output_type": "display_data"
    }
   ],
   "source": [
    "fpr, tpr, _ = roc_curve(test_labels, test_predictions)\n",
    "roc_auc = auc(fpr, tpr)\n",
    "plt.figure()\n",
    "lw = 2\n",
    "plt.plot(fpr, tpr, color='darkorange',\n",
    "         lw=lw, label='ROC curve (area = %0.2f)' % roc_auc)\n",
    "plt.plot([0, 1], [0, 1], color='navy', lw=lw, linestyle='--')\n",
    "plt.xlim([0.0, 1.0])\n",
    "plt.ylim([0.0, 1.05])\n",
    "plt.xlabel('False Positive Rate')\n",
    "plt.ylabel('True Positive Rate')\n",
    "plt.title('ROC')\n",
    "plt.legend(loc=\"lower right\")\n",
    "plt.show()"
   ]
  },
  {
   "cell_type": "markdown",
   "metadata": {},
   "source": [
    "With the ROC, we can see that our model is better than a random classifier and that is not overfitting because the curve is between the perfect classifier and the random classifier. With an area of 0.82 we can say that our model is a pretty good binary classifier for ant and grapes. The report below confirm this."
   ]
  },
  {
   "cell_type": "code",
   "execution_count": 152,
   "metadata": {},
   "outputs": [
    {
     "name": "stdout",
     "output_type": "stream",
     "text": [
      "              precision    recall  f1-score   support\n",
      "\n",
      "           0       0.83      0.81      0.82       500\n",
      "           1       0.81      0.83      0.82       500\n",
      "\n",
      "    accuracy                           0.82      1000\n",
      "   macro avg       0.82      0.82      0.82      1000\n",
      "weighted avg       0.82      0.82      0.82      1000\n",
      "\n"
     ]
    }
   ],
   "source": [
    "print(classification_report(test_labels, test_predictions))"
   ]
  },
  {
   "cell_type": "code",
   "execution_count": 117,
   "metadata": {},
   "outputs": [
    {
     "name": "stdout",
     "output_type": "stream",
     "text": [
      "[[416  84]\n",
      " [100 400]]\n"
     ]
    }
   ],
   "source": [
    "print(confusion_matrix(test_labels, test_predictions))"
   ]
  },
  {
   "cell_type": "code",
   "execution_count": null,
   "metadata": {},
   "outputs": [],
   "source": []
  }
 ],
 "metadata": {
  "kernelspec": {
   "display_name": "Python 3",
   "language": "python",
   "name": "python3"
  },
  "language_info": {
   "codemirror_mode": {
    "name": "ipython",
    "version": 3
   },
   "file_extension": ".py",
   "mimetype": "text/x-python",
   "name": "python",
   "nbconvert_exporter": "python",
   "pygments_lexer": "ipython3",
   "version": "3.8.5"
  }
 },
 "nbformat": 4,
 "nbformat_minor": 4
}

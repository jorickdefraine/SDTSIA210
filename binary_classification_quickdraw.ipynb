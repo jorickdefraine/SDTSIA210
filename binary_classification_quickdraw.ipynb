{
 "cells": [
  {
   "cell_type": "markdown",
   "metadata": {},
   "source": [
    "**Imports**"
   ]
  },
  {
   "cell_type": "code",
   "execution_count": 441,
   "metadata": {},
   "outputs": [
    {
     "name": "stdout",
     "output_type": "stream",
     "text": [
      "Using keras version 2.4.3\n"
     ]
    }
   ],
   "source": [
    "import numpy as np\n",
    "import pandas as pd\n",
    "import seaborn as sns\n",
    "import matplotlib.pyplot as plt\n",
    "\n",
    "from keras.models import Sequential\n",
    "from keras.layers import Dense, Dropout\n",
    "from tensorflow.keras.callbacks import EarlyStopping\n",
    "\n",
    "from sklearn.preprocessing import MinMaxScaler\n",
    "from sklearn.metrics import mean_squared_error, classification_report, confusion_matrix\n",
    "\n",
    "print(\"Using keras version \" + str(keras.__version__))"
   ]
  },
  {
   "cell_type": "markdown",
   "metadata": {},
   "source": [
    "**Preparing the Data**"
   ]
  },
  {
   "cell_type": "code",
   "execution_count": 383,
   "metadata": {},
   "outputs": [],
   "source": [
    "grapes = np.load('Quidraw_data/G_36_grapes.npy')\n",
    "ant = np.load('Quidraw_data/G_36_ant.npy')\n",
    "test_images = np.load('Quidraw_data/test_images.npy')\n",
    "test_labels = np.load('Quidraw_data/test_labels.npy')"
   ]
  },
  {
   "cell_type": "code",
   "execution_count": 384,
   "metadata": {},
   "outputs": [
    {
     "data": {
      "image/png": "[encoded data removed]",
      "text/plain": [
       "<Figure size 432x288 with 1 Axes>"
      ]
     },
     "metadata": {
      "needs_background": "light"
     },
     "output_type": "display_data"
    },
    {
     "data": {
      "image/png": "[encoded data removed]",
      "text/plain": [
       "<Figure size 432x288 with 1 Axes>"
      ]
     },
     "metadata": {
      "needs_background": "light"
     },
     "output_type": "display_data"
    }
   ],
   "source": [
    "plt.imshow(grapes[0].reshape(28,28), cmap='gray')\n",
    "plt.show()\n",
    "plt.imshow(ant[0].reshape(28,28), cmap='gray')\n",
    "plt.show()"
   ]
  },
  {
   "cell_type": "code",
   "execution_count": 385,
   "metadata": {},
   "outputs": [
    {
     "data": {
      "image/png": "[encoded data removed]",
      "text/plain": [
       "<Figure size 432x288 with 1 Axes>"
      ]
     },
     "metadata": {
      "needs_background": "light"
     },
     "output_type": "display_data"
    },
    {
     "name": "stdout",
     "output_type": "stream",
     "text": [
      "0\n"
     ]
    }
   ],
   "source": [
    "plt.imshow(test_images[100].reshape(28,28), cmap='gray')\n",
    "plt.show()\n",
    "print(test_labels[100])"
   ]
  },
  {
   "cell_type": "code",
   "execution_count": 386,
   "metadata": {},
   "outputs": [],
   "source": [
    "train_images = np.concatenate((ant,grapes),axis=0)"
   ]
  },
  {
   "cell_type": "code",
   "execution_count": 387,
   "metadata": {},
   "outputs": [
    {
     "data": {
      "image/png": "[encoded data removed]",
      "text/plain": [
       "<Figure size 432x288 with 1 Axes>"
      ]
     },
     "metadata": {
      "needs_background": "light"
     },
     "output_type": "display_data"
    },
    {
     "data": {
      "image/png": "[encoded data removed]",
      "text/plain": [
       "<Figure size 432x288 with 1 Axes>"
      ]
     },
     "metadata": {
      "needs_background": "light"
     },
     "output_type": "display_data"
    }
   ],
   "source": [
    "plt.imshow(train_images[0].reshape(28,28), cmap='gray')\n",
    "plt.show()\n",
    "plt.imshow(train_images[1000].reshape(28,28), cmap='gray')\n",
    "plt.show()"
   ]
  },
  {
   "cell_type": "code",
   "execution_count": 388,
   "metadata": {},
   "outputs": [],
   "source": [
    "train_labels = np.concatenate((np.zeros(1000),np.ones(1000)),axis=0)"
   ]
  },
  {
   "cell_type": "code",
   "execution_count": 389,
   "metadata": {},
   "outputs": [],
   "source": [
    "scaler=MinMaxScaler()\n",
    "scaler.fit(train_images)\n",
    "train_images = scaler.transform(train_images)\n",
    "test_images = scaler.transform(test_images)"
   ]
  },
  {
   "cell_type": "markdown",
   "metadata": {},
   "source": [
    "**Creating and Training the Baseline Model**"
   ]
  },
  {
   "cell_type": "code",
   "execution_count": 410,
   "metadata": {},
   "outputs": [],
   "source": [
    "model =  Sequential()\n",
    "\n",
    "model.add(Dense(784, input_dim=784, activation = \"relu\"))\n",
    "\n",
    "model.add(Dense(1, activation = \"sigmoid\"))\n",
    "\n",
    "model.compile(optimizer = 'adam',\n",
    "             loss = 'binary_crossentropy',\n",
    "             metrics = ['accuracy'])"
   ]
  },
  {
   "cell_type": "code",
   "execution_count": 411,
   "metadata": {
    "scrolled": true
   },
   "outputs": [
    {
     "name": "stdout",
     "output_type": "stream",
     "text": [
      "Epoch 1/20\n",
      "63/63 [==============================] - 0s 6ms/step - loss: 0.4345 - accuracy: 0.8170 - val_loss: 0.4114 - val_accuracy: 0.8380\n",
      "Epoch 2/20\n",
      "63/63 [==============================] - 0s 5ms/step - loss: 0.3374 - accuracy: 0.8700 - val_loss: 0.3899 - val_accuracy: 0.8390\n",
      "Epoch 3/20\n",
      "63/63 [==============================] - 0s 5ms/step - loss: 0.2614 - accuracy: 0.9010 - val_loss: 0.3955 - val_accuracy: 0.8300\n",
      "Epoch 4/20\n",
      "63/63 [==============================] - 0s 5ms/step - loss: 0.2006 - accuracy: 0.9325 - val_loss: 0.4056 - val_accuracy: 0.8430\n",
      "Epoch 5/20\n",
      "63/63 [==============================] - 0s 5ms/step - loss: 0.1502 - accuracy: 0.9505 - val_loss: 0.3789 - val_accuracy: 0.8500\n",
      "Epoch 6/20\n",
      "63/63 [==============================] - 0s 5ms/step - loss: 0.0905 - accuracy: 0.9805 - val_loss: 0.4083 - val_accuracy: 0.8470\n",
      "Epoch 7/20\n",
      "63/63 [==============================] - 0s 5ms/step - loss: 0.0600 - accuracy: 0.9880 - val_loss: 0.4290 - val_accuracy: 0.8430\n",
      "Epoch 8/20\n",
      "63/63 [==============================] - 0s 5ms/step - loss: 0.0347 - accuracy: 0.9970 - val_loss: 0.4570 - val_accuracy: 0.8480\n",
      "Epoch 9/20\n",
      "63/63 [==============================] - 0s 5ms/step - loss: 0.0225 - accuracy: 0.9995 - val_loss: 0.4830 - val_accuracy: 0.8550\n",
      "Epoch 10/20\n",
      "63/63 [==============================] - 0s 5ms/step - loss: 0.0144 - accuracy: 0.9995 - val_loss: 0.4990 - val_accuracy: 0.8540\n",
      "Epoch 11/20\n",
      "63/63 [==============================] - 0s 5ms/step - loss: 0.0100 - accuracy: 1.0000 - val_loss: 0.5160 - val_accuracy: 0.8500\n",
      "Epoch 12/20\n",
      "63/63 [==============================] - 0s 6ms/step - loss: 0.0072 - accuracy: 1.0000 - val_loss: 0.5184 - val_accuracy: 0.8480\n",
      "Epoch 13/20\n",
      "63/63 [==============================] - 0s 5ms/step - loss: 0.0057 - accuracy: 1.0000 - val_loss: 0.5460 - val_accuracy: 0.8490\n",
      "Epoch 14/20\n",
      "63/63 [==============================] - 0s 5ms/step - loss: 0.0047 - accuracy: 1.0000 - val_loss: 0.5549 - val_accuracy: 0.8510\n",
      "Epoch 15/20\n",
      "63/63 [==============================] - 0s 5ms/step - loss: 0.0039 - accuracy: 1.0000 - val_loss: 0.5708 - val_accuracy: 0.8480\n",
      "Epoch 16/20\n",
      "63/63 [==============================] - 0s 5ms/step - loss: 0.0033 - accuracy: 1.0000 - val_loss: 0.5687 - val_accuracy: 0.8550\n",
      "Epoch 17/20\n",
      "63/63 [==============================] - 0s 5ms/step - loss: 0.0027 - accuracy: 1.0000 - val_loss: 0.5867 - val_accuracy: 0.8500\n",
      "Epoch 18/20\n",
      "63/63 [==============================] - 0s 5ms/step - loss: 0.0024 - accuracy: 1.0000 - val_loss: 0.6012 - val_accuracy: 0.8500\n",
      "Epoch 19/20\n",
      "63/63 [==============================] - 0s 5ms/step - loss: 0.0021 - accuracy: 1.0000 - val_loss: 0.5908 - val_accuracy: 0.8500\n",
      "Epoch 20/20\n",
      "63/63 [==============================] - 0s 5ms/step - loss: 0.0018 - accuracy: 1.0000 - val_loss: 0.6009 - val_accuracy: 0.8510\n"
     ]
    }
   ],
   "source": [
    "history = model.fit(x = train_images, \n",
    "                    y = train_labels, \n",
    "                    epochs=20, \n",
    "                    validation_data=(test_images,test_labels))"
   ]
  },
  {
   "cell_type": "code",
   "execution_count": 412,
   "metadata": {},
   "outputs": [],
   "source": [
    "loss_df = pd.DataFrame(model.history.history)"
   ]
  },
  {
   "cell_type": "code",
   "execution_count": 413,
   "metadata": {},
   "outputs": [
    {
     "data": {
      "text/plain": [
       "<matplotlib.axes._subplots.AxesSubplot at 0x7f5aa743fe80>"
      ]
     },
     "execution_count": 413,
     "metadata": {},
     "output_type": "execute_result"
    },
    {
     "data": {
      "image/png": "[encoded data removed]",
      "text/plain": [
       "<Figure size 432x288 with 1 Axes>"
      ]
     },
     "metadata": {
      "needs_background": "light"
     },
     "output_type": "display_data"
    }
   ],
   "source": [
    "loss_df.plot()"
   ]
  },
  {
   "cell_type": "markdown",
   "metadata": {},
   "source": [
    "We see that over 20 epochs, the loss is not improving a lot so we keep epochs = 20."
   ]
  },
  {
   "cell_type": "code",
   "execution_count": 414,
   "metadata": {},
   "outputs": [
    {
     "data": {
      "text/plain": [
       "[0.600856602191925, 0.8510000109672546]"
      ]
     },
     "execution_count": 414,
     "metadata": {},
     "output_type": "execute_result"
    }
   ],
   "source": [
    "model.evaluate(test_images, test_labels, verbose=0)"
   ]
  },
  {
   "cell_type": "code",
   "execution_count": 415,
   "metadata": {},
   "outputs": [
    {
     "data": {
      "text/plain": [
       "[0.0015944188926368952, 1.0]"
      ]
     },
     "execution_count": 415,
     "metadata": {},
     "output_type": "execute_result"
    }
   ],
   "source": [
    "model.evaluate(train_images, train_labels, verbose=0)"
   ]
  },
  {
   "cell_type": "code",
   "execution_count": 416,
   "metadata": {},
   "outputs": [],
   "source": [
    "test_predictions = model.predict(test_images)\n",
    "test_predictions = pd.Series(test_predictions.reshape(1000,))\n",
    "test_predictions = test_predictions.apply(lambda x: 1 if x >= 0.5 else 0)"
   ]
  },
  {
   "cell_type": "code",
   "execution_count": 417,
   "metadata": {},
   "outputs": [],
   "source": [
    "eval_df = pd.concat([pd.Series(test_labels), test_predictions], axis=1)\n",
    "eval_df.columns = ['Test True Y', 'Model Predictions']"
   ]
  },
  {
   "cell_type": "markdown",
   "metadata": {},
   "source": [
    "**Model Evaluation with RMSE**"
   ]
  },
  {
   "cell_type": "code",
   "execution_count": 420,
   "metadata": {},
   "outputs": [
    {
     "data": {
      "text/plain": [
       "0.38600518131237566"
      ]
     },
     "execution_count": 420,
     "metadata": {},
     "output_type": "execute_result"
    }
   ],
   "source": [
    "mean_squared_error(eval_df['Test True Y'], eval_df['Model Predictions'])**0.5"
   ]
  },
  {
   "cell_type": "markdown",
   "metadata": {},
   "source": [
    "**Creating and Training a Better Model**"
   ]
  },
  {
   "cell_type": "code",
   "execution_count": 421,
   "metadata": {},
   "outputs": [],
   "source": [
    "model2 = Sequential()\n",
    "\n",
    "model2.add(Dense(784, activation = 'relu'))\n",
    "\n",
    "model2.add(Dense(392, activation = 'relu'))\n",
    "\n",
    "model2.add(Dense(1, activation = 'sigmoid'))\n",
    "\n",
    "model2.compile(loss='binary_crossentropy', \n",
    "               optimizer='adam', \n",
    "               metrics = ['accuracy'])"
   ]
  },
  {
   "cell_type": "code",
   "execution_count": 422,
   "metadata": {
    "scrolled": true
   },
   "outputs": [
    {
     "name": "stdout",
     "output_type": "stream",
     "text": [
      "Epoch 1/200\n",
      "63/63 [==============================] - 0s 8ms/step - loss: 0.4492 - accuracy: 0.8040 - val_loss: 0.4035 - val_accuracy: 0.8360\n",
      "Epoch 2/200\n",
      "63/63 [==============================] - 0s 7ms/step - loss: 0.3242 - accuracy: 0.8715 - val_loss: 0.3911 - val_accuracy: 0.8350\n",
      "Epoch 3/200\n",
      "63/63 [==============================] - 0s 7ms/step - loss: 0.2241 - accuracy: 0.9170 - val_loss: 0.4089 - val_accuracy: 0.8430\n",
      "Epoch 4/200\n",
      "63/63 [==============================] - 0s 7ms/step - loss: 0.1189 - accuracy: 0.9595 - val_loss: 0.4612 - val_accuracy: 0.8200\n",
      "Epoch 5/200\n",
      "63/63 [==============================] - 0s 7ms/step - loss: 0.0627 - accuracy: 0.9820 - val_loss: 0.5698 - val_accuracy: 0.8360\n",
      "Epoch 6/200\n",
      "63/63 [==============================] - 0s 7ms/step - loss: 0.0611 - accuracy: 0.9780 - val_loss: 0.6132 - val_accuracy: 0.8390\n",
      "Epoch 7/200\n",
      "63/63 [==============================] - 0s 7ms/step - loss: 0.0254 - accuracy: 0.9925 - val_loss: 0.9452 - val_accuracy: 0.8230\n",
      "Epoch 8/200\n",
      "63/63 [==============================] - 0s 7ms/step - loss: 0.0298 - accuracy: 0.9895 - val_loss: 0.6300 - val_accuracy: 0.8340\n",
      "Epoch 9/200\n",
      "63/63 [==============================] - 0s 7ms/step - loss: 0.0120 - accuracy: 0.9970 - val_loss: 0.8932 - val_accuracy: 0.8370\n",
      "Epoch 10/200\n",
      "63/63 [==============================] - 0s 7ms/step - loss: 0.0027 - accuracy: 1.0000 - val_loss: 0.8367 - val_accuracy: 0.8400\n",
      "Epoch 11/200\n",
      "63/63 [==============================] - 0s 7ms/step - loss: 8.4690e-04 - accuracy: 1.0000 - val_loss: 0.9132 - val_accuracy: 0.8310\n",
      "Epoch 12/200\n",
      "63/63 [==============================] - 1s 9ms/step - loss: 0.0089 - accuracy: 0.9970 - val_loss: 0.9241 - val_accuracy: 0.8400\n",
      "Epoch 13/200\n",
      "63/63 [==============================] - 1s 9ms/step - loss: 0.0018 - accuracy: 1.0000 - val_loss: 0.8658 - val_accuracy: 0.8370\n",
      "Epoch 14/200\n",
      "63/63 [==============================] - 1s 8ms/step - loss: 3.9144e-04 - accuracy: 1.0000 - val_loss: 0.9141 - val_accuracy: 0.8380\n",
      "Epoch 15/200\n",
      "63/63 [==============================] - 0s 8ms/step - loss: 2.1789e-04 - accuracy: 1.0000 - val_loss: 0.9301 - val_accuracy: 0.8410\n",
      "Epoch 16/200\n",
      "63/63 [==============================] - 1s 11ms/step - loss: 1.7056e-04 - accuracy: 1.0000 - val_loss: 0.9460 - val_accuracy: 0.8420\n",
      "Epoch 17/200\n",
      "63/63 [==============================] - 1s 11ms/step - loss: 1.4002e-04 - accuracy: 1.0000 - val_loss: 0.9554 - val_accuracy: 0.8430\n",
      "Epoch 18/200\n",
      "63/63 [==============================] - 0s 7ms/step - loss: 1.1897e-04 - accuracy: 1.0000 - val_loss: 0.9627 - val_accuracy: 0.8420\n",
      "Epoch 19/200\n",
      "63/63 [==============================] - 0s 7ms/step - loss: 1.0221e-04 - accuracy: 1.0000 - val_loss: 0.9717 - val_accuracy: 0.8410\n",
      "Epoch 20/200\n",
      "63/63 [==============================] - 0s 7ms/step - loss: 8.9460e-05 - accuracy: 1.0000 - val_loss: 0.9826 - val_accuracy: 0.8390\n",
      "Epoch 21/200\n",
      "63/63 [==============================] - 0s 7ms/step - loss: 7.9449e-05 - accuracy: 1.0000 - val_loss: 0.9905 - val_accuracy: 0.8400\n",
      "Epoch 22/200\n",
      "63/63 [==============================] - 0s 7ms/step - loss: 7.0452e-05 - accuracy: 1.0000 - val_loss: 0.9974 - val_accuracy: 0.8400\n",
      "Epoch 23/200\n",
      "63/63 [==============================] - 0s 7ms/step - loss: 6.2912e-05 - accuracy: 1.0000 - val_loss: 1.0049 - val_accuracy: 0.8410\n",
      "Epoch 24/200\n",
      "63/63 [==============================] - 0s 7ms/step - loss: 5.6999e-05 - accuracy: 1.0000 - val_loss: 1.0110 - val_accuracy: 0.8410\n",
      "Epoch 25/200\n",
      "63/63 [==============================] - 0s 7ms/step - loss: 5.1614e-05 - accuracy: 1.0000 - val_loss: 1.0192 - val_accuracy: 0.8410\n",
      "Epoch 26/200\n",
      "63/63 [==============================] - 1s 10ms/step - loss: 4.7321e-05 - accuracy: 1.0000 - val_loss: 1.0265 - val_accuracy: 0.8420\n",
      "Epoch 27/200\n",
      "63/63 [==============================] - 1s 8ms/step - loss: 4.3199e-05 - accuracy: 1.0000 - val_loss: 1.0304 - val_accuracy: 0.8430\n",
      "Epoch 28/200\n",
      "63/63 [==============================] - 1s 10ms/step - loss: 3.9486e-05 - accuracy: 1.0000 - val_loss: 1.0370 - val_accuracy: 0.8440\n",
      "Epoch 29/200\n",
      "63/63 [==============================] - 0s 7ms/step - loss: 3.6283e-05 - accuracy: 1.0000 - val_loss: 1.0439 - val_accuracy: 0.8430\n",
      "Epoch 30/200\n",
      "63/63 [==============================] - 1s 13ms/step - loss: 3.3401e-05 - accuracy: 1.0000 - val_loss: 1.0512 - val_accuracy: 0.8430\n",
      "Epoch 31/200\n",
      "63/63 [==============================] - 1s 15ms/step - loss: 3.0818e-05 - accuracy: 1.0000 - val_loss: 1.0556 - val_accuracy: 0.8440\n",
      "Epoch 32/200\n",
      "63/63 [==============================] - 1s 10ms/step - loss: 2.8582e-05 - accuracy: 1.0000 - val_loss: 1.0623 - val_accuracy: 0.8430\n",
      "Epoch 33/200\n",
      "63/63 [==============================] - 1s 10ms/step - loss: 2.6369e-05 - accuracy: 1.0000 - val_loss: 1.0692 - val_accuracy: 0.8430\n",
      "Epoch 34/200\n",
      "63/63 [==============================] - 1s 8ms/step - loss: 2.4479e-05 - accuracy: 1.0000 - val_loss: 1.0732 - val_accuracy: 0.8440\n",
      "Epoch 35/200\n",
      "63/63 [==============================] - 0s 8ms/step - loss: 2.2637e-05 - accuracy: 1.0000 - val_loss: 1.0804 - val_accuracy: 0.8440\n",
      "Epoch 36/200\n",
      "63/63 [==============================] - 1s 10ms/step - loss: 2.1083e-05 - accuracy: 1.0000 - val_loss: 1.0870 - val_accuracy: 0.8440\n",
      "Epoch 37/200\n",
      "63/63 [==============================] - 1s 13ms/step - loss: 1.9538e-05 - accuracy: 1.0000 - val_loss: 1.0911 - val_accuracy: 0.8440\n",
      "Epoch 38/200\n",
      "63/63 [==============================] - 1s 12ms/step - loss: 1.8221e-05 - accuracy: 1.0000 - val_loss: 1.0982 - val_accuracy: 0.8440\n",
      "Epoch 39/200\n",
      "63/63 [==============================] - 1s 11ms/step - loss: 1.6965e-05 - accuracy: 1.0000 - val_loss: 1.1038 - val_accuracy: 0.8440\n",
      "Epoch 40/200\n",
      "63/63 [==============================] - 1s 14ms/step - loss: 1.5798e-05 - accuracy: 1.0000 - val_loss: 1.1093 - val_accuracy: 0.8440\n",
      "Epoch 41/200\n",
      "63/63 [==============================] - 1s 12ms/step - loss: 1.4792e-05 - accuracy: 1.0000 - val_loss: 1.1156 - val_accuracy: 0.8440\n",
      "Epoch 42/200\n",
      "63/63 [==============================] - 1s 14ms/step - loss: 1.3750e-05 - accuracy: 1.0000 - val_loss: 1.1211 - val_accuracy: 0.8440\n",
      "Epoch 43/200\n",
      "63/63 [==============================] - 1s 13ms/step - loss: 1.2803e-05 - accuracy: 1.0000 - val_loss: 1.1262 - val_accuracy: 0.8450\n",
      "Epoch 44/200\n",
      "63/63 [==============================] - 1s 16ms/step - loss: 1.1963e-05 - accuracy: 1.0000 - val_loss: 1.1318 - val_accuracy: 0.8460\n",
      "Epoch 45/200\n",
      "63/63 [==============================] - 1s 13ms/step - loss: 1.1168e-05 - accuracy: 1.0000 - val_loss: 1.1381 - val_accuracy: 0.8460\n",
      "Epoch 46/200\n",
      "63/63 [==============================] - 1s 17ms/step - loss: 1.0470e-05 - accuracy: 1.0000 - val_loss: 1.1425 - val_accuracy: 0.8460\n",
      "Epoch 47/200\n",
      "63/63 [==============================] - 1s 9ms/step - loss: 9.7791e-06 - accuracy: 1.0000 - val_loss: 1.1503 - val_accuracy: 0.8460\n",
      "Epoch 48/200\n",
      "63/63 [==============================] - 1s 8ms/step - loss: 9.1551e-06 - accuracy: 1.0000 - val_loss: 1.1549 - val_accuracy: 0.8460\n",
      "Epoch 49/200\n",
      "63/63 [==============================] - 1s 12ms/step - loss: 8.5819e-06 - accuracy: 1.0000 - val_loss: 1.1611 - val_accuracy: 0.8460\n",
      "Epoch 50/200\n",
      "63/63 [==============================] - 1s 19ms/step - loss: 8.0640e-06 - accuracy: 1.0000 - val_loss: 1.1661 - val_accuracy: 0.8460\n",
      "Epoch 51/200\n",
      "63/63 [==============================] - 1s 13ms/step - loss: 7.5611e-06 - accuracy: 1.0000 - val_loss: 1.1710 - val_accuracy: 0.8460\n",
      "Epoch 52/200\n",
      "63/63 [==============================] - 0s 7ms/step - loss: 7.0941e-06 - accuracy: 1.0000 - val_loss: 1.1792 - val_accuracy: 0.8470\n",
      "Epoch 53/200\n",
      "63/63 [==============================] - 1s 10ms/step - loss: 6.6764e-06 - accuracy: 1.0000 - val_loss: 1.1846 - val_accuracy: 0.8470\n",
      "Epoch 54/200\n",
      "63/63 [==============================] - 1s 10ms/step - loss: 6.2667e-06 - accuracy: 1.0000 - val_loss: 1.1897 - val_accuracy: 0.8470\n",
      "Epoch 55/200\n",
      "63/63 [==============================] - 0s 7ms/step - loss: 5.8802e-06 - accuracy: 1.0000 - val_loss: 1.1928 - val_accuracy: 0.8470\n",
      "Epoch 56/200\n",
      "63/63 [==============================] - 1s 13ms/step - loss: 5.5227e-06 - accuracy: 1.0000 - val_loss: 1.1983 - val_accuracy: 0.8470\n",
      "Epoch 57/200\n"
     ]
    },
    {
     "name": "stdout",
     "output_type": "stream",
     "text": [
      "63/63 [==============================] - 1s 13ms/step - loss: 5.2042e-06 - accuracy: 1.0000 - val_loss: 1.2034 - val_accuracy: 0.8470\n",
      "Epoch 58/200\n",
      "63/63 [==============================] - 1s 15ms/step - loss: 4.8884e-06 - accuracy: 1.0000 - val_loss: 1.2104 - val_accuracy: 0.8480\n",
      "Epoch 59/200\n",
      "63/63 [==============================] - 1s 15ms/step - loss: 4.6006e-06 - accuracy: 1.0000 - val_loss: 1.2158 - val_accuracy: 0.8480\n",
      "Epoch 60/200\n",
      "63/63 [==============================] - 1s 15ms/step - loss: 4.3388e-06 - accuracy: 1.0000 - val_loss: 1.2213 - val_accuracy: 0.8470\n",
      "Epoch 61/200\n",
      "63/63 [==============================] - 1s 15ms/step - loss: 4.0986e-06 - accuracy: 1.0000 - val_loss: 1.2277 - val_accuracy: 0.8470\n",
      "Epoch 62/200\n",
      "63/63 [==============================] - 1s 12ms/step - loss: 3.8575e-06 - accuracy: 1.0000 - val_loss: 1.2326 - val_accuracy: 0.8460\n",
      "Epoch 63/200\n",
      "63/63 [==============================] - 1s 11ms/step - loss: 3.6428e-06 - accuracy: 1.0000 - val_loss: 1.2365 - val_accuracy: 0.8460\n",
      "Epoch 64/200\n",
      "63/63 [==============================] - 1s 12ms/step - loss: 3.4371e-06 - accuracy: 1.0000 - val_loss: 1.2420 - val_accuracy: 0.8460\n",
      "Epoch 65/200\n",
      "63/63 [==============================] - 1s 11ms/step - loss: 3.2501e-06 - accuracy: 1.0000 - val_loss: 1.2472 - val_accuracy: 0.8470\n",
      "Epoch 66/200\n",
      "63/63 [==============================] - 1s 12ms/step - loss: 3.0711e-06 - accuracy: 1.0000 - val_loss: 1.2528 - val_accuracy: 0.8460\n",
      "Epoch 67/200\n",
      "63/63 [==============================] - 1s 12ms/step - loss: 2.9049e-06 - accuracy: 1.0000 - val_loss: 1.2591 - val_accuracy: 0.8470\n",
      "Epoch 68/200\n",
      "63/63 [==============================] - 1s 12ms/step - loss: 2.7443e-06 - accuracy: 1.0000 - val_loss: 1.2624 - val_accuracy: 0.8470\n",
      "Epoch 69/200\n",
      "63/63 [==============================] - 1s 13ms/step - loss: 2.6003e-06 - accuracy: 1.0000 - val_loss: 1.2672 - val_accuracy: 0.8470\n",
      "Epoch 70/200\n",
      "63/63 [==============================] - 1s 12ms/step - loss: 2.4635e-06 - accuracy: 1.0000 - val_loss: 1.2731 - val_accuracy: 0.8470\n",
      "Epoch 71/200\n",
      "63/63 [==============================] - 1s 12ms/step - loss: 2.3372e-06 - accuracy: 1.0000 - val_loss: 1.2790 - val_accuracy: 0.8470\n",
      "Epoch 72/200\n",
      "63/63 [==============================] - 1s 12ms/step - loss: 2.2115e-06 - accuracy: 1.0000 - val_loss: 1.2834 - val_accuracy: 0.8470\n",
      "Epoch 73/200\n",
      "63/63 [==============================] - 1s 11ms/step - loss: 2.1005e-06 - accuracy: 1.0000 - val_loss: 1.2894 - val_accuracy: 0.8470\n",
      "Epoch 74/200\n",
      "63/63 [==============================] - 1s 12ms/step - loss: 1.9914e-06 - accuracy: 1.0000 - val_loss: 1.2921 - val_accuracy: 0.8470\n",
      "Epoch 75/200\n",
      "63/63 [==============================] - 1s 11ms/step - loss: 1.8928e-06 - accuracy: 1.0000 - val_loss: 1.2961 - val_accuracy: 0.8470\n",
      "Epoch 76/200\n",
      "63/63 [==============================] - 1s 12ms/step - loss: 1.7925e-06 - accuracy: 1.0000 - val_loss: 1.3009 - val_accuracy: 0.8470\n",
      "Epoch 77/200\n",
      "63/63 [==============================] - 1s 12ms/step - loss: 1.7065e-06 - accuracy: 1.0000 - val_loss: 1.3056 - val_accuracy: 0.8470\n",
      "Epoch 78/200\n",
      "63/63 [==============================] - 1s 11ms/step - loss: 1.6217e-06 - accuracy: 1.0000 - val_loss: 1.3099 - val_accuracy: 0.8480\n",
      "Epoch 79/200\n",
      "63/63 [==============================] - 1s 11ms/step - loss: 1.5428e-06 - accuracy: 1.0000 - val_loss: 1.3168 - val_accuracy: 0.8470\n",
      "Epoch 80/200\n",
      "63/63 [==============================] - 1s 12ms/step - loss: 1.4669e-06 - accuracy: 1.0000 - val_loss: 1.3202 - val_accuracy: 0.8470\n",
      "Epoch 81/200\n",
      "63/63 [==============================] - 1s 11ms/step - loss: 1.4030e-06 - accuracy: 1.0000 - val_loss: 1.3247 - val_accuracy: 0.8480\n",
      "Epoch 82/200\n",
      "63/63 [==============================] - 1s 12ms/step - loss: 1.3292e-06 - accuracy: 1.0000 - val_loss: 1.3299 - val_accuracy: 0.8480\n",
      "Epoch 83/200\n",
      "63/63 [==============================] - 1s 11ms/step - loss: 1.2663e-06 - accuracy: 1.0000 - val_loss: 1.3336 - val_accuracy: 0.8470\n",
      "Epoch 84/200\n",
      "63/63 [==============================] - 1s 12ms/step - loss: 1.2070e-06 - accuracy: 1.0000 - val_loss: 1.3391 - val_accuracy: 0.8470\n",
      "Epoch 85/200\n",
      "63/63 [==============================] - 1s 13ms/step - loss: 1.1525e-06 - accuracy: 1.0000 - val_loss: 1.3446 - val_accuracy: 0.8470\n",
      "Epoch 86/200\n",
      "63/63 [==============================] - 1s 11ms/step - loss: 1.0979e-06 - accuracy: 1.0000 - val_loss: 1.3478 - val_accuracy: 0.8470\n",
      "Epoch 87/200\n",
      "63/63 [==============================] - 1s 12ms/step - loss: 1.0489e-06 - accuracy: 1.0000 - val_loss: 1.3514 - val_accuracy: 0.8470\n",
      "Epoch 88/200\n",
      "63/63 [==============================] - 1s 12ms/step - loss: 9.9968e-07 - accuracy: 1.0000 - val_loss: 1.3584 - val_accuracy: 0.8460\n",
      "Epoch 89/200\n",
      "63/63 [==============================] - 1s 13ms/step - loss: 9.5492e-07 - accuracy: 1.0000 - val_loss: 1.3605 - val_accuracy: 0.8460\n",
      "Epoch 90/200\n",
      "63/63 [==============================] - 1s 12ms/step - loss: 9.1186e-07 - accuracy: 1.0000 - val_loss: 1.3663 - val_accuracy: 0.8460\n",
      "Epoch 91/200\n",
      "63/63 [==============================] - 1s 12ms/step - loss: 8.7120e-07 - accuracy: 1.0000 - val_loss: 1.3709 - val_accuracy: 0.8460\n",
      "Epoch 92/200\n",
      "63/63 [==============================] - 1s 12ms/step - loss: 8.3443e-07 - accuracy: 1.0000 - val_loss: 1.3746 - val_accuracy: 0.8460\n",
      "Epoch 93/200\n",
      "63/63 [==============================] - 1s 12ms/step - loss: 7.9621e-07 - accuracy: 1.0000 - val_loss: 1.3784 - val_accuracy: 0.8460\n",
      "Epoch 94/200\n",
      "63/63 [==============================] - 1s 11ms/step - loss: 7.6072e-07 - accuracy: 1.0000 - val_loss: 1.3822 - val_accuracy: 0.8470\n",
      "Epoch 95/200\n",
      "63/63 [==============================] - 1s 12ms/step - loss: 7.2854e-07 - accuracy: 1.0000 - val_loss: 1.3871 - val_accuracy: 0.8460\n",
      "Epoch 96/200\n",
      "63/63 [==============================] - 1s 14ms/step - loss: 6.9664e-07 - accuracy: 1.0000 - val_loss: 1.3898 - val_accuracy: 0.8460\n",
      "Epoch 97/200\n",
      "63/63 [==============================] - 1s 14ms/step - loss: 6.6667e-07 - accuracy: 1.0000 - val_loss: 1.3953 - val_accuracy: 0.8460\n",
      "Epoch 98/200\n",
      "63/63 [==============================] - 1s 19ms/step - loss: 6.3962e-07 - accuracy: 1.0000 - val_loss: 1.4012 - val_accuracy: 0.8460\n",
      "Epoch 99/200\n",
      "63/63 [==============================] - 1s 16ms/step - loss: 6.1293e-07 - accuracy: 1.0000 - val_loss: 1.4041 - val_accuracy: 0.8450\n",
      "Epoch 100/200\n",
      "63/63 [==============================] - 1s 11ms/step - loss: 5.8540e-07 - accuracy: 1.0000 - val_loss: 1.4076 - val_accuracy: 0.8460\n",
      "Epoch 101/200\n",
      "63/63 [==============================] - 0s 7ms/step - loss: 5.6186e-07 - accuracy: 1.0000 - val_loss: 1.4114 - val_accuracy: 0.8460\n",
      "Epoch 102/200\n",
      "63/63 [==============================] - 1s 12ms/step - loss: 5.3781e-07 - accuracy: 1.0000 - val_loss: 1.4147 - val_accuracy: 0.8460\n",
      "Epoch 103/200\n",
      "63/63 [==============================] - 1s 15ms/step - loss: 5.1502e-07 - accuracy: 1.0000 - val_loss: 1.4200 - val_accuracy: 0.8460\n",
      "Epoch 104/200\n",
      "63/63 [==============================] - 1s 14ms/step - loss: 4.9532e-07 - accuracy: 1.0000 - val_loss: 1.4237 - val_accuracy: 0.8460\n",
      "Epoch 105/200\n",
      "63/63 [==============================] - 0s 7ms/step - loss: 4.7498e-07 - accuracy: 1.0000 - val_loss: 1.4291 - val_accuracy: 0.8460\n",
      "Epoch 106/200\n",
      "63/63 [==============================] - 1s 9ms/step - loss: 4.5647e-07 - accuracy: 1.0000 - val_loss: 1.4319 - val_accuracy: 0.8460\n",
      "Epoch 107/200\n",
      "63/63 [==============================] - 1s 11ms/step - loss: 4.3745e-07 - accuracy: 1.0000 - val_loss: 1.4359 - val_accuracy: 0.8460\n",
      "Epoch 108/200\n",
      "63/63 [==============================] - 1s 13ms/step - loss: 4.1977e-07 - accuracy: 1.0000 - val_loss: 1.4389 - val_accuracy: 0.8450\n",
      "Epoch 109/200\n",
      "63/63 [==============================] - 1s 9ms/step - loss: 4.0250e-07 - accuracy: 1.0000 - val_loss: 1.4431 - val_accuracy: 0.8450\n",
      "Epoch 110/200\n",
      "63/63 [==============================] - 0s 7ms/step - loss: 3.8681e-07 - accuracy: 1.0000 - val_loss: 1.4489 - val_accuracy: 0.8460\n",
      "Epoch 111/200\n",
      "63/63 [==============================] - 0s 7ms/step - loss: 3.7179e-07 - accuracy: 1.0000 - val_loss: 1.4498 - val_accuracy: 0.8450\n",
      "Epoch 112/200\n",
      "63/63 [==============================] - 0s 7ms/step - loss: 3.5676e-07 - accuracy: 1.0000 - val_loss: 1.4549 - val_accuracy: 0.8450\n"
     ]
    },
    {
     "name": "stdout",
     "output_type": "stream",
     "text": [
      "Epoch 113/200\n",
      "63/63 [==============================] - 0s 7ms/step - loss: 3.4318e-07 - accuracy: 1.0000 - val_loss: 1.4581 - val_accuracy: 0.8450\n",
      "Epoch 114/200\n",
      "63/63 [==============================] - 0s 7ms/step - loss: 3.2990e-07 - accuracy: 1.0000 - val_loss: 1.4629 - val_accuracy: 0.8450\n",
      "Epoch 115/200\n",
      "63/63 [==============================] - 0s 7ms/step - loss: 3.1713e-07 - accuracy: 1.0000 - val_loss: 1.4671 - val_accuracy: 0.8450\n",
      "Epoch 116/200\n",
      "63/63 [==============================] - 0s 7ms/step - loss: 3.0513e-07 - accuracy: 1.0000 - val_loss: 1.4702 - val_accuracy: 0.8450\n",
      "Epoch 117/200\n",
      "63/63 [==============================] - 0s 7ms/step - loss: 2.9384e-07 - accuracy: 1.0000 - val_loss: 1.4735 - val_accuracy: 0.8450\n",
      "Epoch 118/200\n",
      "63/63 [==============================] - 0s 7ms/step - loss: 2.8262e-07 - accuracy: 1.0000 - val_loss: 1.4770 - val_accuracy: 0.8450\n",
      "Epoch 119/200\n",
      "63/63 [==============================] - 0s 7ms/step - loss: 2.7183e-07 - accuracy: 1.0000 - val_loss: 1.4812 - val_accuracy: 0.8450\n",
      "Epoch 120/200\n",
      "63/63 [==============================] - 0s 7ms/step - loss: 2.6167e-07 - accuracy: 1.0000 - val_loss: 1.4857 - val_accuracy: 0.8450\n",
      "Epoch 121/200\n",
      "63/63 [==============================] - 0s 7ms/step - loss: 2.5226e-07 - accuracy: 1.0000 - val_loss: 1.4892 - val_accuracy: 0.8450\n",
      "Epoch 122/200\n",
      "63/63 [==============================] - 0s 7ms/step - loss: 2.4248e-07 - accuracy: 1.0000 - val_loss: 1.4912 - val_accuracy: 0.8450\n",
      "Epoch 123/200\n",
      "63/63 [==============================] - 0s 7ms/step - loss: 2.3381e-07 - accuracy: 1.0000 - val_loss: 1.4967 - val_accuracy: 0.8450\n",
      "Epoch 124/200\n",
      "63/63 [==============================] - 0s 7ms/step - loss: 2.2493e-07 - accuracy: 1.0000 - val_loss: 1.4996 - val_accuracy: 0.8450\n",
      "Epoch 125/200\n",
      "63/63 [==============================] - 0s 7ms/step - loss: 2.1762e-07 - accuracy: 1.0000 - val_loss: 1.5030 - val_accuracy: 0.8450\n",
      "Epoch 126/200\n",
      "63/63 [==============================] - 0s 7ms/step - loss: 2.0856e-07 - accuracy: 1.0000 - val_loss: 1.5065 - val_accuracy: 0.8450\n",
      "Epoch 127/200\n",
      "63/63 [==============================] - 0s 7ms/step - loss: 2.0142e-07 - accuracy: 1.0000 - val_loss: 1.5107 - val_accuracy: 0.8450\n",
      "Epoch 128/200\n",
      "63/63 [==============================] - 0s 7ms/step - loss: 1.9425e-07 - accuracy: 1.0000 - val_loss: 1.5139 - val_accuracy: 0.8450\n",
      "Epoch 129/200\n",
      "63/63 [==============================] - 0s 7ms/step - loss: 1.8699e-07 - accuracy: 1.0000 - val_loss: 1.5169 - val_accuracy: 0.8450\n",
      "Epoch 130/200\n",
      "63/63 [==============================] - 0s 7ms/step - loss: 1.8035e-07 - accuracy: 1.0000 - val_loss: 1.5209 - val_accuracy: 0.8450\n",
      "Epoch 131/200\n",
      "63/63 [==============================] - 0s 7ms/step - loss: 1.7372e-07 - accuracy: 1.0000 - val_loss: 1.5233 - val_accuracy: 0.8450\n",
      "Epoch 132/200\n",
      "63/63 [==============================] - 0s 7ms/step - loss: 1.6776e-07 - accuracy: 1.0000 - val_loss: 1.5269 - val_accuracy: 0.8450\n",
      "Epoch 133/200\n",
      "63/63 [==============================] - 0s 7ms/step - loss: 1.6226e-07 - accuracy: 1.0000 - val_loss: 1.5310 - val_accuracy: 0.8450\n",
      "Epoch 134/200\n",
      "63/63 [==============================] - 0s 7ms/step - loss: 1.5612e-07 - accuracy: 1.0000 - val_loss: 1.5346 - val_accuracy: 0.8450\n",
      "Epoch 135/200\n",
      "63/63 [==============================] - 0s 7ms/step - loss: 1.5026e-07 - accuracy: 1.0000 - val_loss: 1.5372 - val_accuracy: 0.8450\n",
      "Epoch 136/200\n",
      "63/63 [==============================] - 0s 7ms/step - loss: 1.4509e-07 - accuracy: 1.0000 - val_loss: 1.5409 - val_accuracy: 0.8450\n",
      "Epoch 137/200\n",
      "63/63 [==============================] - 0s 7ms/step - loss: 1.4033e-07 - accuracy: 1.0000 - val_loss: 1.5441 - val_accuracy: 0.8450\n",
      "Epoch 138/200\n",
      "63/63 [==============================] - 0s 7ms/step - loss: 1.3544e-07 - accuracy: 1.0000 - val_loss: 1.5476 - val_accuracy: 0.8450\n",
      "Epoch 139/200\n",
      "63/63 [==============================] - 0s 7ms/step - loss: 1.3039e-07 - accuracy: 1.0000 - val_loss: 1.5514 - val_accuracy: 0.8450\n",
      "Epoch 140/200\n",
      "63/63 [==============================] - 0s 7ms/step - loss: 1.2580e-07 - accuracy: 1.0000 - val_loss: 1.5543 - val_accuracy: 0.8450\n",
      "Epoch 141/200\n",
      "63/63 [==============================] - 0s 7ms/step - loss: 1.2151e-07 - accuracy: 1.0000 - val_loss: 1.5577 - val_accuracy: 0.8450\n",
      "Epoch 142/200\n",
      "63/63 [==============================] - 0s 7ms/step - loss: 1.1744e-07 - accuracy: 1.0000 - val_loss: 1.5606 - val_accuracy: 0.8450\n",
      "Epoch 143/200\n",
      "63/63 [==============================] - 0s 7ms/step - loss: 1.1318e-07 - accuracy: 1.0000 - val_loss: 1.5640 - val_accuracy: 0.8450\n",
      "Epoch 144/200\n",
      "63/63 [==============================] - 0s 7ms/step - loss: 1.0940e-07 - accuracy: 1.0000 - val_loss: 1.5679 - val_accuracy: 0.8450\n",
      "Epoch 145/200\n",
      "63/63 [==============================] - 0s 7ms/step - loss: 1.0566e-07 - accuracy: 1.0000 - val_loss: 1.5720 - val_accuracy: 0.8450\n",
      "Epoch 146/200\n",
      "63/63 [==============================] - 0s 7ms/step - loss: 1.0202e-07 - accuracy: 1.0000 - val_loss: 1.5736 - val_accuracy: 0.8460\n",
      "Epoch 147/200\n",
      "63/63 [==============================] - 0s 7ms/step - loss: 9.8712e-08 - accuracy: 1.0000 - val_loss: 1.5779 - val_accuracy: 0.8450\n",
      "Epoch 148/200\n",
      "63/63 [==============================] - 0s 7ms/step - loss: 9.5170e-08 - accuracy: 1.0000 - val_loss: 1.5804 - val_accuracy: 0.8460\n",
      "Epoch 149/200\n",
      "63/63 [==============================] - 0s 7ms/step - loss: 9.2125e-08 - accuracy: 1.0000 - val_loss: 1.5837 - val_accuracy: 0.8450\n",
      "Epoch 150/200\n",
      "63/63 [==============================] - 0s 7ms/step - loss: 8.8853e-08 - accuracy: 1.0000 - val_loss: 1.5876 - val_accuracy: 0.8450\n",
      "Epoch 151/200\n",
      "63/63 [==============================] - 0s 8ms/step - loss: 8.6032e-08 - accuracy: 1.0000 - val_loss: 1.5909 - val_accuracy: 0.8450\n",
      "Epoch 152/200\n",
      "63/63 [==============================] - 1s 10ms/step - loss: 8.3155e-08 - accuracy: 1.0000 - val_loss: 1.5935 - val_accuracy: 0.8450\n",
      "Epoch 153/200\n",
      "63/63 [==============================] - 1s 10ms/step - loss: 8.0304e-08 - accuracy: 1.0000 - val_loss: 1.5959 - val_accuracy: 0.8460\n",
      "Epoch 154/200\n",
      "63/63 [==============================] - 1s 11ms/step - loss: 7.7694e-08 - accuracy: 1.0000 - val_loss: 1.5990 - val_accuracy: 0.8460\n",
      "Epoch 155/200\n",
      "63/63 [==============================] - 0s 7ms/step - loss: 7.4945e-08 - accuracy: 1.0000 - val_loss: 1.6031 - val_accuracy: 0.8450\n",
      "Epoch 156/200\n",
      "63/63 [==============================] - 1s 18ms/step - loss: 7.2442e-08 - accuracy: 1.0000 - val_loss: 1.6053 - val_accuracy: 0.8450\n",
      "Epoch 157/200\n",
      "63/63 [==============================] - 1s 14ms/step - loss: 7.0031e-08 - accuracy: 1.0000 - val_loss: 1.6087 - val_accuracy: 0.8460\n",
      "Epoch 158/200\n",
      "63/63 [==============================] - 1s 12ms/step - loss: 6.7847e-08 - accuracy: 1.0000 - val_loss: 1.6116 - val_accuracy: 0.8460\n",
      "Epoch 159/200\n",
      "63/63 [==============================] - 1s 19ms/step - loss: 6.5664e-08 - accuracy: 1.0000 - val_loss: 1.6160 - val_accuracy: 0.8460\n",
      "Epoch 160/200\n",
      "63/63 [==============================] - 1s 15ms/step - loss: 6.3357e-08 - accuracy: 1.0000 - val_loss: 1.6196 - val_accuracy: 0.8450\n",
      "Epoch 161/200\n",
      "63/63 [==============================] - 0s 7ms/step - loss: 6.1293e-08 - accuracy: 1.0000 - val_loss: 1.6217 - val_accuracy: 0.8450\n",
      "Epoch 162/200\n",
      "63/63 [==============================] - 0s 8ms/step - loss: 5.9287e-08 - accuracy: 1.0000 - val_loss: 1.6241 - val_accuracy: 0.8460\n",
      "Epoch 163/200\n",
      "63/63 [==============================] - 1s 16ms/step - loss: 5.7484e-08 - accuracy: 1.0000 - val_loss: 1.6269 - val_accuracy: 0.8460\n",
      "Epoch 164/200\n",
      "63/63 [==============================] - 1s 15ms/step - loss: 5.5469e-08 - accuracy: 1.0000 - val_loss: 1.6304 - val_accuracy: 0.8460\n",
      "Epoch 165/200\n",
      "63/63 [==============================] - 1s 16ms/step - loss: 5.3658e-08 - accuracy: 1.0000 - val_loss: 1.6333 - val_accuracy: 0.8460\n",
      "Epoch 166/200\n",
      "63/63 [==============================] - 1s 15ms/step - loss: 5.1980e-08 - accuracy: 1.0000 - val_loss: 1.6366 - val_accuracy: 0.8460\n",
      "Epoch 167/200\n",
      "63/63 [==============================] - 1s 12ms/step - loss: 5.0275e-08 - accuracy: 1.0000 - val_loss: 1.6395 - val_accuracy: 0.8460\n",
      "Epoch 168/200\n"
     ]
    },
    {
     "name": "stdout",
     "output_type": "stream",
     "text": [
      "63/63 [==============================] - 1s 12ms/step - loss: 4.8689e-08 - accuracy: 1.0000 - val_loss: 1.6420 - val_accuracy: 0.8460\n",
      "Epoch 169/200\n",
      "63/63 [==============================] - 1s 17ms/step - loss: 4.7080e-08 - accuracy: 1.0000 - val_loss: 1.6447 - val_accuracy: 0.8460\n",
      "Epoch 170/200\n",
      "63/63 [==============================] - 1s 9ms/step - loss: 4.5579e-08 - accuracy: 1.0000 - val_loss: 1.6483 - val_accuracy: 0.8460\n",
      "Epoch 171/200\n",
      "63/63 [==============================] - 1s 9ms/step - loss: 4.4050e-08 - accuracy: 1.0000 - val_loss: 1.6513 - val_accuracy: 0.8460\n",
      "Epoch 172/200\n",
      "63/63 [==============================] - 1s 10ms/step - loss: 4.2721e-08 - accuracy: 1.0000 - val_loss: 1.6533 - val_accuracy: 0.8460\n",
      "Epoch 173/200\n",
      "63/63 [==============================] - 1s 13ms/step - loss: 4.1377e-08 - accuracy: 1.0000 - val_loss: 1.6563 - val_accuracy: 0.8460\n",
      "Epoch 174/200\n",
      "63/63 [==============================] - 1s 8ms/step - loss: 4.0087e-08 - accuracy: 1.0000 - val_loss: 1.6588 - val_accuracy: 0.8460\n",
      "Epoch 175/200\n",
      "63/63 [==============================] - 0s 7ms/step - loss: 3.8828e-08 - accuracy: 1.0000 - val_loss: 1.6626 - val_accuracy: 0.8460\n",
      "Epoch 176/200\n",
      "63/63 [==============================] - 0s 7ms/step - loss: 3.7651e-08 - accuracy: 1.0000 - val_loss: 1.6647 - val_accuracy: 0.8460\n",
      "Epoch 177/200\n",
      "63/63 [==============================] - 0s 7ms/step - loss: 3.6464e-08 - accuracy: 1.0000 - val_loss: 1.6684 - val_accuracy: 0.8460\n",
      "Epoch 178/200\n",
      "63/63 [==============================] - 1s 8ms/step - loss: 3.5289e-08 - accuracy: 1.0000 - val_loss: 1.6705 - val_accuracy: 0.8460\n",
      "Epoch 179/200\n",
      "63/63 [==============================] - 1s 8ms/step - loss: 3.4181e-08 - accuracy: 1.0000 - val_loss: 1.6738 - val_accuracy: 0.8460\n",
      "Epoch 180/200\n",
      "63/63 [==============================] - 0s 7ms/step - loss: 3.3134e-08 - accuracy: 1.0000 - val_loss: 1.6769 - val_accuracy: 0.8460\n",
      "Epoch 181/200\n",
      "63/63 [==============================] - 0s 7ms/step - loss: 3.2161e-08 - accuracy: 1.0000 - val_loss: 1.6810 - val_accuracy: 0.8450\n",
      "Epoch 182/200\n",
      "63/63 [==============================] - 0s 7ms/step - loss: 3.1059e-08 - accuracy: 1.0000 - val_loss: 1.6827 - val_accuracy: 0.8460\n",
      "Epoch 183/200\n",
      "63/63 [==============================] - 0s 7ms/step - loss: 3.0168e-08 - accuracy: 1.0000 - val_loss: 1.6846 - val_accuracy: 0.8460\n",
      "Epoch 184/200\n",
      "63/63 [==============================] - 0s 7ms/step - loss: 2.9250e-08 - accuracy: 1.0000 - val_loss: 1.6882 - val_accuracy: 0.8460\n",
      "Epoch 185/200\n",
      "63/63 [==============================] - 0s 7ms/step - loss: 2.8290e-08 - accuracy: 1.0000 - val_loss: 1.6905 - val_accuracy: 0.8460\n",
      "Epoch 186/200\n",
      "63/63 [==============================] - 0s 7ms/step - loss: 2.7499e-08 - accuracy: 1.0000 - val_loss: 1.6927 - val_accuracy: 0.8460\n",
      "Epoch 187/200\n",
      "63/63 [==============================] - 0s 7ms/step - loss: 2.6598e-08 - accuracy: 1.0000 - val_loss: 1.6958 - val_accuracy: 0.8460\n",
      "Epoch 188/200\n",
      "63/63 [==============================] - 0s 7ms/step - loss: 2.5853e-08 - accuracy: 1.0000 - val_loss: 1.6984 - val_accuracy: 0.8460\n",
      "Epoch 189/200\n",
      "63/63 [==============================] - 0s 7ms/step - loss: 2.5019e-08 - accuracy: 1.0000 - val_loss: 1.7013 - val_accuracy: 0.8460\n",
      "Epoch 190/200\n",
      "63/63 [==============================] - 0s 7ms/step - loss: 2.4261e-08 - accuracy: 1.0000 - val_loss: 1.7037 - val_accuracy: 0.8460\n",
      "Epoch 191/200\n",
      "63/63 [==============================] - 0s 7ms/step - loss: 2.3578e-08 - accuracy: 1.0000 - val_loss: 1.7061 - val_accuracy: 0.8460\n",
      "Epoch 192/200\n",
      "63/63 [==============================] - 0s 7ms/step - loss: 2.2864e-08 - accuracy: 1.0000 - val_loss: 1.7098 - val_accuracy: 0.8460\n",
      "Epoch 193/200\n",
      "63/63 [==============================] - 0s 7ms/step - loss: 2.2129e-08 - accuracy: 1.0000 - val_loss: 1.7112 - val_accuracy: 0.8470\n",
      "Epoch 194/200\n",
      "63/63 [==============================] - 0s 7ms/step - loss: 2.1488e-08 - accuracy: 1.0000 - val_loss: 1.7139 - val_accuracy: 0.8470\n",
      "Epoch 195/200\n",
      "63/63 [==============================] - 0s 7ms/step - loss: 2.0833e-08 - accuracy: 1.0000 - val_loss: 1.7162 - val_accuracy: 0.8470\n",
      "Epoch 196/200\n",
      "63/63 [==============================] - 0s 7ms/step - loss: 2.0245e-08 - accuracy: 1.0000 - val_loss: 1.7192 - val_accuracy: 0.8470\n",
      "Epoch 197/200\n",
      "63/63 [==============================] - 0s 7ms/step - loss: 1.9639e-08 - accuracy: 1.0000 - val_loss: 1.7219 - val_accuracy: 0.8470\n",
      "Epoch 198/200\n",
      "63/63 [==============================] - 0s 7ms/step - loss: 1.8999e-08 - accuracy: 1.0000 - val_loss: 1.7241 - val_accuracy: 0.8470\n",
      "Epoch 199/200\n",
      "63/63 [==============================] - 0s 7ms/step - loss: 1.8448e-08 - accuracy: 1.0000 - val_loss: 1.7263 - val_accuracy: 0.8470\n",
      "Epoch 200/200\n",
      "63/63 [==============================] - 0s 7ms/step - loss: 1.7903e-08 - accuracy: 1.0000 - val_loss: 1.7286 - val_accuracy: 0.8470\n"
     ]
    }
   ],
   "source": [
    "history2 = model2.fit(x = train_images, \n",
    "           y = train_labels, \n",
    "           epochs = 200, \n",
    "           validation_data=(test_images, test_labels))"
   ]
  },
  {
   "cell_type": "code",
   "execution_count": 424,
   "metadata": {},
   "outputs": [],
   "source": [
    "loss_df2 = pd.DataFrame(model2.history.history)"
   ]
  },
  {
   "cell_type": "code",
   "execution_count": 425,
   "metadata": {},
   "outputs": [
    {
     "data": {
      "text/plain": [
       "<matplotlib.axes._subplots.AxesSubplot at 0x7f5aa27b6e50>"
      ]
     },
     "execution_count": 425,
     "metadata": {},
     "output_type": "execute_result"
    },
    {
     "data": {
      "image/png": "[encoded data removed]",
      "text/plain": [
       "<Figure size 432x288 with 1 Axes>"
      ]
     },
     "metadata": {
      "needs_background": "light"
     },
     "output_type": "display_data"
    }
   ],
   "source": [
    "loss_df2.plot()"
   ]
  },
  {
   "cell_type": "markdown",
   "metadata": {},
   "source": [
    "**Dealing with Overfitting and Evaluation**"
   ]
  },
  {
   "cell_type": "code",
   "execution_count": 426,
   "metadata": {},
   "outputs": [],
   "source": [
    "early_stop = EarlyStopping(monitor = 'val_loss', \n",
    "                           mode = 'min', \n",
    "                           verbose = 1, \n",
    "                           patience = 25)"
   ]
  },
  {
   "cell_type": "code",
   "execution_count": 427,
   "metadata": {},
   "outputs": [],
   "source": [
    "model3 = Sequential()\n",
    "\n",
    "model3.add(Dense(784, activation = 'relu'))\n",
    "\n",
    "model3.add(Dense(392, activation = 'relu'))\n",
    "\n",
    "model3.add(Dense(1, activation = 'sigmoid'))\n",
    "\n",
    "model3.compile(loss='binary_crossentropy', \n",
    "               optimizer='adam', \n",
    "               metrics = ['accuracy'])"
   ]
  },
  {
   "cell_type": "code",
   "execution_count": 428,
   "metadata": {
    "scrolled": true
   },
   "outputs": [
    {
     "name": "stdout",
     "output_type": "stream",
     "text": [
      "Epoch 1/200\n",
      "63/63 [==============================] - 0s 8ms/step - loss: 0.4330 - accuracy: 0.8075 - val_loss: 0.4125 - val_accuracy: 0.8340\n",
      "Epoch 2/200\n",
      "63/63 [==============================] - 0s 7ms/step - loss: 0.3064 - accuracy: 0.8840 - val_loss: 0.3959 - val_accuracy: 0.8490\n",
      "Epoch 3/200\n",
      "63/63 [==============================] - 0s 7ms/step - loss: 0.2203 - accuracy: 0.9160 - val_loss: 0.4903 - val_accuracy: 0.8210\n",
      "Epoch 4/200\n",
      "63/63 [==============================] - 0s 7ms/step - loss: 0.1230 - accuracy: 0.9570 - val_loss: 0.4167 - val_accuracy: 0.8470\n",
      "Epoch 5/200\n",
      "63/63 [==============================] - 0s 7ms/step - loss: 0.0813 - accuracy: 0.9680 - val_loss: 0.4975 - val_accuracy: 0.8290\n",
      "Epoch 6/200\n",
      "63/63 [==============================] - 0s 7ms/step - loss: 0.0329 - accuracy: 0.9905 - val_loss: 0.5971 - val_accuracy: 0.8480\n",
      "Epoch 7/200\n",
      "63/63 [==============================] - 0s 7ms/step - loss: 0.0249 - accuracy: 0.9935 - val_loss: 0.6419 - val_accuracy: 0.8400\n",
      "Epoch 8/200\n",
      "63/63 [==============================] - 0s 7ms/step - loss: 0.0195 - accuracy: 0.9955 - val_loss: 0.6874 - val_accuracy: 0.8380\n",
      "Epoch 9/200\n",
      "63/63 [==============================] - 0s 7ms/step - loss: 0.0111 - accuracy: 0.9975 - val_loss: 0.9227 - val_accuracy: 0.8120\n",
      "Epoch 10/200\n",
      "63/63 [==============================] - 0s 7ms/step - loss: 0.0286 - accuracy: 0.9910 - val_loss: 0.7564 - val_accuracy: 0.8480\n",
      "Epoch 11/200\n",
      "63/63 [==============================] - 0s 7ms/step - loss: 0.0776 - accuracy: 0.9670 - val_loss: 0.7796 - val_accuracy: 0.8210\n",
      "Epoch 12/200\n",
      "63/63 [==============================] - 0s 8ms/step - loss: 0.0626 - accuracy: 0.9790 - val_loss: 0.6550 - val_accuracy: 0.8420\n",
      "Epoch 13/200\n",
      "63/63 [==============================] - 0s 7ms/step - loss: 0.0048 - accuracy: 1.0000 - val_loss: 0.7560 - val_accuracy: 0.8440\n",
      "Epoch 14/200\n",
      "63/63 [==============================] - 0s 7ms/step - loss: 8.3796e-04 - accuracy: 1.0000 - val_loss: 0.8553 - val_accuracy: 0.8460\n",
      "Epoch 15/200\n",
      "63/63 [==============================] - 0s 7ms/step - loss: 2.7786e-04 - accuracy: 1.0000 - val_loss: 0.8772 - val_accuracy: 0.8460\n",
      "Epoch 16/200\n",
      "63/63 [==============================] - 0s 7ms/step - loss: 1.9499e-04 - accuracy: 1.0000 - val_loss: 0.8959 - val_accuracy: 0.8470\n",
      "Epoch 17/200\n",
      "63/63 [==============================] - 0s 7ms/step - loss: 1.5797e-04 - accuracy: 1.0000 - val_loss: 0.9121 - val_accuracy: 0.8470\n",
      "Epoch 18/200\n",
      "63/63 [==============================] - 0s 7ms/step - loss: 1.3285e-04 - accuracy: 1.0000 - val_loss: 0.9283 - val_accuracy: 0.8460\n",
      "Epoch 19/200\n",
      "63/63 [==============================] - 0s 7ms/step - loss: 1.1416e-04 - accuracy: 1.0000 - val_loss: 0.9329 - val_accuracy: 0.8460\n",
      "Epoch 20/200\n",
      "63/63 [==============================] - 0s 7ms/step - loss: 9.8963e-05 - accuracy: 1.0000 - val_loss: 0.9473 - val_accuracy: 0.8460\n",
      "Epoch 21/200\n",
      "63/63 [==============================] - 0s 7ms/step - loss: 8.7457e-05 - accuracy: 1.0000 - val_loss: 0.9533 - val_accuracy: 0.8450\n",
      "Epoch 22/200\n",
      "63/63 [==============================] - 0s 7ms/step - loss: 7.8381e-05 - accuracy: 1.0000 - val_loss: 0.9634 - val_accuracy: 0.8450\n",
      "Epoch 23/200\n",
      "63/63 [==============================] - 0s 7ms/step - loss: 7.0339e-05 - accuracy: 1.0000 - val_loss: 0.9696 - val_accuracy: 0.8450\n",
      "Epoch 24/200\n",
      "63/63 [==============================] - 0s 7ms/step - loss: 6.3928e-05 - accuracy: 1.0000 - val_loss: 0.9809 - val_accuracy: 0.8450\n",
      "Epoch 25/200\n",
      "63/63 [==============================] - 0s 7ms/step - loss: 5.7584e-05 - accuracy: 1.0000 - val_loss: 0.9875 - val_accuracy: 0.8450\n",
      "Epoch 26/200\n",
      "63/63 [==============================] - 0s 7ms/step - loss: 5.2599e-05 - accuracy: 1.0000 - val_loss: 0.9978 - val_accuracy: 0.8450\n",
      "Epoch 27/200\n",
      "63/63 [==============================] - 0s 7ms/step - loss: 4.7990e-05 - accuracy: 1.0000 - val_loss: 1.0008 - val_accuracy: 0.8450\n",
      "Epoch 00027: early stopping\n"
     ]
    }
   ],
   "source": [
    "history3 = model3.fit(x = train_images, \n",
    "           y = train_labels, \n",
    "           epochs = 200, \n",
    "           validation_data=(test_images, test_labels),\n",
    "           callbacks = [early_stop])"
   ]
  },
  {
   "cell_type": "code",
   "execution_count": 430,
   "metadata": {},
   "outputs": [
    {
     "data": {
      "text/plain": [
       "<matplotlib.axes._subplots.AxesSubplot at 0x7f5adc153550>"
      ]
     },
     "execution_count": 430,
     "metadata": {},
     "output_type": "execute_result"
    },
    {
     "data": {
      "image/png": "[encoded data removed]",
      "text/plain": [
       "<Figure size 432x288 with 1 Axes>"
      ]
     },
     "metadata": {
      "needs_background": "light"
     },
     "output_type": "display_data"
    }
   ],
   "source": [
    "loss_df3 = pd.DataFrame(model3.history.history)\n",
    "loss_df3.plot()"
   ]
  },
  {
   "cell_type": "markdown",
   "metadata": {},
   "source": [
    "**Adding a Dropout Layer**"
   ]
  },
  {
   "cell_type": "code",
   "execution_count": 431,
   "metadata": {},
   "outputs": [],
   "source": [
    "model4 = Sequential()\n",
    "\n",
    "model4.add(Dense(784, activation = 'relu'))\n",
    "model4.add(Dropout(0.5))\n",
    "\n",
    "model4.add(Dense(392, activation = 'relu'))\n",
    "model4.add(Dropout(0.5))\n",
    "\n",
    "model4.add(Dense(1, activation = 'sigmoid'))\n",
    "\n",
    "model4.compile(loss='binary_crossentropy', \n",
    "               optimizer='adam', \n",
    "               metrics = ['accuracy'])"
   ]
  },
  {
   "cell_type": "code",
   "execution_count": 432,
   "metadata": {
    "scrolled": true
   },
   "outputs": [
    {
     "name": "stdout",
     "output_type": "stream",
     "text": [
      "Epoch 1/200\n",
      "63/63 [==============================] - 1s 16ms/step - loss: 0.4896 - accuracy: 0.7955 - val_loss: 0.4106 - val_accuracy: 0.8370\n",
      "Epoch 2/200\n",
      "63/63 [==============================] - 1s 14ms/step - loss: 0.4070 - accuracy: 0.8305 - val_loss: 0.4126 - val_accuracy: 0.8380\n",
      "Epoch 3/200\n",
      "63/63 [==============================] - 1s 14ms/step - loss: 0.3693 - accuracy: 0.8445 - val_loss: 0.4294 - val_accuracy: 0.8330\n",
      "Epoch 4/200\n",
      "63/63 [==============================] - 1s 13ms/step - loss: 0.3409 - accuracy: 0.8600 - val_loss: 0.4144 - val_accuracy: 0.8330\n",
      "Epoch 5/200\n",
      "63/63 [==============================] - 1s 13ms/step - loss: 0.2849 - accuracy: 0.8910 - val_loss: 0.3852 - val_accuracy: 0.8410\n",
      "Epoch 6/200\n",
      "63/63 [==============================] - 1s 12ms/step - loss: 0.2545 - accuracy: 0.9035 - val_loss: 0.4258 - val_accuracy: 0.8330\n",
      "Epoch 7/200\n",
      "63/63 [==============================] - 1s 13ms/step - loss: 0.2238 - accuracy: 0.9125 - val_loss: 0.4230 - val_accuracy: 0.8360\n",
      "Epoch 8/200\n",
      "63/63 [==============================] - 1s 13ms/step - loss: 0.1850 - accuracy: 0.9290 - val_loss: 0.4562 - val_accuracy: 0.8330\n",
      "Epoch 9/200\n",
      "63/63 [==============================] - 1s 14ms/step - loss: 0.1422 - accuracy: 0.9450 - val_loss: 0.4378 - val_accuracy: 0.8470\n",
      "Epoch 10/200\n",
      "63/63 [==============================] - 1s 12ms/step - loss: 0.1270 - accuracy: 0.9515 - val_loss: 0.4992 - val_accuracy: 0.8300\n",
      "Epoch 11/200\n",
      "63/63 [==============================] - 1s 13ms/step - loss: 0.1042 - accuracy: 0.9655 - val_loss: 0.5053 - val_accuracy: 0.8350\n",
      "Epoch 12/200\n",
      "63/63 [==============================] - 1s 12ms/step - loss: 0.1119 - accuracy: 0.9565 - val_loss: 0.5884 - val_accuracy: 0.8190\n",
      "Epoch 13/200\n",
      "63/63 [==============================] - 1s 13ms/step - loss: 0.0958 - accuracy: 0.9650 - val_loss: 0.5861 - val_accuracy: 0.8400\n",
      "Epoch 14/200\n",
      "63/63 [==============================] - 1s 12ms/step - loss: 0.0750 - accuracy: 0.9745 - val_loss: 0.5724 - val_accuracy: 0.8330\n",
      "Epoch 15/200\n",
      "63/63 [==============================] - 1s 13ms/step - loss: 0.0832 - accuracy: 0.9705 - val_loss: 0.5781 - val_accuracy: 0.8390\n",
      "Epoch 16/200\n",
      "63/63 [==============================] - 1s 12ms/step - loss: 0.0762 - accuracy: 0.9725 - val_loss: 0.5925 - val_accuracy: 0.8300\n",
      "Epoch 17/200\n",
      "63/63 [==============================] - 1s 12ms/step - loss: 0.0442 - accuracy: 0.9855 - val_loss: 0.7003 - val_accuracy: 0.8380\n",
      "Epoch 18/200\n",
      "63/63 [==============================] - 1s 13ms/step - loss: 0.0410 - accuracy: 0.9880 - val_loss: 0.7385 - val_accuracy: 0.8460\n",
      "Epoch 19/200\n",
      "63/63 [==============================] - 1s 13ms/step - loss: 0.0624 - accuracy: 0.9785 - val_loss: 0.6555 - val_accuracy: 0.8460\n",
      "Epoch 20/200\n",
      "63/63 [==============================] - 1s 12ms/step - loss: 0.0445 - accuracy: 0.9820 - val_loss: 0.7181 - val_accuracy: 0.8260\n",
      "Epoch 21/200\n",
      "63/63 [==============================] - 1s 13ms/step - loss: 0.0433 - accuracy: 0.9830 - val_loss: 0.7826 - val_accuracy: 0.8370\n",
      "Epoch 22/200\n",
      "63/63 [==============================] - 1s 13ms/step - loss: 0.0320 - accuracy: 0.9880 - val_loss: 0.7866 - val_accuracy: 0.8490\n",
      "Epoch 23/200\n",
      "63/63 [==============================] - 1s 13ms/step - loss: 0.0528 - accuracy: 0.9790 - val_loss: 0.7432 - val_accuracy: 0.8430\n",
      "Epoch 24/200\n",
      "63/63 [==============================] - 1s 12ms/step - loss: 0.0381 - accuracy: 0.9850 - val_loss: 0.7892 - val_accuracy: 0.8500\n",
      "Epoch 25/200\n",
      "63/63 [==============================] - 1s 13ms/step - loss: 0.0448 - accuracy: 0.9890 - val_loss: 0.8083 - val_accuracy: 0.8450\n",
      "Epoch 26/200\n",
      "63/63 [==============================] - 1s 11ms/step - loss: 0.0473 - accuracy: 0.9810 - val_loss: 0.6829 - val_accuracy: 0.8430\n",
      "Epoch 27/200\n",
      "63/63 [==============================] - 1s 13ms/step - loss: 0.0284 - accuracy: 0.9885 - val_loss: 0.8581 - val_accuracy: 0.8470\n",
      "Epoch 28/200\n",
      "63/63 [==============================] - 1s 12ms/step - loss: 0.0339 - accuracy: 0.9865 - val_loss: 0.8436 - val_accuracy: 0.8470\n",
      "Epoch 29/200\n",
      "63/63 [==============================] - 1s 13ms/step - loss: 0.0516 - accuracy: 0.9835 - val_loss: 0.8007 - val_accuracy: 0.8380\n",
      "Epoch 30/200\n",
      "63/63 [==============================] - 1s 13ms/step - loss: 0.0340 - accuracy: 0.9890 - val_loss: 0.8385 - val_accuracy: 0.8500\n",
      "Epoch 00030: early stopping\n"
     ]
    }
   ],
   "source": [
    "history4 = model4.fit(x = train_images, \n",
    "           y = train_labels, \n",
    "           epochs = 200, \n",
    "           validation_data=(test_images, test_labels),\n",
    "           callbacks = [early_stop])"
   ]
  },
  {
   "cell_type": "code",
   "execution_count": 434,
   "metadata": {},
   "outputs": [
    {
     "data": {
      "text/plain": [
       "<matplotlib.axes._subplots.AxesSubplot at 0x7f5aa76f4be0>"
      ]
     },
     "execution_count": 434,
     "metadata": {},
     "output_type": "execute_result"
    },
    {
     "data": {
      "image/png": "[encoded data removed]",
      "text/plain": [
       "<Figure size 432x288 with 1 Axes>"
      ]
     },
     "metadata": {
      "needs_background": "light"
     },
     "output_type": "display_data"
    }
   ],
   "source": [
    "loss_df4 = pd.DataFrame(model4.history.history)\n",
    "loss_df4.plot()"
   ]
  },
  {
   "cell_type": "code",
   "execution_count": 437,
   "metadata": {},
   "outputs": [],
   "source": [
    "test_predictions4 = model.predict(test_images)\n",
    "test_predictions4 = pd.Series(test_predictions4.reshape(1000,))\n",
    "test_predictions4 = test_predictions.apply(lambda x: 1 if x >= 0.5 else 0)"
   ]
  },
  {
   "cell_type": "code",
   "execution_count": 438,
   "metadata": {},
   "outputs": [],
   "source": [
    "eval_df4 = pd.concat([pred_df, test_predictions4], axis=1)\n",
    "eval_df4.columns = ['Test True Y', 'Model 4 Predictions']"
   ]
  },
  {
   "cell_type": "code",
   "execution_count": 439,
   "metadata": {},
   "outputs": [
    {
     "data": {
      "text/plain": [
       "0.38600518131237566"
      ]
     },
     "execution_count": 439,
     "metadata": {},
     "output_type": "execute_result"
    }
   ],
   "source": [
    "mean_squared_error(eval_df4['Test True Y'], eval_df4['Model 4 Predictions'])**0.5"
   ]
  },
  {
   "cell_type": "markdown",
   "metadata": {},
   "source": [
    "**Resulst are not better than the baseline model so get back to our baseline model using the dropout and the early stop techniques**"
   ]
  },
  {
   "cell_type": "code",
   "execution_count": 442,
   "metadata": {},
   "outputs": [
    {
     "name": "stdout",
     "output_type": "stream",
     "text": [
      "              precision    recall  f1-score   support\n",
      "\n",
      "           0       0.86      0.83      0.85       500\n",
      "           1       0.84      0.87      0.85       500\n",
      "\n",
      "    accuracy                           0.85      1000\n",
      "   macro avg       0.85      0.85      0.85      1000\n",
      "weighted avg       0.85      0.85      0.85      1000\n",
      "\n"
     ]
    }
   ],
   "source": [
    "print(classification_report(test_labels, test_predictions4))"
   ]
  },
  {
   "cell_type": "code",
   "execution_count": 443,
   "metadata": {},
   "outputs": [
    {
     "name": "stdout",
     "output_type": "stream",
     "text": [
      "[[416  84]\n",
      " [ 65 435]]\n"
     ]
    }
   ],
   "source": [
    "print(confusion_matrix(test_labels, test_predictions4))"
   ]
  },
  {
   "cell_type": "markdown",
   "metadata": {},
   "source": [
    "**Final Model**"
   ]
  },
  {
   "cell_type": "code",
   "execution_count": 472,
   "metadata": {},
   "outputs": [],
   "source": [
    "model5 =  Sequential()\n",
    "\n",
    "model5.add(Dense(784, input_dim=784, activation = \"relu\"))\n",
    "model5.add(Dropout(0.5))\n",
    "\n",
    "model5.add(Dense(1, activation = \"sigmoid\"))\n",
    "\n",
    "model5.compile(optimizer = 'adam',\n",
    "             loss = 'binary_crossentropy',\n",
    "             metrics = ['accuracy'])"
   ]
  },
  {
   "cell_type": "code",
   "execution_count": 473,
   "metadata": {
    "scrolled": true
   },
   "outputs": [
    {
     "name": "stdout",
     "output_type": "stream",
     "text": [
      "Epoch 1/200\n",
      "63/63 [==============================] - 0s 6ms/step - loss: 0.4627 - accuracy: 0.8005 - val_loss: 0.4230 - val_accuracy: 0.8330\n",
      "Epoch 2/200\n",
      "63/63 [==============================] - 0s 5ms/step - loss: 0.3892 - accuracy: 0.8460 - val_loss: 0.4070 - val_accuracy: 0.8330\n",
      "Epoch 3/200\n",
      "63/63 [==============================] - 0s 6ms/step - loss: 0.3271 - accuracy: 0.8710 - val_loss: 0.4261 - val_accuracy: 0.8300\n",
      "Epoch 4/200\n",
      "63/63 [==============================] - 0s 6ms/step - loss: 0.2938 - accuracy: 0.8820 - val_loss: 0.4153 - val_accuracy: 0.8280\n",
      "Epoch 5/200\n",
      "63/63 [==============================] - 0s 6ms/step - loss: 0.2623 - accuracy: 0.9035 - val_loss: 0.3883 - val_accuracy: 0.8410\n",
      "Epoch 6/200\n",
      "63/63 [==============================] - 0s 5ms/step - loss: 0.2248 - accuracy: 0.9180 - val_loss: 0.4099 - val_accuracy: 0.8360\n",
      "Epoch 7/200\n",
      "63/63 [==============================] - 0s 5ms/step - loss: 0.1988 - accuracy: 0.9325 - val_loss: 0.4196 - val_accuracy: 0.8420\n",
      "Epoch 8/200\n",
      "63/63 [==============================] - 0s 5ms/step - loss: 0.1651 - accuracy: 0.9390 - val_loss: 0.4024 - val_accuracy: 0.8460\n",
      "Epoch 9/200\n",
      "63/63 [==============================] - 0s 5ms/step - loss: 0.1311 - accuracy: 0.9590 - val_loss: 0.4062 - val_accuracy: 0.8460\n",
      "Epoch 10/200\n",
      "63/63 [==============================] - 0s 6ms/step - loss: 0.1084 - accuracy: 0.9640 - val_loss: 0.4221 - val_accuracy: 0.8350\n",
      "Epoch 11/200\n",
      "63/63 [==============================] - 0s 5ms/step - loss: 0.0849 - accuracy: 0.9790 - val_loss: 0.4324 - val_accuracy: 0.8380\n",
      "Epoch 12/200\n",
      "63/63 [==============================] - 0s 5ms/step - loss: 0.0767 - accuracy: 0.9815 - val_loss: 0.4728 - val_accuracy: 0.8450\n",
      "Epoch 13/200\n",
      "63/63 [==============================] - 0s 5ms/step - loss: 0.0667 - accuracy: 0.9815 - val_loss: 0.4393 - val_accuracy: 0.8430\n",
      "Epoch 14/200\n",
      "63/63 [==============================] - 0s 5ms/step - loss: 0.0513 - accuracy: 0.9875 - val_loss: 0.4653 - val_accuracy: 0.8420\n",
      "Epoch 15/200\n",
      "63/63 [==============================] - 0s 5ms/step - loss: 0.0423 - accuracy: 0.9915 - val_loss: 0.5022 - val_accuracy: 0.8370\n",
      "Epoch 16/200\n",
      "63/63 [==============================] - 0s 5ms/step - loss: 0.0328 - accuracy: 0.9945 - val_loss: 0.4930 - val_accuracy: 0.8390\n",
      "Epoch 17/200\n",
      "63/63 [==============================] - 0s 5ms/step - loss: 0.0284 - accuracy: 0.9955 - val_loss: 0.4691 - val_accuracy: 0.8470\n",
      "Epoch 18/200\n",
      "63/63 [==============================] - 0s 5ms/step - loss: 0.0234 - accuracy: 0.9970 - val_loss: 0.4904 - val_accuracy: 0.8490\n",
      "Epoch 19/200\n",
      "63/63 [==============================] - 0s 5ms/step - loss: 0.0212 - accuracy: 0.9975 - val_loss: 0.5163 - val_accuracy: 0.8360\n",
      "Epoch 20/200\n",
      "63/63 [==============================] - 0s 5ms/step - loss: 0.0155 - accuracy: 0.9990 - val_loss: 0.5584 - val_accuracy: 0.8390\n",
      "Epoch 21/200\n",
      "63/63 [==============================] - 0s 5ms/step - loss: 0.0147 - accuracy: 0.9990 - val_loss: 0.6244 - val_accuracy: 0.8330\n",
      "Epoch 22/200\n",
      "63/63 [==============================] - 0s 5ms/step - loss: 0.0130 - accuracy: 0.9990 - val_loss: 0.5625 - val_accuracy: 0.8350\n",
      "Epoch 23/200\n",
      "63/63 [==============================] - 0s 5ms/step - loss: 0.0152 - accuracy: 0.9985 - val_loss: 0.5580 - val_accuracy: 0.8370\n",
      "Epoch 24/200\n",
      "63/63 [==============================] - 0s 5ms/step - loss: 0.0118 - accuracy: 0.9995 - val_loss: 0.5751 - val_accuracy: 0.8330\n",
      "Epoch 25/200\n",
      "63/63 [==============================] - 0s 5ms/step - loss: 0.0111 - accuracy: 0.9990 - val_loss: 0.5624 - val_accuracy: 0.8340\n",
      "Epoch 26/200\n",
      "63/63 [==============================] - 0s 5ms/step - loss: 0.0099 - accuracy: 1.0000 - val_loss: 0.5848 - val_accuracy: 0.8460\n",
      "Epoch 27/200\n",
      "63/63 [==============================] - 0s 5ms/step - loss: 0.0081 - accuracy: 0.9995 - val_loss: 0.5993 - val_accuracy: 0.8440\n",
      "Epoch 28/200\n",
      "63/63 [==============================] - 0s 5ms/step - loss: 0.0104 - accuracy: 0.9970 - val_loss: 0.5672 - val_accuracy: 0.8390\n",
      "Epoch 29/200\n",
      "63/63 [==============================] - 0s 5ms/step - loss: 0.0075 - accuracy: 0.9990 - val_loss: 0.5580 - val_accuracy: 0.8440\n",
      "Epoch 30/200\n",
      "63/63 [==============================] - 0s 5ms/step - loss: 0.0054 - accuracy: 1.0000 - val_loss: 0.6198 - val_accuracy: 0.8370\n",
      "Epoch 00030: early stopping\n"
     ]
    }
   ],
   "source": [
    "history5 = model5.fit(x = train_images, \n",
    "           y = train_labels, \n",
    "           epochs = 200, \n",
    "           validation_data=(test_images, test_labels),\n",
    "           callbacks = [early_stop])"
   ]
  },
  {
   "cell_type": "code",
   "execution_count": 474,
   "metadata": {},
   "outputs": [
    {
     "data": {
      "text/plain": [
       "<matplotlib.axes._subplots.AxesSubplot at 0x7f5a9ec29c70>"
      ]
     },
     "execution_count": 474,
     "metadata": {},
     "output_type": "execute_result"
    },
    {
     "data": {
      "image/png": "[encoded data removed]",
      "text/plain": [
       "<Figure size 432x288 with 1 Axes>"
      ]
     },
     "metadata": {
      "needs_background": "light"
     },
     "output_type": "display_data"
    }
   ],
   "source": [
    "loss_df5 = pd.DataFrame(model5.history.history)\n",
    "loss_df5.plot()"
   ]
  },
  {
   "cell_type": "code",
   "execution_count": 475,
   "metadata": {},
   "outputs": [],
   "source": [
    "test_predictions5 = model.predict(test_images)\n",
    "test_predictions5 = pd.Series(test_predictions5.reshape(1000,))\n",
    "test_predictions5 = test_predictions.apply(lambda x: 1 if x >= 0.5 else 0)"
   ]
  },
  {
   "cell_type": "code",
   "execution_count": 476,
   "metadata": {},
   "outputs": [],
   "source": [
    "eval_df5 = pd.concat([pred_df, test_predictions5], axis=1)\n",
    "eval_df5.columns = ['Test True Y', 'Model 5 Predictions']"
   ]
  },
  {
   "cell_type": "code",
   "execution_count": 477,
   "metadata": {},
   "outputs": [
    {
     "data": {
      "text/html": [
       "<div>\n",
       "<style scoped>\n",
       "    .dataframe tbody tr th:only-of-type {\n",
       "        vertical-align: middle;\n",
       "    }\n",
       "\n",
       "    .dataframe tbody tr th {\n",
       "        vertical-align: top;\n",
       "    }\n",
       "\n",
       "    .dataframe thead th {\n",
       "        text-align: right;\n",
       "    }\n",
       "</style>\n",
       "<table border=\"1\" class=\"dataframe\">\n",
       "  <thead>\n",
       "    <tr style=\"text-align: right;\">\n",
       "      <th></th>\n",
       "      <th>Test True Y</th>\n",
       "      <th>Model 5 Predictions</th>\n",
       "    </tr>\n",
       "  </thead>\n",
       "  <tbody>\n",
       "    <tr>\n",
       "      <th>0</th>\n",
       "      <td>0</td>\n",
       "      <td>0</td>\n",
       "    </tr>\n",
       "    <tr>\n",
       "      <th>1</th>\n",
       "      <td>0</td>\n",
       "      <td>0</td>\n",
       "    </tr>\n",
       "    <tr>\n",
       "      <th>2</th>\n",
       "      <td>0</td>\n",
       "      <td>0</td>\n",
       "    </tr>\n",
       "    <tr>\n",
       "      <th>3</th>\n",
       "      <td>0</td>\n",
       "      <td>0</td>\n",
       "    </tr>\n",
       "    <tr>\n",
       "      <th>4</th>\n",
       "      <td>0</td>\n",
       "      <td>0</td>\n",
       "    </tr>\n",
       "    <tr>\n",
       "      <th>5</th>\n",
       "      <td>0</td>\n",
       "      <td>0</td>\n",
       "    </tr>\n",
       "    <tr>\n",
       "      <th>6</th>\n",
       "      <td>0</td>\n",
       "      <td>0</td>\n",
       "    </tr>\n",
       "    <tr>\n",
       "      <th>7</th>\n",
       "      <td>0</td>\n",
       "      <td>0</td>\n",
       "    </tr>\n",
       "    <tr>\n",
       "      <th>8</th>\n",
       "      <td>0</td>\n",
       "      <td>1</td>\n",
       "    </tr>\n",
       "    <tr>\n",
       "      <th>9</th>\n",
       "      <td>0</td>\n",
       "      <td>0</td>\n",
       "    </tr>\n",
       "    <tr>\n",
       "      <th>10</th>\n",
       "      <td>0</td>\n",
       "      <td>0</td>\n",
       "    </tr>\n",
       "    <tr>\n",
       "      <th>11</th>\n",
       "      <td>0</td>\n",
       "      <td>0</td>\n",
       "    </tr>\n",
       "    <tr>\n",
       "      <th>12</th>\n",
       "      <td>0</td>\n",
       "      <td>0</td>\n",
       "    </tr>\n",
       "    <tr>\n",
       "      <th>13</th>\n",
       "      <td>0</td>\n",
       "      <td>0</td>\n",
       "    </tr>\n",
       "    <tr>\n",
       "      <th>14</th>\n",
       "      <td>0</td>\n",
       "      <td>1</td>\n",
       "    </tr>\n",
       "    <tr>\n",
       "      <th>15</th>\n",
       "      <td>0</td>\n",
       "      <td>0</td>\n",
       "    </tr>\n",
       "    <tr>\n",
       "      <th>16</th>\n",
       "      <td>0</td>\n",
       "      <td>0</td>\n",
       "    </tr>\n",
       "    <tr>\n",
       "      <th>17</th>\n",
       "      <td>0</td>\n",
       "      <td>0</td>\n",
       "    </tr>\n",
       "    <tr>\n",
       "      <th>18</th>\n",
       "      <td>0</td>\n",
       "      <td>0</td>\n",
       "    </tr>\n",
       "    <tr>\n",
       "      <th>19</th>\n",
       "      <td>0</td>\n",
       "      <td>1</td>\n",
       "    </tr>\n",
       "    <tr>\n",
       "      <th>20</th>\n",
       "      <td>0</td>\n",
       "      <td>1</td>\n",
       "    </tr>\n",
       "    <tr>\n",
       "      <th>21</th>\n",
       "      <td>0</td>\n",
       "      <td>0</td>\n",
       "    </tr>\n",
       "    <tr>\n",
       "      <th>22</th>\n",
       "      <td>0</td>\n",
       "      <td>0</td>\n",
       "    </tr>\n",
       "    <tr>\n",
       "      <th>23</th>\n",
       "      <td>0</td>\n",
       "      <td>0</td>\n",
       "    </tr>\n",
       "    <tr>\n",
       "      <th>24</th>\n",
       "      <td>0</td>\n",
       "      <td>0</td>\n",
       "    </tr>\n",
       "    <tr>\n",
       "      <th>25</th>\n",
       "      <td>0</td>\n",
       "      <td>0</td>\n",
       "    </tr>\n",
       "    <tr>\n",
       "      <th>26</th>\n",
       "      <td>0</td>\n",
       "      <td>0</td>\n",
       "    </tr>\n",
       "    <tr>\n",
       "      <th>27</th>\n",
       "      <td>0</td>\n",
       "      <td>0</td>\n",
       "    </tr>\n",
       "    <tr>\n",
       "      <th>28</th>\n",
       "      <td>0</td>\n",
       "      <td>0</td>\n",
       "    </tr>\n",
       "    <tr>\n",
       "      <th>29</th>\n",
       "      <td>0</td>\n",
       "      <td>0</td>\n",
       "    </tr>\n",
       "    <tr>\n",
       "      <th>...</th>\n",
       "      <td>...</td>\n",
       "      <td>...</td>\n",
       "    </tr>\n",
       "    <tr>\n",
       "      <th>970</th>\n",
       "      <td>1</td>\n",
       "      <td>1</td>\n",
       "    </tr>\n",
       "    <tr>\n",
       "      <th>971</th>\n",
       "      <td>1</td>\n",
       "      <td>1</td>\n",
       "    </tr>\n",
       "    <tr>\n",
       "      <th>972</th>\n",
       "      <td>1</td>\n",
       "      <td>0</td>\n",
       "    </tr>\n",
       "    <tr>\n",
       "      <th>973</th>\n",
       "      <td>1</td>\n",
       "      <td>1</td>\n",
       "    </tr>\n",
       "    <tr>\n",
       "      <th>974</th>\n",
       "      <td>1</td>\n",
       "      <td>0</td>\n",
       "    </tr>\n",
       "    <tr>\n",
       "      <th>975</th>\n",
       "      <td>1</td>\n",
       "      <td>1</td>\n",
       "    </tr>\n",
       "    <tr>\n",
       "      <th>976</th>\n",
       "      <td>1</td>\n",
       "      <td>1</td>\n",
       "    </tr>\n",
       "    <tr>\n",
       "      <th>977</th>\n",
       "      <td>1</td>\n",
       "      <td>1</td>\n",
       "    </tr>\n",
       "    <tr>\n",
       "      <th>978</th>\n",
       "      <td>1</td>\n",
       "      <td>1</td>\n",
       "    </tr>\n",
       "    <tr>\n",
       "      <th>979</th>\n",
       "      <td>1</td>\n",
       "      <td>1</td>\n",
       "    </tr>\n",
       "    <tr>\n",
       "      <th>980</th>\n",
       "      <td>1</td>\n",
       "      <td>1</td>\n",
       "    </tr>\n",
       "    <tr>\n",
       "      <th>981</th>\n",
       "      <td>1</td>\n",
       "      <td>0</td>\n",
       "    </tr>\n",
       "    <tr>\n",
       "      <th>982</th>\n",
       "      <td>1</td>\n",
       "      <td>1</td>\n",
       "    </tr>\n",
       "    <tr>\n",
       "      <th>983</th>\n",
       "      <td>1</td>\n",
       "      <td>1</td>\n",
       "    </tr>\n",
       "    <tr>\n",
       "      <th>984</th>\n",
       "      <td>1</td>\n",
       "      <td>1</td>\n",
       "    </tr>\n",
       "    <tr>\n",
       "      <th>985</th>\n",
       "      <td>1</td>\n",
       "      <td>0</td>\n",
       "    </tr>\n",
       "    <tr>\n",
       "      <th>986</th>\n",
       "      <td>1</td>\n",
       "      <td>1</td>\n",
       "    </tr>\n",
       "    <tr>\n",
       "      <th>987</th>\n",
       "      <td>1</td>\n",
       "      <td>0</td>\n",
       "    </tr>\n",
       "    <tr>\n",
       "      <th>988</th>\n",
       "      <td>1</td>\n",
       "      <td>1</td>\n",
       "    </tr>\n",
       "    <tr>\n",
       "      <th>989</th>\n",
       "      <td>1</td>\n",
       "      <td>1</td>\n",
       "    </tr>\n",
       "    <tr>\n",
       "      <th>990</th>\n",
       "      <td>1</td>\n",
       "      <td>1</td>\n",
       "    </tr>\n",
       "    <tr>\n",
       "      <th>991</th>\n",
       "      <td>1</td>\n",
       "      <td>1</td>\n",
       "    </tr>\n",
       "    <tr>\n",
       "      <th>992</th>\n",
       "      <td>1</td>\n",
       "      <td>1</td>\n",
       "    </tr>\n",
       "    <tr>\n",
       "      <th>993</th>\n",
       "      <td>1</td>\n",
       "      <td>1</td>\n",
       "    </tr>\n",
       "    <tr>\n",
       "      <th>994</th>\n",
       "      <td>1</td>\n",
       "      <td>1</td>\n",
       "    </tr>\n",
       "    <tr>\n",
       "      <th>995</th>\n",
       "      <td>1</td>\n",
       "      <td>1</td>\n",
       "    </tr>\n",
       "    <tr>\n",
       "      <th>996</th>\n",
       "      <td>1</td>\n",
       "      <td>1</td>\n",
       "    </tr>\n",
       "    <tr>\n",
       "      <th>997</th>\n",
       "      <td>1</td>\n",
       "      <td>1</td>\n",
       "    </tr>\n",
       "    <tr>\n",
       "      <th>998</th>\n",
       "      <td>1</td>\n",
       "      <td>1</td>\n",
       "    </tr>\n",
       "    <tr>\n",
       "      <th>999</th>\n",
       "      <td>1</td>\n",
       "      <td>0</td>\n",
       "    </tr>\n",
       "  </tbody>\n",
       "</table>\n",
       "<p>1000 rows × 2 columns</p>\n",
       "</div>"
      ],
      "text/plain": [
       "     Test True Y  Model 5 Predictions\n",
       "0              0                    0\n",
       "1              0                    0\n",
       "2              0                    0\n",
       "3              0                    0\n",
       "4              0                    0\n",
       "5              0                    0\n",
       "6              0                    0\n",
       "7              0                    0\n",
       "8              0                    1\n",
       "9              0                    0\n",
       "10             0                    0\n",
       "11             0                    0\n",
       "12             0                    0\n",
       "13             0                    0\n",
       "14             0                    1\n",
       "15             0                    0\n",
       "16             0                    0\n",
       "17             0                    0\n",
       "18             0                    0\n",
       "19             0                    1\n",
       "20             0                    1\n",
       "21             0                    0\n",
       "22             0                    0\n",
       "23             0                    0\n",
       "24             0                    0\n",
       "25             0                    0\n",
       "26             0                    0\n",
       "27             0                    0\n",
       "28             0                    0\n",
       "29             0                    0\n",
       "..           ...                  ...\n",
       "970            1                    1\n",
       "971            1                    1\n",
       "972            1                    0\n",
       "973            1                    1\n",
       "974            1                    0\n",
       "975            1                    1\n",
       "976            1                    1\n",
       "977            1                    1\n",
       "978            1                    1\n",
       "979            1                    1\n",
       "980            1                    1\n",
       "981            1                    0\n",
       "982            1                    1\n",
       "983            1                    1\n",
       "984            1                    1\n",
       "985            1                    0\n",
       "986            1                    1\n",
       "987            1                    0\n",
       "988            1                    1\n",
       "989            1                    1\n",
       "990            1                    1\n",
       "991            1                    1\n",
       "992            1                    1\n",
       "993            1                    1\n",
       "994            1                    1\n",
       "995            1                    1\n",
       "996            1                    1\n",
       "997            1                    1\n",
       "998            1                    1\n",
       "999            1                    0\n",
       "\n",
       "[1000 rows x 2 columns]"
      ]
     },
     "execution_count": 477,
     "metadata": {},
     "output_type": "execute_result"
    }
   ],
   "source": [
    "eval_df5"
   ]
  },
  {
   "cell_type": "code",
   "execution_count": 478,
   "metadata": {},
   "outputs": [
    {
     "data": {
      "text/plain": [
       "0.38600518131237566"
      ]
     },
     "execution_count": 478,
     "metadata": {},
     "output_type": "execute_result"
    }
   ],
   "source": [
    "mean_squared_error(eval_df5['Test True Y'], eval_df5['Model 5 Predictions'])**0.5"
   ]
  },
  {
   "cell_type": "code",
   "execution_count": 470,
   "metadata": {},
   "outputs": [
    {
     "name": "stdout",
     "output_type": "stream",
     "text": [
      "              precision    recall  f1-score   support\n",
      "\n",
      "           0       0.86      0.83      0.85       500\n",
      "           1       0.84      0.87      0.85       500\n",
      "\n",
      "    accuracy                           0.85      1000\n",
      "   macro avg       0.85      0.85      0.85      1000\n",
      "weighted avg       0.85      0.85      0.85      1000\n",
      "\n"
     ]
    }
   ],
   "source": [
    "print(classification_report(test_labels, test_predictions5))"
   ]
  },
  {
   "cell_type": "code",
   "execution_count": null,
   "metadata": {},
   "outputs": [],
   "source": []
  }
 ],
 "metadata": {
  "kernelspec": {
   "display_name": "Python 3",
   "language": "python",
   "name": "python3"
  },
  "language_info": {
   "codemirror_mode": {
    "name": "ipython",
    "version": 3
   },
   "file_extension": ".py",
   "mimetype": "text/x-python",
   "name": "python",
   "nbconvert_exporter": "python",
   "pygments_lexer": "ipython3",
   "version": "3.8.5"
  }
 },
 "nbformat": 4,
 "nbformat_minor": 4
}

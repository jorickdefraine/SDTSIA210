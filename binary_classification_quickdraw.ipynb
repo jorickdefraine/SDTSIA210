{
 "cells": [
  {
   "cell_type": "markdown",
   "metadata": {},
   "source": [
    "**Imports**"
   ]
  },
  {
   "cell_type": "code",
   "execution_count": 120,
   "metadata": {},
   "outputs": [],
   "source": [
    "import numpy as np\n",
    "import pandas as pd\n",
    "import seaborn as sns\n",
    "import matplotlib.pyplot as plt\n",
    "\n",
    "from keras.models import Sequential\n",
    "from keras.layers import Dense, Dropout\n",
    "from tensorflow.keras.callbacks import EarlyStopping\n",
    "\n",
    "from sklearn.preprocessing import MinMaxScaler\n",
    "from sklearn.metrics import mean_squared_error, classification_report, confusion_matrix, roc_curve, auc"
   ]
  },
  {
   "cell_type": "markdown",
   "metadata": {},
   "source": [
    "**Preparing the Data**"
   ]
  },
  {
   "cell_type": "code",
   "execution_count": 3,
   "metadata": {},
   "outputs": [],
   "source": [
    "grapes = np.load('Quidraw_data/G_36_grapes.npy')\n",
    "ant = np.load('Quidraw_data/G_36_ant.npy')\n",
    "test_images = np.load('Quidraw_data/test_images.npy')\n",
    "test_labels = np.load('Quidraw_data/test_labels.npy')"
   ]
  },
  {
   "cell_type": "code",
   "execution_count": 4,
   "metadata": {},
   "outputs": [
    {
     "data": {
      "image/png": "[encoded data removed]",
      "text/plain": [
       "<Figure size 432x288 with 1 Axes>"
      ]
     },
     "metadata": {
      "needs_background": "light"
     },
     "output_type": "display_data"
    },
    {
     "data": {
      "image/png": "[encoded data removed]",
      "text/plain": [
       "<Figure size 432x288 with 1 Axes>"
      ]
     },
     "metadata": {
      "needs_background": "light"
     },
     "output_type": "display_data"
    }
   ],
   "source": [
    "plt.imshow(grapes[0].reshape(28,28), cmap='gray')\n",
    "plt.show()\n",
    "plt.imshow(ant[0].reshape(28,28), cmap='gray')\n",
    "plt.show()"
   ]
  },
  {
   "cell_type": "code",
   "execution_count": 5,
   "metadata": {},
   "outputs": [
    {
     "data": {
      "image/png": "[encoded data removed]",
      "text/plain": [
       "<Figure size 432x288 with 1 Axes>"
      ]
     },
     "metadata": {
      "needs_background": "light"
     },
     "output_type": "display_data"
    },
    {
     "name": "stdout",
     "output_type": "stream",
     "text": [
      "0\n"
     ]
    }
   ],
   "source": [
    "plt.imshow(test_images[100].reshape(28,28), cmap='gray')\n",
    "plt.show()\n",
    "print(test_labels[100])"
   ]
  },
  {
   "cell_type": "code",
   "execution_count": 6,
   "metadata": {},
   "outputs": [],
   "source": [
    "train_images = np.concatenate((ant,grapes),axis=0)"
   ]
  },
  {
   "cell_type": "code",
   "execution_count": 7,
   "metadata": {},
   "outputs": [
    {
     "data": {
      "image/png": "[encoded data removed]",
      "text/plain": [
       "<Figure size 432x288 with 1 Axes>"
      ]
     },
     "metadata": {
      "needs_background": "light"
     },
     "output_type": "display_data"
    },
    {
     "data": {
      "image/png": "[encoded data removed]",
      "text/plain": [
       "<Figure size 432x288 with 1 Axes>"
      ]
     },
     "metadata": {
      "needs_background": "light"
     },
     "output_type": "display_data"
    }
   ],
   "source": [
    "plt.imshow(train_images[0].reshape(28,28), cmap='gray')\n",
    "plt.show()\n",
    "plt.imshow(train_images[1000].reshape(28,28), cmap='gray')\n",
    "plt.show()"
   ]
  },
  {
   "cell_type": "code",
   "execution_count": 8,
   "metadata": {},
   "outputs": [],
   "source": [
    "train_labels = np.concatenate((np.zeros(1000),np.ones(1000)),axis=0)"
   ]
  },
  {
   "cell_type": "code",
   "execution_count": 9,
   "metadata": {},
   "outputs": [],
   "source": [
    "scaler=MinMaxScaler()\n",
    "scaler.fit(train_images)\n",
    "train_images = scaler.transform(train_images)\n",
    "test_images = scaler.transform(test_images)"
   ]
  },
  {
   "cell_type": "markdown",
   "metadata": {},
   "source": [
    "**Creating and Training the Baseline Model**"
   ]
  },
  {
   "cell_type": "code",
   "execution_count": 125,
   "metadata": {},
   "outputs": [],
   "source": [
    "model =  Sequential()\n",
    "\n",
    "model.add(Dense(1, input_dim=784, activation = \"sigmoid\"))\n",
    "\n",
    "model.compile(optimizer = 'adam',\n",
    "             loss = 'binary_crossentropy',\n",
    "             metrics = ['accuracy'])"
   ]
  },
  {
   "cell_type": "code",
   "execution_count": 126,
   "metadata": {
    "scrolled": true
   },
   "outputs": [
    {
     "name": "stdout",
     "output_type": "stream",
     "text": [
      "Epoch 1/200\n",
      "63/63 [==============================] - 0s 2ms/step - loss: 0.5331 - accuracy: 0.7595 - val_loss: 0.4866 - val_accuracy: 0.8000\n",
      "Epoch 2/200\n",
      "63/63 [==============================] - 0s 855us/step - loss: 0.4424 - accuracy: 0.8145 - val_loss: 0.4673 - val_accuracy: 0.8070\n",
      "Epoch 3/200\n",
      "63/63 [==============================] - 0s 1ms/step - loss: 0.4256 - accuracy: 0.8240 - val_loss: 0.4606 - val_accuracy: 0.8090\n",
      "Epoch 4/200\n",
      "63/63 [==============================] - 0s 1ms/step - loss: 0.4158 - accuracy: 0.8305 - val_loss: 0.4584 - val_accuracy: 0.8110\n",
      "Epoch 5/200\n",
      "63/63 [==============================] - 0s 1ms/step - loss: 0.4090 - accuracy: 0.8315 - val_loss: 0.4555 - val_accuracy: 0.8150\n",
      "Epoch 6/200\n",
      "63/63 [==============================] - 0s 1ms/step - loss: 0.4010 - accuracy: 0.8385 - val_loss: 0.4518 - val_accuracy: 0.8110\n",
      "Epoch 7/200\n",
      "63/63 [==============================] - 0s 1ms/step - loss: 0.3971 - accuracy: 0.8395 - val_loss: 0.4504 - val_accuracy: 0.8150\n",
      "Epoch 8/200\n",
      "63/63 [==============================] - 0s 1ms/step - loss: 0.3919 - accuracy: 0.8405 - val_loss: 0.4485 - val_accuracy: 0.8120\n",
      "Epoch 9/200\n",
      "63/63 [==============================] - 0s 986us/step - loss: 0.3882 - accuracy: 0.8440 - val_loss: 0.4477 - val_accuracy: 0.8110\n",
      "Epoch 10/200\n",
      "63/63 [==============================] - 0s 1ms/step - loss: 0.3828 - accuracy: 0.8465 - val_loss: 0.4461 - val_accuracy: 0.8140\n",
      "Epoch 11/200\n",
      "63/63 [==============================] - 0s 1ms/step - loss: 0.3796 - accuracy: 0.8410 - val_loss: 0.4485 - val_accuracy: 0.8070\n",
      "Epoch 12/200\n",
      "63/63 [==============================] - 0s 975us/step - loss: 0.3799 - accuracy: 0.8450 - val_loss: 0.4468 - val_accuracy: 0.8110\n",
      "Epoch 13/200\n",
      "63/63 [==============================] - 0s 1ms/step - loss: 0.3731 - accuracy: 0.8485 - val_loss: 0.4458 - val_accuracy: 0.8120\n",
      "Epoch 14/200\n",
      "63/63 [==============================] - 0s 1ms/step - loss: 0.3716 - accuracy: 0.8510 - val_loss: 0.4487 - val_accuracy: 0.8130\n",
      "Epoch 15/200\n",
      "63/63 [==============================] - 0s 948us/step - loss: 0.3694 - accuracy: 0.8545 - val_loss: 0.4457 - val_accuracy: 0.8140\n",
      "Epoch 16/200\n",
      "63/63 [==============================] - 0s 947us/step - loss: 0.3649 - accuracy: 0.8530 - val_loss: 0.4503 - val_accuracy: 0.8100\n",
      "Epoch 17/200\n",
      "63/63 [==============================] - 0s 935us/step - loss: 0.3631 - accuracy: 0.8550 - val_loss: 0.4468 - val_accuracy: 0.8160\n",
      "Epoch 18/200\n",
      "63/63 [==============================] - 0s 918us/step - loss: 0.3613 - accuracy: 0.8550 - val_loss: 0.4451 - val_accuracy: 0.8140\n",
      "Epoch 19/200\n",
      "63/63 [==============================] - 0s 932us/step - loss: 0.3584 - accuracy: 0.8535 - val_loss: 0.4474 - val_accuracy: 0.8120\n",
      "Epoch 20/200\n",
      "63/63 [==============================] - 0s 944us/step - loss: 0.3568 - accuracy: 0.8580 - val_loss: 0.4460 - val_accuracy: 0.8140\n",
      "Epoch 21/200\n",
      "63/63 [==============================] - 0s 927us/step - loss: 0.3547 - accuracy: 0.8600 - val_loss: 0.4468 - val_accuracy: 0.8120\n",
      "Epoch 22/200\n",
      "63/63 [==============================] - 0s 884us/step - loss: 0.3527 - accuracy: 0.8605 - val_loss: 0.4477 - val_accuracy: 0.8120\n",
      "Epoch 23/200\n",
      "63/63 [==============================] - 0s 896us/step - loss: 0.3511 - accuracy: 0.8585 - val_loss: 0.4496 - val_accuracy: 0.8220\n",
      "Epoch 24/200\n",
      "63/63 [==============================] - 0s 907us/step - loss: 0.3488 - accuracy: 0.8630 - val_loss: 0.4465 - val_accuracy: 0.8160\n",
      "Epoch 25/200\n",
      "63/63 [==============================] - 0s 940us/step - loss: 0.3471 - accuracy: 0.8630 - val_loss: 0.4493 - val_accuracy: 0.8130\n",
      "Epoch 26/200\n",
      "63/63 [==============================] - 0s 1ms/step - loss: 0.3447 - accuracy: 0.8570 - val_loss: 0.4478 - val_accuracy: 0.8230\n",
      "Epoch 27/200\n",
      "63/63 [==============================] - 0s 2ms/step - loss: 0.3430 - accuracy: 0.8660 - val_loss: 0.4489 - val_accuracy: 0.8130\n",
      "Epoch 28/200\n",
      "63/63 [==============================] - 0s 1ms/step - loss: 0.3419 - accuracy: 0.8610 - val_loss: 0.4469 - val_accuracy: 0.8180\n",
      "Epoch 29/200\n",
      "63/63 [==============================] - 0s 986us/step - loss: 0.3409 - accuracy: 0.8665 - val_loss: 0.4478 - val_accuracy: 0.8150\n",
      "Epoch 30/200\n",
      "63/63 [==============================] - 0s 1ms/step - loss: 0.3387 - accuracy: 0.8665 - val_loss: 0.4475 - val_accuracy: 0.8170\n",
      "Epoch 31/200\n",
      "63/63 [==============================] - 0s 909us/step - loss: 0.3377 - accuracy: 0.8660 - val_loss: 0.4476 - val_accuracy: 0.8200\n",
      "Epoch 32/200\n",
      "63/63 [==============================] - 0s 867us/step - loss: 0.3378 - accuracy: 0.8670 - val_loss: 0.4480 - val_accuracy: 0.8180\n",
      "Epoch 33/200\n",
      "63/63 [==============================] - 0s 1ms/step - loss: 0.3365 - accuracy: 0.8655 - val_loss: 0.4515 - val_accuracy: 0.8150\n",
      "Epoch 34/200\n",
      "63/63 [==============================] - 0s 2ms/step - loss: 0.3338 - accuracy: 0.8660 - val_loss: 0.4484 - val_accuracy: 0.8190\n",
      "Epoch 35/200\n",
      "63/63 [==============================] - 0s 1ms/step - loss: 0.3305 - accuracy: 0.8690 - val_loss: 0.4529 - val_accuracy: 0.8140\n",
      "Epoch 36/200\n",
      "63/63 [==============================] - 0s 1ms/step - loss: 0.3329 - accuracy: 0.8720 - val_loss: 0.4489 - val_accuracy: 0.8180\n",
      "Epoch 37/200\n",
      "63/63 [==============================] - 0s 1ms/step - loss: 0.3305 - accuracy: 0.8665 - val_loss: 0.4495 - val_accuracy: 0.8170\n",
      "Epoch 38/200\n",
      "63/63 [==============================] - 0s 1ms/step - loss: 0.3277 - accuracy: 0.8690 - val_loss: 0.4569 - val_accuracy: 0.8110\n",
      "Epoch 39/200\n",
      "63/63 [==============================] - 0s 988us/step - loss: 0.3279 - accuracy: 0.8720 - val_loss: 0.4498 - val_accuracy: 0.8190\n",
      "Epoch 40/200\n",
      "63/63 [==============================] - 0s 892us/step - loss: 0.3258 - accuracy: 0.8670 - val_loss: 0.4493 - val_accuracy: 0.8210\n",
      "Epoch 41/200\n",
      "63/63 [==============================] - 0s 963us/step - loss: 0.3244 - accuracy: 0.8680 - val_loss: 0.4493 - val_accuracy: 0.8240\n",
      "Epoch 42/200\n",
      "63/63 [==============================] - 0s 935us/step - loss: 0.3234 - accuracy: 0.8700 - val_loss: 0.4529 - val_accuracy: 0.8150\n",
      "Epoch 43/200\n",
      "63/63 [==============================] - 0s 970us/step - loss: 0.3229 - accuracy: 0.8710 - val_loss: 0.4514 - val_accuracy: 0.8160\n",
      "Epoch 44/200\n",
      "63/63 [==============================] - 0s 904us/step - loss: 0.3215 - accuracy: 0.8700 - val_loss: 0.4505 - val_accuracy: 0.8200\n",
      "Epoch 45/200\n",
      "63/63 [==============================] - 0s 976us/step - loss: 0.3208 - accuracy: 0.8745 - val_loss: 0.4498 - val_accuracy: 0.8230\n",
      "Epoch 46/200\n",
      "63/63 [==============================] - 0s 995us/step - loss: 0.3195 - accuracy: 0.8705 - val_loss: 0.4506 - val_accuracy: 0.8210\n",
      "Epoch 47/200\n",
      "63/63 [==============================] - 0s 979us/step - loss: 0.3178 - accuracy: 0.8710 - val_loss: 0.4514 - val_accuracy: 0.8180\n",
      "Epoch 48/200\n",
      "63/63 [==============================] - 0s 990us/step - loss: 0.3166 - accuracy: 0.8760 - val_loss: 0.4526 - val_accuracy: 0.8150\n",
      "Epoch 49/200\n",
      "63/63 [==============================] - 0s 985us/step - loss: 0.3158 - accuracy: 0.8755 - val_loss: 0.4532 - val_accuracy: 0.8170\n",
      "Epoch 50/200\n",
      "63/63 [==============================] - 0s 930us/step - loss: 0.3174 - accuracy: 0.8750 - val_loss: 0.4519 - val_accuracy: 0.8210\n",
      "Epoch 51/200\n",
      "63/63 [==============================] - 0s 964us/step - loss: 0.3149 - accuracy: 0.8775 - val_loss: 0.4544 - val_accuracy: 0.8140\n",
      "Epoch 52/200\n",
      "63/63 [==============================] - 0s 983us/step - loss: 0.3143 - accuracy: 0.8765 - val_loss: 0.4522 - val_accuracy: 0.8220\n",
      "Epoch 53/200\n",
      "63/63 [==============================] - 0s 970us/step - loss: 0.3127 - accuracy: 0.8765 - val_loss: 0.4525 - val_accuracy: 0.8200\n",
      "Epoch 54/200\n",
      "63/63 [==============================] - 0s 1ms/step - loss: 0.3121 - accuracy: 0.8765 - val_loss: 0.4521 - val_accuracy: 0.8230\n",
      "Epoch 55/200\n",
      "63/63 [==============================] - 0s 973us/step - loss: 0.3107 - accuracy: 0.8760 - val_loss: 0.4587 - val_accuracy: 0.8160\n",
      "Epoch 56/200\n",
      "63/63 [==============================] - 0s 1ms/step - loss: 0.3099 - accuracy: 0.8765 - val_loss: 0.4533 - val_accuracy: 0.8210\n",
      "Epoch 57/200\n",
      "63/63 [==============================] - 0s 994us/step - loss: 0.3088 - accuracy: 0.8825 - val_loss: 0.4543 - val_accuracy: 0.8190\n",
      "Epoch 58/200\n"
     ]
    },
    {
     "name": "stdout",
     "output_type": "stream",
     "text": [
      "63/63 [==============================] - 0s 1ms/step - loss: 0.3082 - accuracy: 0.8765 - val_loss: 0.4543 - val_accuracy: 0.8230\n",
      "Epoch 59/200\n",
      "63/63 [==============================] - 0s 1ms/step - loss: 0.3071 - accuracy: 0.8795 - val_loss: 0.4546 - val_accuracy: 0.8200\n",
      "Epoch 60/200\n",
      "63/63 [==============================] - 0s 940us/step - loss: 0.3062 - accuracy: 0.8795 - val_loss: 0.4554 - val_accuracy: 0.8210\n",
      "Epoch 61/200\n",
      "63/63 [==============================] - 0s 1ms/step - loss: 0.3044 - accuracy: 0.8795 - val_loss: 0.4563 - val_accuracy: 0.8160\n",
      "Epoch 62/200\n",
      "63/63 [==============================] - 0s 953us/step - loss: 0.3039 - accuracy: 0.8835 - val_loss: 0.4557 - val_accuracy: 0.8180\n",
      "Epoch 63/200\n",
      "63/63 [==============================] - 0s 949us/step - loss: 0.3043 - accuracy: 0.8855 - val_loss: 0.4545 - val_accuracy: 0.8230\n",
      "Epoch 64/200\n",
      "63/63 [==============================] - 0s 942us/step - loss: 0.3028 - accuracy: 0.8825 - val_loss: 0.4546 - val_accuracy: 0.8220\n",
      "Epoch 65/200\n",
      "63/63 [==============================] - 0s 934us/step - loss: 0.3013 - accuracy: 0.8840 - val_loss: 0.4551 - val_accuracy: 0.8230\n",
      "Epoch 66/200\n",
      "63/63 [==============================] - 0s 936us/step - loss: 0.3017 - accuracy: 0.8860 - val_loss: 0.4553 - val_accuracy: 0.8220\n",
      "Epoch 67/200\n",
      "63/63 [==============================] - 0s 943us/step - loss: 0.2999 - accuracy: 0.8845 - val_loss: 0.4560 - val_accuracy: 0.8240\n",
      "Epoch 68/200\n",
      "63/63 [==============================] - 0s 946us/step - loss: 0.3004 - accuracy: 0.8835 - val_loss: 0.4562 - val_accuracy: 0.8240\n",
      "Epoch 69/200\n",
      "63/63 [==============================] - 0s 975us/step - loss: 0.2993 - accuracy: 0.8870 - val_loss: 0.4570 - val_accuracy: 0.8190\n",
      "Epoch 70/200\n",
      "63/63 [==============================] - 0s 980us/step - loss: 0.2968 - accuracy: 0.8890 - val_loss: 0.4645 - val_accuracy: 0.8120\n",
      "Epoch 71/200\n",
      "63/63 [==============================] - 0s 902us/step - loss: 0.2979 - accuracy: 0.8845 - val_loss: 0.4573 - val_accuracy: 0.8130\n",
      "Epoch 72/200\n",
      "63/63 [==============================] - 0s 944us/step - loss: 0.2968 - accuracy: 0.8870 - val_loss: 0.4574 - val_accuracy: 0.8240\n",
      "Epoch 73/200\n",
      "63/63 [==============================] - 0s 971us/step - loss: 0.2962 - accuracy: 0.8890 - val_loss: 0.4573 - val_accuracy: 0.8190\n",
      "Epoch 74/200\n",
      "63/63 [==============================] - 0s 999us/step - loss: 0.2958 - accuracy: 0.8895 - val_loss: 0.4576 - val_accuracy: 0.8220\n",
      "Epoch 75/200\n",
      "63/63 [==============================] - 0s 1ms/step - loss: 0.2963 - accuracy: 0.8835 - val_loss: 0.4578 - val_accuracy: 0.8200\n",
      "Epoch 76/200\n",
      "63/63 [==============================] - 0s 987us/step - loss: 0.2939 - accuracy: 0.8880 - val_loss: 0.4593 - val_accuracy: 0.8210\n",
      "Epoch 77/200\n",
      "63/63 [==============================] - 0s 943us/step - loss: 0.2940 - accuracy: 0.8875 - val_loss: 0.4625 - val_accuracy: 0.8210\n",
      "Epoch 78/200\n",
      "63/63 [==============================] - 0s 1ms/step - loss: 0.2924 - accuracy: 0.8905 - val_loss: 0.4614 - val_accuracy: 0.8180\n",
      "Epoch 79/200\n",
      "63/63 [==============================] - 0s 946us/step - loss: 0.2920 - accuracy: 0.8875 - val_loss: 0.4592 - val_accuracy: 0.8210\n",
      "Epoch 80/200\n",
      "63/63 [==============================] - 0s 975us/step - loss: 0.2903 - accuracy: 0.8930 - val_loss: 0.4590 - val_accuracy: 0.8210\n",
      "Epoch 81/200\n",
      "63/63 [==============================] - 0s 1ms/step - loss: 0.2906 - accuracy: 0.8915 - val_loss: 0.4604 - val_accuracy: 0.8130\n",
      "Epoch 82/200\n",
      "63/63 [==============================] - 0s 978us/step - loss: 0.2897 - accuracy: 0.8900 - val_loss: 0.4606 - val_accuracy: 0.8140\n",
      "Epoch 83/200\n",
      "63/63 [==============================] - 0s 938us/step - loss: 0.2902 - accuracy: 0.8855 - val_loss: 0.4613 - val_accuracy: 0.8140\n",
      "Epoch 84/200\n",
      "63/63 [==============================] - 0s 832us/step - loss: 0.2884 - accuracy: 0.8905 - val_loss: 0.4599 - val_accuracy: 0.8200\n",
      "Epoch 85/200\n",
      "63/63 [==============================] - 0s 947us/step - loss: 0.2877 - accuracy: 0.8910 - val_loss: 0.4608 - val_accuracy: 0.8150\n",
      "Epoch 86/200\n",
      "63/63 [==============================] - 0s 911us/step - loss: 0.2873 - accuracy: 0.8900 - val_loss: 0.4606 - val_accuracy: 0.8190\n",
      "Epoch 87/200\n",
      "63/63 [==============================] - 0s 924us/step - loss: 0.2872 - accuracy: 0.8865 - val_loss: 0.4608 - val_accuracy: 0.8150\n",
      "Epoch 88/200\n",
      "63/63 [==============================] - 0s 973us/step - loss: 0.2868 - accuracy: 0.8905 - val_loss: 0.4624 - val_accuracy: 0.8210\n",
      "Epoch 89/200\n",
      "63/63 [==============================] - 0s 942us/step - loss: 0.2852 - accuracy: 0.8955 - val_loss: 0.4632 - val_accuracy: 0.8190\n",
      "Epoch 90/200\n",
      "63/63 [==============================] - 0s 955us/step - loss: 0.2866 - accuracy: 0.8945 - val_loss: 0.4642 - val_accuracy: 0.8120\n",
      "Epoch 91/200\n",
      "63/63 [==============================] - 0s 927us/step - loss: 0.2831 - accuracy: 0.8920 - val_loss: 0.4625 - val_accuracy: 0.8150\n",
      "Epoch 92/200\n",
      "63/63 [==============================] - 0s 926us/step - loss: 0.2835 - accuracy: 0.8940 - val_loss: 0.4635 - val_accuracy: 0.8180\n",
      "Epoch 93/200\n",
      "63/63 [==============================] - 0s 881us/step - loss: 0.2828 - accuracy: 0.8950 - val_loss: 0.4656 - val_accuracy: 0.8180\n",
      "Epoch 94/200\n",
      "63/63 [==============================] - 0s 921us/step - loss: 0.2818 - accuracy: 0.8945 - val_loss: 0.4630 - val_accuracy: 0.8140\n",
      "Epoch 95/200\n",
      "63/63 [==============================] - 0s 969us/step - loss: 0.2824 - accuracy: 0.8955 - val_loss: 0.4627 - val_accuracy: 0.8160\n",
      "Epoch 96/200\n",
      "63/63 [==============================] - 0s 932us/step - loss: 0.2809 - accuracy: 0.8955 - val_loss: 0.4636 - val_accuracy: 0.8120\n",
      "Epoch 97/200\n",
      "63/63 [==============================] - 0s 899us/step - loss: 0.2826 - accuracy: 0.8930 - val_loss: 0.4639 - val_accuracy: 0.8140\n",
      "Epoch 98/200\n",
      "63/63 [==============================] - 0s 1ms/step - loss: 0.2799 - accuracy: 0.8935 - val_loss: 0.4648 - val_accuracy: 0.8110\n",
      "Epoch 99/200\n",
      "63/63 [==============================] - 0s 919us/step - loss: 0.2789 - accuracy: 0.8985 - val_loss: 0.4650 - val_accuracy: 0.8120\n",
      "Epoch 100/200\n",
      "63/63 [==============================] - 0s 887us/step - loss: 0.2784 - accuracy: 0.8945 - val_loss: 0.4647 - val_accuracy: 0.8140\n",
      "Epoch 101/200\n",
      "63/63 [==============================] - 0s 999us/step - loss: 0.2783 - accuracy: 0.8980 - val_loss: 0.4647 - val_accuracy: 0.8080\n",
      "Epoch 102/200\n",
      "63/63 [==============================] - 0s 1ms/step - loss: 0.2782 - accuracy: 0.8970 - val_loss: 0.4645 - val_accuracy: 0.8130\n",
      "Epoch 103/200\n",
      "63/63 [==============================] - 0s 1ms/step - loss: 0.2770 - accuracy: 0.8980 - val_loss: 0.4648 - val_accuracy: 0.8120\n",
      "Epoch 104/200\n",
      "63/63 [==============================] - 0s 1ms/step - loss: 0.2771 - accuracy: 0.8970 - val_loss: 0.4663 - val_accuracy: 0.8160\n",
      "Epoch 105/200\n",
      "63/63 [==============================] - 0s 1ms/step - loss: 0.2771 - accuracy: 0.8970 - val_loss: 0.4649 - val_accuracy: 0.8130\n",
      "Epoch 106/200\n",
      "63/63 [==============================] - 0s 951us/step - loss: 0.2750 - accuracy: 0.9005 - val_loss: 0.4660 - val_accuracy: 0.8070\n",
      "Epoch 107/200\n",
      "63/63 [==============================] - 0s 853us/step - loss: 0.2758 - accuracy: 0.8985 - val_loss: 0.4674 - val_accuracy: 0.8140\n",
      "Epoch 108/200\n",
      "63/63 [==============================] - 0s 873us/step - loss: 0.2749 - accuracy: 0.8960 - val_loss: 0.4687 - val_accuracy: 0.8080\n",
      "Epoch 109/200\n",
      "63/63 [==============================] - 0s 904us/step - loss: 0.2752 - accuracy: 0.8990 - val_loss: 0.4673 - val_accuracy: 0.8130\n",
      "Epoch 110/200\n",
      "63/63 [==============================] - 0s 831us/step - loss: 0.2752 - accuracy: 0.8995 - val_loss: 0.4665 - val_accuracy: 0.8100\n",
      "Epoch 111/200\n",
      "63/63 [==============================] - 0s 928us/step - loss: 0.2739 - accuracy: 0.8985 - val_loss: 0.4677 - val_accuracy: 0.8100\n",
      "Epoch 112/200\n",
      "63/63 [==============================] - 0s 953us/step - loss: 0.2728 - accuracy: 0.9015 - val_loss: 0.4712 - val_accuracy: 0.8130\n",
      "Epoch 113/200\n",
      "63/63 [==============================] - 0s 968us/step - loss: 0.2719 - accuracy: 0.8980 - val_loss: 0.4705 - val_accuracy: 0.8140\n",
      "Epoch 114/200\n",
      "63/63 [==============================] - 0s 962us/step - loss: 0.2704 - accuracy: 0.9020 - val_loss: 0.4683 - val_accuracy: 0.8070\n",
      "Epoch 115/200\n"
     ]
    },
    {
     "name": "stdout",
     "output_type": "stream",
     "text": [
      "63/63 [==============================] - 0s 855us/step - loss: 0.2709 - accuracy: 0.9005 - val_loss: 0.4703 - val_accuracy: 0.8090\n",
      "Epoch 116/200\n",
      "63/63 [==============================] - 0s 868us/step - loss: 0.2720 - accuracy: 0.8980 - val_loss: 0.4683 - val_accuracy: 0.8130\n",
      "Epoch 117/200\n",
      "63/63 [==============================] - 0s 837us/step - loss: 0.2696 - accuracy: 0.9000 - val_loss: 0.4694 - val_accuracy: 0.8130\n",
      "Epoch 118/200\n",
      "63/63 [==============================] - 0s 908us/step - loss: 0.2691 - accuracy: 0.9000 - val_loss: 0.4743 - val_accuracy: 0.8100\n",
      "Epoch 119/200\n",
      "63/63 [==============================] - 0s 879us/step - loss: 0.2700 - accuracy: 0.9010 - val_loss: 0.4692 - val_accuracy: 0.8110\n",
      "Epoch 120/200\n",
      "63/63 [==============================] - 0s 871us/step - loss: 0.2693 - accuracy: 0.8985 - val_loss: 0.4695 - val_accuracy: 0.8100\n",
      "Epoch 121/200\n",
      "63/63 [==============================] - 0s 859us/step - loss: 0.2686 - accuracy: 0.9005 - val_loss: 0.4694 - val_accuracy: 0.8080\n",
      "Epoch 122/200\n",
      "63/63 [==============================] - 0s 864us/step - loss: 0.2696 - accuracy: 0.9030 - val_loss: 0.4701 - val_accuracy: 0.8070\n",
      "Epoch 123/200\n",
      "63/63 [==============================] - 0s 905us/step - loss: 0.2672 - accuracy: 0.9015 - val_loss: 0.4714 - val_accuracy: 0.8080\n",
      "Epoch 124/200\n",
      "63/63 [==============================] - 0s 923us/step - loss: 0.2676 - accuracy: 0.9025 - val_loss: 0.4721 - val_accuracy: 0.8130\n",
      "Epoch 125/200\n",
      "63/63 [==============================] - 0s 873us/step - loss: 0.2661 - accuracy: 0.9030 - val_loss: 0.4714 - val_accuracy: 0.8080\n",
      "Epoch 126/200\n",
      "63/63 [==============================] - 0s 956us/step - loss: 0.2663 - accuracy: 0.9040 - val_loss: 0.4711 - val_accuracy: 0.8100\n",
      "Epoch 127/200\n",
      "63/63 [==============================] - 0s 856us/step - loss: 0.2652 - accuracy: 0.9010 - val_loss: 0.4746 - val_accuracy: 0.8110\n",
      "Epoch 128/200\n",
      "63/63 [==============================] - 0s 913us/step - loss: 0.2656 - accuracy: 0.9015 - val_loss: 0.4720 - val_accuracy: 0.8060\n",
      "Epoch 129/200\n",
      "63/63 [==============================] - 0s 989us/step - loss: 0.2654 - accuracy: 0.9015 - val_loss: 0.4713 - val_accuracy: 0.8070\n",
      "Epoch 130/200\n",
      "63/63 [==============================] - 0s 871us/step - loss: 0.2649 - accuracy: 0.9040 - val_loss: 0.4735 - val_accuracy: 0.8050\n",
      "Epoch 131/200\n",
      "63/63 [==============================] - 0s 964us/step - loss: 0.2643 - accuracy: 0.9060 - val_loss: 0.4731 - val_accuracy: 0.8100\n",
      "Epoch 132/200\n",
      "63/63 [==============================] - 0s 1ms/step - loss: 0.2640 - accuracy: 0.9050 - val_loss: 0.4730 - val_accuracy: 0.8090\n",
      "Epoch 133/200\n",
      "63/63 [==============================] - 0s 936us/step - loss: 0.2629 - accuracy: 0.9050 - val_loss: 0.4729 - val_accuracy: 0.8070\n",
      "Epoch 134/200\n",
      "63/63 [==============================] - 0s 900us/step - loss: 0.2639 - accuracy: 0.9055 - val_loss: 0.4743 - val_accuracy: 0.8060\n",
      "Epoch 135/200\n",
      "63/63 [==============================] - 0s 888us/step - loss: 0.2618 - accuracy: 0.9050 - val_loss: 0.4754 - val_accuracy: 0.8140\n",
      "Epoch 136/200\n",
      "63/63 [==============================] - 0s 886us/step - loss: 0.2623 - accuracy: 0.9040 - val_loss: 0.4746 - val_accuracy: 0.8090\n",
      "Epoch 137/200\n",
      "63/63 [==============================] - 0s 936us/step - loss: 0.2614 - accuracy: 0.9045 - val_loss: 0.4750 - val_accuracy: 0.8050\n",
      "Epoch 138/200\n",
      "63/63 [==============================] - 0s 932us/step - loss: 0.2621 - accuracy: 0.9055 - val_loss: 0.4751 - val_accuracy: 0.8090\n",
      "Epoch 139/200\n",
      "63/63 [==============================] - 0s 906us/step - loss: 0.2618 - accuracy: 0.9040 - val_loss: 0.4754 - val_accuracy: 0.8100\n",
      "Epoch 140/200\n",
      "63/63 [==============================] - 0s 892us/step - loss: 0.2603 - accuracy: 0.9050 - val_loss: 0.4748 - val_accuracy: 0.8100\n",
      "Epoch 141/200\n",
      "63/63 [==============================] - 0s 918us/step - loss: 0.2596 - accuracy: 0.9055 - val_loss: 0.4761 - val_accuracy: 0.8110\n",
      "Epoch 142/200\n",
      "63/63 [==============================] - 0s 911us/step - loss: 0.2607 - accuracy: 0.9050 - val_loss: 0.4756 - val_accuracy: 0.8080\n",
      "Epoch 143/200\n",
      "63/63 [==============================] - 0s 923us/step - loss: 0.2596 - accuracy: 0.9060 - val_loss: 0.4772 - val_accuracy: 0.8130\n",
      "Epoch 144/200\n",
      "63/63 [==============================] - 0s 921us/step - loss: 0.2594 - accuracy: 0.9065 - val_loss: 0.4783 - val_accuracy: 0.8130\n",
      "Epoch 145/200\n",
      "63/63 [==============================] - 0s 965us/step - loss: 0.2580 - accuracy: 0.9035 - val_loss: 0.4769 - val_accuracy: 0.8070\n",
      "Epoch 146/200\n",
      "63/63 [==============================] - 0s 929us/step - loss: 0.2579 - accuracy: 0.9065 - val_loss: 0.4774 - val_accuracy: 0.8090\n",
      "Epoch 147/200\n",
      "63/63 [==============================] - 0s 940us/step - loss: 0.2579 - accuracy: 0.9075 - val_loss: 0.4782 - val_accuracy: 0.8130\n",
      "Epoch 148/200\n",
      "63/63 [==============================] - 0s 942us/step - loss: 0.2587 - accuracy: 0.9055 - val_loss: 0.4779 - val_accuracy: 0.8100\n",
      "Epoch 149/200\n",
      "63/63 [==============================] - 0s 894us/step - loss: 0.2568 - accuracy: 0.9085 - val_loss: 0.4782 - val_accuracy: 0.8110\n",
      "Epoch 150/200\n",
      "63/63 [==============================] - 0s 929us/step - loss: 0.2565 - accuracy: 0.9055 - val_loss: 0.4793 - val_accuracy: 0.8090\n",
      "Epoch 151/200\n",
      "63/63 [==============================] - 0s 870us/step - loss: 0.2560 - accuracy: 0.9095 - val_loss: 0.4797 - val_accuracy: 0.8090\n",
      "Epoch 152/200\n",
      "63/63 [==============================] - 0s 923us/step - loss: 0.2559 - accuracy: 0.9075 - val_loss: 0.4791 - val_accuracy: 0.8100\n",
      "Epoch 153/200\n",
      "63/63 [==============================] - 0s 957us/step - loss: 0.2558 - accuracy: 0.9060 - val_loss: 0.4803 - val_accuracy: 0.8130\n",
      "Epoch 154/200\n",
      "63/63 [==============================] - 0s 922us/step - loss: 0.2570 - accuracy: 0.9070 - val_loss: 0.4798 - val_accuracy: 0.8070\n",
      "Epoch 155/200\n",
      "63/63 [==============================] - 0s 896us/step - loss: 0.2564 - accuracy: 0.9065 - val_loss: 0.4814 - val_accuracy: 0.8100\n",
      "Epoch 156/200\n",
      "63/63 [==============================] - 0s 895us/step - loss: 0.2560 - accuracy: 0.9070 - val_loss: 0.4831 - val_accuracy: 0.8150\n",
      "Epoch 157/200\n",
      "63/63 [==============================] - 0s 931us/step - loss: 0.2549 - accuracy: 0.9105 - val_loss: 0.4811 - val_accuracy: 0.8130\n",
      "Epoch 158/200\n",
      "63/63 [==============================] - 0s 964us/step - loss: 0.2544 - accuracy: 0.9115 - val_loss: 0.4827 - val_accuracy: 0.8190\n",
      "Epoch 159/200\n",
      "63/63 [==============================] - 0s 996us/step - loss: 0.2542 - accuracy: 0.9095 - val_loss: 0.4825 - val_accuracy: 0.8150\n",
      "Epoch 160/200\n",
      "63/63 [==============================] - 0s 994us/step - loss: 0.2532 - accuracy: 0.9075 - val_loss: 0.4811 - val_accuracy: 0.8090\n",
      "Epoch 161/200\n",
      "63/63 [==============================] - 0s 863us/step - loss: 0.2530 - accuracy: 0.9080 - val_loss: 0.4813 - val_accuracy: 0.8070\n",
      "Epoch 162/200\n",
      "63/63 [==============================] - 0s 965us/step - loss: 0.2525 - accuracy: 0.9075 - val_loss: 0.4855 - val_accuracy: 0.8070\n",
      "Epoch 163/200\n",
      "63/63 [==============================] - 0s 952us/step - loss: 0.2528 - accuracy: 0.9080 - val_loss: 0.4850 - val_accuracy: 0.8190\n",
      "Epoch 164/200\n",
      "63/63 [==============================] - 0s 970us/step - loss: 0.2516 - accuracy: 0.9120 - val_loss: 0.4849 - val_accuracy: 0.8060\n",
      "Epoch 165/200\n",
      "63/63 [==============================] - 0s 895us/step - loss: 0.2518 - accuracy: 0.9100 - val_loss: 0.4838 - val_accuracy: 0.8140\n",
      "Epoch 166/200\n",
      "63/63 [==============================] - 0s 934us/step - loss: 0.2511 - accuracy: 0.9070 - val_loss: 0.4824 - val_accuracy: 0.8080\n",
      "Epoch 167/200\n",
      "63/63 [==============================] - 0s 934us/step - loss: 0.2504 - accuracy: 0.9095 - val_loss: 0.4835 - val_accuracy: 0.8080\n",
      "Epoch 168/200\n",
      "63/63 [==============================] - 0s 984us/step - loss: 0.2507 - accuracy: 0.9095 - val_loss: 0.4843 - val_accuracy: 0.8080\n",
      "Epoch 169/200\n",
      "63/63 [==============================] - 0s 977us/step - loss: 0.2508 - accuracy: 0.9120 - val_loss: 0.4844 - val_accuracy: 0.8050\n",
      "Epoch 170/200\n",
      "63/63 [==============================] - 0s 993us/step - loss: 0.2497 - accuracy: 0.9110 - val_loss: 0.4886 - val_accuracy: 0.8170\n",
      "Epoch 171/200\n"
     ]
    },
    {
     "name": "stdout",
     "output_type": "stream",
     "text": [
      "63/63 [==============================] - 0s 966us/step - loss: 0.2512 - accuracy: 0.9100 - val_loss: 0.4835 - val_accuracy: 0.8080\n",
      "Epoch 172/200\n",
      "63/63 [==============================] - 0s 1ms/step - loss: 0.2479 - accuracy: 0.9130 - val_loss: 0.4886 - val_accuracy: 0.8050\n",
      "Epoch 173/200\n",
      "63/63 [==============================] - 0s 1ms/step - loss: 0.2493 - accuracy: 0.9080 - val_loss: 0.4842 - val_accuracy: 0.8100\n",
      "Epoch 174/200\n",
      "63/63 [==============================] - 0s 998us/step - loss: 0.2485 - accuracy: 0.9130 - val_loss: 0.4875 - val_accuracy: 0.8170\n",
      "Epoch 175/200\n",
      "63/63 [==============================] - 0s 908us/step - loss: 0.2496 - accuracy: 0.9105 - val_loss: 0.4868 - val_accuracy: 0.8090\n",
      "Epoch 176/200\n",
      "63/63 [==============================] - 0s 949us/step - loss: 0.2491 - accuracy: 0.9105 - val_loss: 0.4860 - val_accuracy: 0.8100\n",
      "Epoch 177/200\n",
      "63/63 [==============================] - 0s 972us/step - loss: 0.2478 - accuracy: 0.9120 - val_loss: 0.4864 - val_accuracy: 0.8060\n",
      "Epoch 178/200\n",
      "63/63 [==============================] - 0s 896us/step - loss: 0.2482 - accuracy: 0.9075 - val_loss: 0.4863 - val_accuracy: 0.8080\n",
      "Epoch 179/200\n",
      "63/63 [==============================] - 0s 945us/step - loss: 0.2477 - accuracy: 0.9115 - val_loss: 0.4869 - val_accuracy: 0.8090\n",
      "Epoch 180/200\n",
      "63/63 [==============================] - 0s 1ms/step - loss: 0.2478 - accuracy: 0.9105 - val_loss: 0.4871 - val_accuracy: 0.8120\n",
      "Epoch 181/200\n",
      "63/63 [==============================] - 0s 1ms/step - loss: 0.2477 - accuracy: 0.9105 - val_loss: 0.4869 - val_accuracy: 0.8100\n",
      "Epoch 182/200\n",
      "63/63 [==============================] - 0s 989us/step - loss: 0.2461 - accuracy: 0.9145 - val_loss: 0.4884 - val_accuracy: 0.8070\n",
      "Epoch 183/200\n",
      "63/63 [==============================] - 0s 972us/step - loss: 0.2459 - accuracy: 0.9125 - val_loss: 0.4888 - val_accuracy: 0.8090\n",
      "Epoch 184/200\n",
      "63/63 [==============================] - 0s 975us/step - loss: 0.2466 - accuracy: 0.9115 - val_loss: 0.4893 - val_accuracy: 0.8070\n",
      "Epoch 185/200\n",
      "63/63 [==============================] - 0s 1ms/step - loss: 0.2461 - accuracy: 0.9105 - val_loss: 0.4891 - val_accuracy: 0.8090\n",
      "Epoch 186/200\n",
      "63/63 [==============================] - 0s 1ms/step - loss: 0.2456 - accuracy: 0.9125 - val_loss: 0.4908 - val_accuracy: 0.8090\n",
      "Epoch 187/200\n",
      "63/63 [==============================] - 0s 997us/step - loss: 0.2444 - accuracy: 0.9135 - val_loss: 0.4895 - val_accuracy: 0.8080\n",
      "Epoch 188/200\n",
      "63/63 [==============================] - 0s 1ms/step - loss: 0.2443 - accuracy: 0.9125 - val_loss: 0.4900 - val_accuracy: 0.8100\n",
      "Epoch 189/200\n",
      "63/63 [==============================] - 0s 1ms/step - loss: 0.2480 - accuracy: 0.9125 - val_loss: 0.4916 - val_accuracy: 0.8070\n",
      "Epoch 190/200\n",
      "63/63 [==============================] - 0s 981us/step - loss: 0.2461 - accuracy: 0.9120 - val_loss: 0.4927 - val_accuracy: 0.8130\n",
      "Epoch 191/200\n",
      "63/63 [==============================] - 0s 1ms/step - loss: 0.2442 - accuracy: 0.9130 - val_loss: 0.4913 - val_accuracy: 0.8120\n",
      "Epoch 192/200\n",
      "63/63 [==============================] - 0s 1ms/step - loss: 0.2437 - accuracy: 0.9160 - val_loss: 0.4901 - val_accuracy: 0.8090\n",
      "Epoch 193/200\n",
      "63/63 [==============================] - 0s 1ms/step - loss: 0.2434 - accuracy: 0.9125 - val_loss: 0.4913 - val_accuracy: 0.8080\n",
      "Epoch 194/200\n",
      "63/63 [==============================] - 0s 1ms/step - loss: 0.2424 - accuracy: 0.9140 - val_loss: 0.4955 - val_accuracy: 0.8100\n",
      "Epoch 195/200\n",
      "63/63 [==============================] - 0s 1ms/step - loss: 0.2434 - accuracy: 0.9150 - val_loss: 0.4924 - val_accuracy: 0.8110\n",
      "Epoch 196/200\n",
      "63/63 [==============================] - 0s 1ms/step - loss: 0.2424 - accuracy: 0.9125 - val_loss: 0.4931 - val_accuracy: 0.8110\n",
      "Epoch 197/200\n",
      "63/63 [==============================] - 0s 1ms/step - loss: 0.2429 - accuracy: 0.9095 - val_loss: 0.4926 - val_accuracy: 0.8080\n",
      "Epoch 198/200\n",
      "63/63 [==============================] - 0s 900us/step - loss: 0.2421 - accuracy: 0.9155 - val_loss: 0.4920 - val_accuracy: 0.8110\n",
      "Epoch 199/200\n",
      "63/63 [==============================] - 0s 922us/step - loss: 0.2416 - accuracy: 0.9130 - val_loss: 0.4929 - val_accuracy: 0.8100\n",
      "Epoch 200/200\n",
      "63/63 [==============================] - 0s 1000us/step - loss: 0.2411 - accuracy: 0.9125 - val_loss: 0.4925 - val_accuracy: 0.8120\n"
     ]
    },
    {
     "data": {
      "text/plain": [
       "<tensorflow.python.keras.callbacks.History at 0x7fecf447da90>"
      ]
     },
     "execution_count": 126,
     "metadata": {},
     "output_type": "execute_result"
    }
   ],
   "source": [
    "model.fit(x = train_images, \n",
    "                    y = train_labels, \n",
    "                    epochs=200, \n",
    "                    validation_data=(test_images,test_labels))"
   ]
  },
  {
   "cell_type": "code",
   "execution_count": 127,
   "metadata": {},
   "outputs": [],
   "source": [
    "loss_df = pd.DataFrame(model.history.history)"
   ]
  },
  {
   "cell_type": "code",
   "execution_count": 128,
   "metadata": {},
   "outputs": [
    {
     "data": {
      "text/plain": [
       "<matplotlib.axes._subplots.AxesSubplot at 0x7fecf44612e0>"
      ]
     },
     "execution_count": 128,
     "metadata": {},
     "output_type": "execute_result"
    },
    {
     "data": {
      "image/png": "[encoded data removed]",
      "text/plain": [
       "<Figure size 432x288 with 1 Axes>"
      ]
     },
     "metadata": {
      "needs_background": "light"
     },
     "output_type": "display_data"
    }
   ],
   "source": [
    "loss_df.plot()"
   ]
  },
  {
   "cell_type": "markdown",
   "metadata": {},
   "source": [
    "We see that over 20 epochs, the loss is not improving a lot so we keep epochs = 20."
   ]
  },
  {
   "cell_type": "code",
   "execution_count": 129,
   "metadata": {},
   "outputs": [
    {
     "name": "stdout",
     "output_type": "stream",
     "text": [
      "[0.49250203371047974, 0.8119999766349792]\n",
      "[0.2379283905029297, 0.9150000214576721]\n"
     ]
    }
   ],
   "source": [
    "print(model.evaluate(test_images, test_labels, verbose=0))\n",
    "print(model.evaluate(train_images, train_labels, verbose=0))"
   ]
  },
  {
   "cell_type": "code",
   "execution_count": 73,
   "metadata": {},
   "outputs": [],
   "source": [
    "test_predictions = model.predict(test_images)\n",
    "test_predictions = pd.Series(test_predictions.reshape(1000,))\n",
    "test_predictions = test_predictions.apply(lambda x: 1 if x >= 0.5 else 0)\n",
    "eval_df = pd.concat([pd.Series(test_labels), test_predictions], axis=1)\n",
    "eval_df.columns = ['Test True Y', 'Model Predictions']"
   ]
  },
  {
   "cell_type": "markdown",
   "metadata": {},
   "source": [
    "**Model Evaluation with RMSE**"
   ]
  },
  {
   "cell_type": "code",
   "execution_count": 74,
   "metadata": {},
   "outputs": [
    {
     "data": {
      "text/plain": [
       "0.4393176527297759"
      ]
     },
     "execution_count": 74,
     "metadata": {},
     "output_type": "execute_result"
    }
   ],
   "source": [
    "mean_squared_error(eval_df['Test True Y'], eval_df['Model Predictions'])**0.5"
   ]
  },
  {
   "cell_type": "markdown",
   "metadata": {},
   "source": [
    "**Creating and Training a Better Model**"
   ]
  },
  {
   "cell_type": "markdown",
   "metadata": {},
   "source": [
    "**Dealing with Overfitting and Evaluation**"
   ]
  },
  {
   "cell_type": "code",
   "execution_count": 130,
   "metadata": {},
   "outputs": [],
   "source": [
    "early_stop = EarlyStopping(monitor = 'val_loss', \n",
    "                           mode = 'min', \n",
    "                           verbose = 1, \n",
    "                           patience = 25)"
   ]
  },
  {
   "cell_type": "code",
   "execution_count": 131,
   "metadata": {},
   "outputs": [],
   "source": [
    "model2 = Sequential()\n",
    "\n",
    "model2.add(Dense(1, input_dim=784, activation = 'sigmoid'))\n",
    "\n",
    "model2.compile(loss='binary_crossentropy', \n",
    "               optimizer='adam', \n",
    "               metrics = ['accuracy'])"
   ]
  },
  {
   "cell_type": "code",
   "execution_count": 132,
   "metadata": {
    "scrolled": true
   },
   "outputs": [
    {
     "name": "stdout",
     "output_type": "stream",
     "text": [
      "Epoch 1/200\n",
      "63/63 [==============================] - 0s 2ms/step - loss: 0.5668 - accuracy: 0.7160 - val_loss: 0.4943 - val_accuracy: 0.7780\n",
      "Epoch 2/200\n",
      "63/63 [==============================] - 0s 860us/step - loss: 0.4539 - accuracy: 0.8045 - val_loss: 0.4717 - val_accuracy: 0.8030\n",
      "Epoch 3/200\n",
      "63/63 [==============================] - 0s 1ms/step - loss: 0.4335 - accuracy: 0.8115 - val_loss: 0.4638 - val_accuracy: 0.8100\n",
      "Epoch 4/200\n",
      "63/63 [==============================] - 0s 981us/step - loss: 0.4222 - accuracy: 0.8185 - val_loss: 0.4588 - val_accuracy: 0.8080\n",
      "Epoch 5/200\n",
      "63/63 [==============================] - 0s 1ms/step - loss: 0.4141 - accuracy: 0.8230 - val_loss: 0.4556 - val_accuracy: 0.8090\n",
      "Epoch 6/200\n",
      "63/63 [==============================] - 0s 1ms/step - loss: 0.4070 - accuracy: 0.8350 - val_loss: 0.4526 - val_accuracy: 0.8170\n",
      "Epoch 7/200\n",
      "63/63 [==============================] - 0s 1ms/step - loss: 0.4013 - accuracy: 0.8335 - val_loss: 0.4527 - val_accuracy: 0.8160\n",
      "Epoch 8/200\n",
      "63/63 [==============================] - 0s 1ms/step - loss: 0.3965 - accuracy: 0.8285 - val_loss: 0.4481 - val_accuracy: 0.8160\n",
      "Epoch 9/200\n",
      "63/63 [==============================] - 0s 971us/step - loss: 0.3908 - accuracy: 0.8410 - val_loss: 0.4487 - val_accuracy: 0.8190\n",
      "Epoch 10/200\n",
      "63/63 [==============================] - 0s 1ms/step - loss: 0.3874 - accuracy: 0.8400 - val_loss: 0.4466 - val_accuracy: 0.8150\n",
      "Epoch 11/200\n",
      "63/63 [==============================] - 0s 2ms/step - loss: 0.3830 - accuracy: 0.8455 - val_loss: 0.4469 - val_accuracy: 0.8180\n",
      "Epoch 12/200\n",
      "63/63 [==============================] - 0s 1ms/step - loss: 0.3789 - accuracy: 0.8410 - val_loss: 0.4482 - val_accuracy: 0.8200\n",
      "Epoch 13/200\n",
      "63/63 [==============================] - 0s 1ms/step - loss: 0.3763 - accuracy: 0.8485 - val_loss: 0.4470 - val_accuracy: 0.8130\n",
      "Epoch 14/200\n",
      "63/63 [==============================] - 0s 1ms/step - loss: 0.3736 - accuracy: 0.8525 - val_loss: 0.4488 - val_accuracy: 0.8130\n",
      "Epoch 15/200\n",
      "63/63 [==============================] - 0s 920us/step - loss: 0.3706 - accuracy: 0.8505 - val_loss: 0.4452 - val_accuracy: 0.8220\n",
      "Epoch 16/200\n",
      "63/63 [==============================] - 0s 958us/step - loss: 0.3680 - accuracy: 0.8520 - val_loss: 0.4446 - val_accuracy: 0.8180\n",
      "Epoch 17/200\n",
      "63/63 [==============================] - 0s 1ms/step - loss: 0.3654 - accuracy: 0.8555 - val_loss: 0.4448 - val_accuracy: 0.8180\n",
      "Epoch 18/200\n",
      "63/63 [==============================] - 0s 1ms/step - loss: 0.3643 - accuracy: 0.8505 - val_loss: 0.4450 - val_accuracy: 0.8190\n",
      "Epoch 19/200\n",
      "63/63 [==============================] - 0s 958us/step - loss: 0.3607 - accuracy: 0.8575 - val_loss: 0.4450 - val_accuracy: 0.8240\n",
      "Epoch 20/200\n",
      "63/63 [==============================] - 0s 987us/step - loss: 0.3586 - accuracy: 0.8615 - val_loss: 0.4469 - val_accuracy: 0.8140\n",
      "Epoch 21/200\n",
      "63/63 [==============================] - 0s 1ms/step - loss: 0.3589 - accuracy: 0.8565 - val_loss: 0.4481 - val_accuracy: 0.8190\n",
      "Epoch 22/200\n",
      "63/63 [==============================] - 0s 1ms/step - loss: 0.3563 - accuracy: 0.8585 - val_loss: 0.4457 - val_accuracy: 0.8220\n",
      "Epoch 23/200\n",
      "63/63 [==============================] - 0s 976us/step - loss: 0.3530 - accuracy: 0.8605 - val_loss: 0.4456 - val_accuracy: 0.8240\n",
      "Epoch 24/200\n",
      "63/63 [==============================] - 0s 979us/step - loss: 0.3518 - accuracy: 0.8575 - val_loss: 0.4455 - val_accuracy: 0.8180\n",
      "Epoch 25/200\n",
      "63/63 [==============================] - 0s 1ms/step - loss: 0.3503 - accuracy: 0.8605 - val_loss: 0.4479 - val_accuracy: 0.8180\n",
      "Epoch 26/200\n",
      "63/63 [==============================] - 0s 1ms/step - loss: 0.3465 - accuracy: 0.8625 - val_loss: 0.4474 - val_accuracy: 0.8200\n",
      "Epoch 27/200\n",
      "63/63 [==============================] - 0s 1ms/step - loss: 0.3461 - accuracy: 0.8590 - val_loss: 0.4489 - val_accuracy: 0.8240\n",
      "Epoch 28/200\n",
      "63/63 [==============================] - 0s 977us/step - loss: 0.3436 - accuracy: 0.8685 - val_loss: 0.4506 - val_accuracy: 0.8200\n",
      "Epoch 29/200\n",
      "63/63 [==============================] - 0s 1ms/step - loss: 0.3427 - accuracy: 0.8610 - val_loss: 0.4501 - val_accuracy: 0.8230\n",
      "Epoch 30/200\n",
      "63/63 [==============================] - 0s 1ms/step - loss: 0.3420 - accuracy: 0.8655 - val_loss: 0.4470 - val_accuracy: 0.8180\n",
      "Epoch 31/200\n",
      "63/63 [==============================] - 0s 2ms/step - loss: 0.3393 - accuracy: 0.8665 - val_loss: 0.4473 - val_accuracy: 0.8190\n",
      "Epoch 32/200\n",
      "63/63 [==============================] - 0s 1ms/step - loss: 0.3379 - accuracy: 0.8660 - val_loss: 0.4467 - val_accuracy: 0.8200\n",
      "Epoch 33/200\n",
      "63/63 [==============================] - 0s 1ms/step - loss: 0.3365 - accuracy: 0.8680 - val_loss: 0.4471 - val_accuracy: 0.8150\n",
      "Epoch 34/200\n",
      "63/63 [==============================] - 0s 918us/step - loss: 0.3352 - accuracy: 0.8690 - val_loss: 0.4480 - val_accuracy: 0.8200\n",
      "Epoch 35/200\n",
      "63/63 [==============================] - 0s 1ms/step - loss: 0.3342 - accuracy: 0.8690 - val_loss: 0.4478 - val_accuracy: 0.8170\n",
      "Epoch 36/200\n",
      "63/63 [==============================] - 0s 1ms/step - loss: 0.3354 - accuracy: 0.8640 - val_loss: 0.4490 - val_accuracy: 0.8200\n",
      "Epoch 37/200\n",
      "63/63 [==============================] - 0s 1ms/step - loss: 0.3315 - accuracy: 0.8670 - val_loss: 0.4499 - val_accuracy: 0.8230\n",
      "Epoch 38/200\n",
      "63/63 [==============================] - 0s 1ms/step - loss: 0.3309 - accuracy: 0.8680 - val_loss: 0.4498 - val_accuracy: 0.8240\n",
      "Epoch 39/200\n",
      "63/63 [==============================] - 0s 1ms/step - loss: 0.3288 - accuracy: 0.8690 - val_loss: 0.4480 - val_accuracy: 0.8160\n",
      "Epoch 40/200\n",
      "63/63 [==============================] - 0s 959us/step - loss: 0.3263 - accuracy: 0.8725 - val_loss: 0.4508 - val_accuracy: 0.8160\n",
      "Epoch 41/200\n",
      "63/63 [==============================] - 0s 977us/step - loss: 0.3294 - accuracy: 0.8705 - val_loss: 0.4491 - val_accuracy: 0.8180\n",
      "Epoch 00041: early stopping\n"
     ]
    },
    {
     "data": {
      "text/plain": [
       "<tensorflow.python.keras.callbacks.History at 0x7fecf410e4c0>"
      ]
     },
     "execution_count": 132,
     "metadata": {},
     "output_type": "execute_result"
    }
   ],
   "source": [
    "model2.fit(x = train_images, \n",
    "           y = train_labels, \n",
    "           epochs = 200, \n",
    "           validation_data=(test_images, test_labels),\n",
    "           callbacks = [early_stop])"
   ]
  },
  {
   "cell_type": "code",
   "execution_count": 133,
   "metadata": {},
   "outputs": [
    {
     "data": {
      "text/plain": [
       "<matplotlib.axes._subplots.AxesSubplot at 0x7fecf40aec70>"
      ]
     },
     "execution_count": 133,
     "metadata": {},
     "output_type": "execute_result"
    },
    {
     "data": {
      "image/png": "[encoded data removed]",
      "text/plain": [
       "<Figure size 432x288 with 1 Axes>"
      ]
     },
     "metadata": {
      "needs_background": "light"
     },
     "output_type": "display_data"
    }
   ],
   "source": [
    "loss_df2 = pd.DataFrame(model2.history.history)\n",
    "loss_df2.plot()"
   ]
  },
  {
   "cell_type": "code",
   "execution_count": 134,
   "metadata": {},
   "outputs": [
    {
     "name": "stdout",
     "output_type": "stream",
     "text": [
      "[0.4490884840488434, 0.8180000185966492]\n",
      "[0.32193514704704285, 0.8755000233650208]\n"
     ]
    }
   ],
   "source": [
    "print(model2.evaluate(test_images, test_labels, verbose=0))\n",
    "print(model2.evaluate(train_images, train_labels, verbose=0))"
   ]
  },
  {
   "cell_type": "code",
   "execution_count": 149,
   "metadata": {},
   "outputs": [],
   "source": [
    "test_predictions = model2.predict(test_images)\n",
    "test_predictions = pd.Series(test_predictions.reshape(1000,))\n",
    "test_predictions = test_predictions.apply(lambda x: 1 if x >= 0.5 else 0)\n",
    "eval_df = pd.concat([pd.Series(test_labels), test_predictions], axis=1)\n",
    "eval_df.columns = ['Test True Y', 'Model Predictions']"
   ]
  },
  {
   "cell_type": "markdown",
   "metadata": {},
   "source": [
    "**Model Evaluation with RMSE**"
   ]
  },
  {
   "cell_type": "code",
   "execution_count": 150,
   "metadata": {},
   "outputs": [
    {
     "data": {
      "text/plain": [
       "0.4266145801540308"
      ]
     },
     "execution_count": 150,
     "metadata": {},
     "output_type": "execute_result"
    }
   ],
   "source": [
    "mean_squared_error(eval_df['Test True Y'], eval_df['Model Predictions'])**0.5"
   ]
  },
  {
   "cell_type": "code",
   "execution_count": 151,
   "metadata": {},
   "outputs": [
    {
     "data": {
      "image/png": "[encoded data removed]",
      "text/plain": [
       "<Figure size 432x288 with 1 Axes>"
      ]
     },
     "metadata": {
      "needs_background": "light"
     },
     "output_type": "display_data"
    }
   ],
   "source": [
    "fpr, tpr, _ = roc_curve(test_labels, test_predictions)\n",
    "roc_auc = auc(fpr, tpr)\n",
    "plt.figure()\n",
    "lw = 2\n",
    "plt.plot(fpr, tpr, color='darkorange',\n",
    "         lw=lw, label='ROC curve (area = %0.2f)' % roc_auc)\n",
    "plt.plot([0, 1], [0, 1], color='navy', lw=lw, linestyle='--')\n",
    "plt.xlim([0.0, 1.0])\n",
    "plt.ylim([0.0, 1.05])\n",
    "plt.xlabel('False Positive Rate')\n",
    "plt.ylabel('True Positive Rate')\n",
    "plt.title('Receiver operating characteristic example')\n",
    "plt.legend(loc=\"lower right\")\n",
    "plt.show()"
   ]
  },
  {
   "cell_type": "code",
   "execution_count": 152,
   "metadata": {},
   "outputs": [
    {
     "name": "stdout",
     "output_type": "stream",
     "text": [
      "              precision    recall  f1-score   support\n",
      "\n",
      "           0       0.83      0.81      0.82       500\n",
      "           1       0.81      0.83      0.82       500\n",
      "\n",
      "    accuracy                           0.82      1000\n",
      "   macro avg       0.82      0.82      0.82      1000\n",
      "weighted avg       0.82      0.82      0.82      1000\n",
      "\n"
     ]
    }
   ],
   "source": [
    "print(classification_report(test_labels, test_predictions))"
   ]
  },
  {
   "cell_type": "code",
   "execution_count": 117,
   "metadata": {},
   "outputs": [
    {
     "name": "stdout",
     "output_type": "stream",
     "text": [
      "[[416  84]\n",
      " [100 400]]\n"
     ]
    }
   ],
   "source": [
    "print(confusion_matrix(test_labels, test_predictions))"
   ]
  }
 ],
 "metadata": {
  "kernelspec": {
   "display_name": "Python 3",
   "language": "python",
   "name": "python3"
  },
  "language_info": {
   "codemirror_mode": {
    "name": "ipython",
    "version": 3
   },
   "file_extension": ".py",
   "mimetype": "text/x-python",
   "name": "python",
   "nbconvert_exporter": "python",
   "pygments_lexer": "ipython3",
   "version": "3.8.5"
  }
 },
 "nbformat": 4,
 "nbformat_minor": 4
}
